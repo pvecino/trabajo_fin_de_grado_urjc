{
 "cells": [
  {
   "cell_type": "code",
   "execution_count": 1,
   "metadata": {},
   "outputs": [],
   "source": [
    "# numerical computation\n",
    "import numpy as np\n",
    "import itertools\n",
    "from random import randint\n",
    "\n",
    "\n",
    "# import sklearn\n",
    "\n",
    "from sklearn.svm import SVC\n",
    "from sklearn.multiclass import OneVsRestClassifier\n",
    "from sklearn.preprocessing import StandardScaler\n",
    "\n",
    "from sklearn.model_selection import KFold\n",
    "from sklearn.metrics import confusion_matrix\n",
    "from sklearn.metrics import accuracy_score\n",
    "from sklearn.metrics import precision_score\n",
    "from sklearn.metrics import recall_score\n",
    "from sklearn.metrics import f1_score\n",
    "from sklearn.metrics import hamming_loss\n",
    "from sklearn.model_selection import GridSearchCV\n",
    "\n",
    "\n",
    "# dataframe management\n",
    "import pandas as pd\n",
    "\n",
    "from sklearn.exceptions import DataConversionWarning\n",
    "import warnings\n",
    "warnings.simplefilter(action='ignore', category=FutureWarning)\n",
    "warnings.simplefilter(action='ignore', category=DeprecationWarning)\n",
    "warnings.simplefilter(action='ignore', category=UserWarning)\n",
    "warnings.simplefilter(action='ignore', category=DataConversionWarning)\n",
    "\n"
   ]
  },
  {
   "cell_type": "markdown",
   "metadata": {},
   "source": [
    "## Funciones a utilizar"
   ]
  },
  {
   "cell_type": "code",
   "execution_count": 2,
   "metadata": {},
   "outputs": [],
   "source": [
    "def opened (path=''):\n",
    "    \n",
    "    X_training=[]\n",
    "    X_testing=[]\n",
    "    y_training=[]\n",
    "    y_testing=[]\n",
    "           \n",
    "    for j in range(0, 50):\n",
    "        X_training.append(pd.read_csv('test_train_dataset{}{}_X_train.csv'.format(path,j)))\n",
    "        X_testing.append(pd.read_csv('test_train_dataset{}{}_X_test.csv'.format(path, j)))\n",
    "        y_training.append(pd.read_csv('test_train_dataset{}{}_y_train.csv'.format(path, j)))\n",
    "        y_testing.append(pd.read_csv('test_train_dataset{}{}_y_test.csv'.format(path, j)))\n",
    "        \n",
    "    return X_training, X_testing, y_training, y_testing"
   ]
  },
  {
   "cell_type": "code",
   "execution_count": 3,
   "metadata": {},
   "outputs": [],
   "source": [
    "def frequency (valor):\n",
    "    max = 0\n",
    "    res = list(valor)[0] \n",
    "    for i in list(valor): \n",
    "        freq = list(valor).count(i) \n",
    "        if freq > max: \n",
    "            max = freq \n",
    "            res = i \n",
    "    valor = res\n",
    "    return valor"
   ]
  },
  {
   "cell_type": "code",
   "execution_count": 4,
   "metadata": {},
   "outputs": [],
   "source": [
    "def maximun (df, name):\n",
    "    maximun = df.sort_values(by='accuracy_model',ascending=False).head(n=1)\n",
    "    best = list(maximun[name])[0]\n",
    "    return best"
   ]
  },
  {
   "cell_type": "markdown",
   "metadata": {},
   "source": [
    "#  Aplicación del algoritmo SVM Clasificador no lineal.\n"
   ]
  },
  {
   "cell_type": "code",
   "execution_count": 5,
   "metadata": {},
   "outputs": [],
   "source": [
    "def hyper_SVM(path, features, name, multiclass=False):\n",
    "    \n",
    "    x_train, x_test, y_train, y_test = opened(path=path)\n",
    "    print('Terminada la apertura de BBDD')\n",
    "    \n",
    "    A1 = [i for i in (10.0 ** -np.arange(-1, 4))]\n",
    "    A2 = [i for i in (0.25*10.0 ** -np.arange(-1, 3))]\n",
    "    A3 = [i for i in (0.5*10.0 ** -np.arange(-1, 3))]\n",
    "    A4 = [i for i in (0.75*10.0 ** -np.arange(-1, 3))]\n",
    "    turn_c = sorted(A1+A2+A3+A4)\n",
    "    turn_c[7] = 0.075\n",
    "    \n",
    "    turn_gamma = np.logspace(-9, 3, 13)\n",
    "    \n",
    "    if multiclass==True:\n",
    "        model_to_set = SVC(kernel='rbf')\n",
    "        c='C'\n",
    "        gamma='gamma'\n",
    "    else:\n",
    "        model_to_set = OneVsRestClassifier(SVC(kernel='rbf'))\n",
    "        c='estimator__C'\n",
    "        gamma='estimator__gamma'\n",
    "        \n",
    "    param_grid = [\n",
    "            {\n",
    "                c : turn_c, \n",
    "                gamma:turn_gamma\n",
    "            }\n",
    "           ]\n",
    "\n",
    "    SVM_evaluate=[]\n",
    "    SVM_acc_model=[]\n",
    "    SVM_error=[]\n",
    "    SVM_std=[]\n",
    "\n",
    "\n",
    "    mean=[]\n",
    "    std=[]\n",
    "    best_c=[]\n",
    "    best_gamma=[]\n",
    "    \n",
    "    print('Empezamos a buscar los méjores parámetros')\n",
    "    \n",
    "    for j in range(0, 50):\n",
    "        \n",
    "        droping=pd.concat([x_train[j][features], y_train[j]], axis=1,sort=False)\n",
    "        droping=droping.drop_duplicates(subset=features, keep=False)\n",
    "        xtrain= droping[features]\n",
    "        if multiclass==True:\n",
    "            ytrain=droping['CRG']\n",
    "        else:\n",
    "            ytrain=droping[['HP', 'Diabetes', 'Otros']]\n",
    "        \n",
    "        print('Particion: ', j)\n",
    "\n",
    "    #Normalizamos x_test y x_train con la misma media y variancia que x_train\n",
    "        ss=StandardScaler()\n",
    "        ss.fit(xtrain)\n",
    "        ss_train=ss.transform(xtrain)\n",
    "\n",
    "    #Buscamos los mejores parametros para esa división normalizada\n",
    "        clf = GridSearchCV(model_to_set, param_grid, scoring='accuracy', \n",
    "                               cv=KFold(n_splits=5), n_jobs=-1)\n",
    "        if multiclass==True:\n",
    "            y_training = ytrain.values.ravel()\n",
    "        else:\n",
    "            y_training = ytrain\n",
    "        \n",
    "        clf.fit(ss_train,y_training)\n",
    "\n",
    "    #Evaluamos el algortimo teniendo en cuenta que para la función GridSearchCV test es nuestro train\n",
    "        best_index_Acc = np.nonzero(clf.cv_results_['rank_test_score'] == 1)[0][0]\n",
    "        best_c.append(clf.best_params_[c])\n",
    "        best_gamma.append(clf.best_params_[gamma])\n",
    "\n",
    "        SVM_acc_model.append(clf.cv_results_['mean_test_score'][best_index_Acc])\n",
    "        SVM_std.append(clf.cv_results_['std_test_score'][best_index_Acc])\n",
    "\n",
    "        SVM_evaluate.append([best_c[j],best_gamma[j], round(SVM_acc_model[j],3), \n",
    "                             round(SVM_std[j],3)])\n",
    "        \n",
    "    labels_comp = ['c','gamma','accuracy_model', 'std']\n",
    "\n",
    "    comparacion=pd.DataFrame(data=SVM_evaluate, columns = labels_comp)\n",
    "\n",
    "    comparacion.to_csv('results/SVM_OvR/SVM_OvR_hyper_{}.csv'.format(name), index=False)\n",
    "\n",
    "    "
   ]
  },
  {
   "cell_type": "code",
   "execution_count": 6,
   "metadata": {
    "scrolled": true
   },
   "outputs": [],
   "source": [
    "def predict_SVM(path, features, name, multiclass=False):\n",
    "    \n",
    "    x_train, x_test, y_train, y_test = opened(path=path)\n",
    "    print('Terminada la apertura de BBDD')\n",
    "    \n",
    "    comparacion=pd.read_csv('results/SVM_OvR/SVM_OvR_hyper_{}.csv'.format(name))\n",
    "    \n",
    "    Best_C = (maximun(comparacion, 'c'))\n",
    "    print('C: ', Best_C)\n",
    "    Best_Gamma = (maximun(comparacion, 'gamma'))\n",
    "    print('Gamma: ', Best_Gamma)\n",
    "    \n",
    "    print('Con los parámetros óptimos procedemos a clasificar.')\n",
    "    \n",
    "    accuracy=[]\n",
    "    hamming_loss=[]\n",
    "    precision_macro=[]\n",
    "    precision_micro=[]\n",
    "    recall_macro=[]\n",
    "    recall_micro=[]\n",
    "    f1_scores_macro=[]\n",
    "    f1_scores_micro=[]\n",
    "    \n",
    "    average_accuracy=[]\n",
    "    average_precision=[]\n",
    "    average_recall=[]\n",
    "    f1_scores=[]\n",
    "    \n",
    "    if multiclass==True:\n",
    "        model = SVC(kernel='rbf', C= Best_C, gamma= Best_Gamma)\n",
    "    else:\n",
    "        model= OneVsRestClassifier(SVC(kernel='rbf', C= Best_C, gamma= Best_Gamma))\n",
    "    \n",
    "    for i in range(0,50):\n",
    "        \n",
    "        droping_train=pd.concat([x_train[i][features], y_train[i]], axis=1,sort=False)\n",
    "        droping_train=droping_train.drop_duplicates(subset=features, keep=False)\n",
    "        xtrain= droping_train[features]\n",
    "        if multiclass==True:\n",
    "            ytrain=droping_train['CRG']\n",
    "        else:\n",
    "            ytrain=droping_train[['HP', 'Diabetes', 'Otros']]\n",
    "\n",
    "        droping_test=pd.concat([x_test[i][features], y_test[i]], axis=1,sort=False)\n",
    "        droping=droping_test.drop_duplicates(subset=features, keep=False)\n",
    "        xtest= droping_test[features]\n",
    "        if multiclass==True:\n",
    "            ytest=droping_test['CRG']\n",
    "        else:\n",
    "            ytest=droping_test[['HP', 'Diabetes', 'Otros']]\n",
    "        \n",
    "        ss=StandardScaler()\n",
    "        ss.fit(xtrain)\n",
    "        ss_train=ss.transform(xtrain)\n",
    "        ss_test=ss.transform(xtest)\n",
    "\n",
    "        clf= model\n",
    "        \n",
    "        if multiclass==True:\n",
    "            y_training = ytrain.values.ravel()\n",
    "        else:\n",
    "            y_training = ytrain\n",
    "               \n",
    "        clf.fit(ss_train,y_training)\n",
    "\n",
    "    #Predecimos el algoritmo con el mejor K\n",
    "        y_true, y_pred = ytest, clf.predict(ss_test)\n",
    "\n",
    "\n",
    "        if multiclass==False:\n",
    "            accuracy.append(accuracy_score(y_true, y_pred))\n",
    "            #hamming_loss.append(hamming_loss(y_true, y_pred))\n",
    "            precision_macro.append(precision_score(y_true,y_pred, average='macro'))\n",
    "            precision_micro.append(precision_score(y_true,y_pred, average='micro'))\n",
    "            recall_macro.append(recall_score(y_true, y_pred, average='macro'))\n",
    "            recall_micro.append(recall_score(y_true, y_pred, average='micro'))\n",
    "            f1_scores_macro.append(f1_score(y_true, y_pred, average='macro'))\n",
    "            f1_scores_micro.append(f1_score(y_true, y_pred, average='micro'))\n",
    "        else:\n",
    "            cm = confusion_matrix(y_true,y_pred)\n",
    "            TP = np.diag(cm)\n",
    "            FP = np.sum(cm, axis=0) - TP\n",
    "            FN = np.sum(cm, axis=1) - TP\n",
    "            #num_classes = len(TP)\n",
    "            #TN = []\n",
    "            #for i in range(num_classes):\n",
    "            #    temp = np.delete(cm, i, 0)    # delete ith row\n",
    "            #    temp = np.delete(temp, i, 1)  # delete ith column\n",
    "            #    TN.append(sum(sum(temp)))\n",
    "\n",
    "            precision=TP / (TP + FP)\n",
    "            recall=TP / (TP + FN)\n",
    "\n",
    "            average_precision.append(np.mean(TP / (TP + FP)))\n",
    "            average_recall.append(np.mean(TP / (TP + FN)))\n",
    "            f1_scores.append(np.mean(2*(precision*recall)/(precision+recall)))\n",
    "            average_accuracy.append(accuracy_score(y_true, y_pred))\n",
    "        \n",
    "    predict=pd.DataFrame()\n",
    "    if multiclass==False:\n",
    "        predict['accuracy']=accuracy\n",
    "        #predict['hamming_loss'] = hamming_loss\n",
    "        predict['precision_macro']=precision_macro\n",
    "        predict['precision_micro']=precision_micro\n",
    "        predict['recall_macro']=recall_macro\n",
    "        predict['recall_micro']=recall_micro\n",
    "        predict['f1_macro']=f1_scores_macro\n",
    "        predict['f1_micro']=f1_scores_micro\n",
    "    else:\n",
    "        predict['accuracy']=average_accuracy\n",
    "        predict['precision']=average_precision\n",
    "        predict['recall']=average_recall\n",
    "        predict['f1']=f1_scores\n",
    "    \n",
    "    predict.to_csv('results/SVM_OvR/SVM_OvR_predict_{}.csv'.format(name), index=False)\n",
    "    "
   ]
  },
  {
   "cell_type": "code",
   "execution_count": null,
   "metadata": {},
   "outputs": [],
   "source": []
  },
  {
   "cell_type": "markdown",
   "metadata": {},
   "source": [
    "## Bucles para las diferentes ejecuciones"
   ]
  },
  {
   "cell_type": "code",
   "execution_count": 7,
   "metadata": {},
   "outputs": [],
   "source": [
    "import os.path as path"
   ]
  },
  {
   "cell_type": "markdown",
   "metadata": {},
   "source": [
    "### Seleccion de caracteristicas: Frecuencia"
   ]
  },
  {
   "cell_type": "code",
   "execution_count": 8,
   "metadata": {},
   "outputs": [],
   "source": [
    "names = ['ocurrencia_all', 'ocurrencia_ill', 'presencia_all', 'presencia_ill'] \n",
    "features_freq = []\n",
    "for n in names:\n",
    "    with open(\"feature_selection/freq_{}.txt\".format(n), \"r\") as file:\n",
    "        features_freq.append(eval(file.readline()))"
   ]
  },
  {
   "cell_type": "code",
   "execution_count": 9,
   "metadata": {},
   "outputs": [],
   "source": [
    "paths_CLASS = ['/class/O_WC_A_','/class/O_WC_WO_' , '/class/P_WC_A_', '/class/P_WC_WO_']\n",
    "names_CLASS_fr=['freq_all_class_O', 'freq_ill_class_O', 'freq_all_class_P', 'freq_ill_class_P']"
   ]
  },
  {
   "cell_type": "code",
   "execution_count": 10,
   "metadata": {
    "scrolled": true
   },
   "outputs": [
    {
     "name": "stdout",
     "output_type": "stream",
     "text": [
      "Ya existe el hyperparametro: freq_all_class_O\n",
      "Ya existe los resultados: freq_all_class_O\n",
      "Ya existe el hyperparametro: freq_ill_class_O\n",
      "Ya existe los resultados: freq_ill_class_O\n",
      "Ya existe el hyperparametro: freq_all_class_P\n",
      "Ya existe los resultados: freq_all_class_P\n",
      "Ya existe el hyperparametro: freq_ill_class_P\n",
      "Ya existe los resultados: freq_ill_class_P\n"
     ]
    }
   ],
   "source": [
    "for p, n, f in zip(paths_CLASS, names_CLASS_fr, features_freq):\n",
    "    if path.exists('results/SVM_OvR/SVM_OvR_hyper_{}.csv'.format(n)): \n",
    "        print('Ya existe el hyperparametro:', n)\n",
    "    else:\n",
    "        hyper_SVM(p, f, n, True)\n",
    "        print()\n",
    "        print('--------------------------------------------------------')\n",
    "        print()\n",
    "    \n",
    "    if path.exists('results/SVM_OvR/SVM_OvR_predict_{}.csv'.format(n)): \n",
    "        print('Ya existe los resultados:', n)\n",
    "    else:\n",
    "        predict_SVM(p, f, n, True)\n",
    "        print()\n",
    "        print('--------------------------------------------------------')\n",
    "        print()"
   ]
  },
  {
   "cell_type": "code",
   "execution_count": 11,
   "metadata": {},
   "outputs": [],
   "source": [
    "paths_LABEL = ['/label/O_WL_A_','/label/O_WL_WO_' , '/label/P_WL_A_', '/label/P_WL_WO_']\n",
    "names_LABEL_fr=['freq_all_label_O', 'freq_ill_label_O', 'freq_all_label_P', 'freq_ill_label_P']"
   ]
  },
  {
   "cell_type": "code",
   "execution_count": 12,
   "metadata": {
    "scrolled": true
   },
   "outputs": [
    {
     "name": "stdout",
     "output_type": "stream",
     "text": [
      "Ya existe el hyperparametro: freq_all_label_O\n",
      "Ya existe los resultados: freq_all_label_O\n",
      "Ya existe el hyperparametro: freq_ill_label_O\n",
      "Ya existe los resultados: freq_ill_label_O\n",
      "Ya existe el hyperparametro: freq_all_label_P\n",
      "Ya existe los resultados: freq_all_label_P\n",
      "Ya existe el hyperparametro: freq_ill_label_P\n",
      "Ya existe los resultados: freq_ill_label_P\n"
     ]
    }
   ],
   "source": [
    "for p, n, f in zip(paths_LABEL, names_LABEL_fr, features_freq):\n",
    "    if path.exists('results/SVM_OvR/SVM_OvR_hyper_{}.csv'.format(n)): \n",
    "        print('Ya existe el hyperparametro:', n)\n",
    "    else:\n",
    "        hyper_SVM(p, freq_features_illness, n, b)\n",
    "        print()\n",
    "        print('--------------------------------------------------------')\n",
    "        print()\n",
    "    \n",
    "    if path.exists('results/SVM_OvR/SVM_OvR_predict_{}.csv'.format(n)): \n",
    "        print('Ya existe los resultados:', n)\n",
    "    else:\n",
    "        predict_SVM(p, freq_features_illness, n, b)\n",
    "        print()\n",
    "        print('--------------------------------------------------------')\n",
    "        print()"
   ]
  },
  {
   "cell_type": "markdown",
   "metadata": {},
   "source": [
    "### Selección de Caracteriticas: Random Forest"
   ]
  },
  {
   "cell_type": "code",
   "execution_count": 13,
   "metadata": {},
   "outputs": [],
   "source": [
    "names=['label_o_all','label_o_ill', 'label_p_all', 'label_p_ill']\n",
    "features_rf_label = []\n",
    "for n in names:\n",
    "    with open(\"feature_selection/rf_{}.txt\".format(n), \"r\") as file:\n",
    "        features_rf_label.append(eval(file.readline()))"
   ]
  },
  {
   "cell_type": "code",
   "execution_count": 14,
   "metadata": {},
   "outputs": [],
   "source": [
    "path_label= ['/label/O_WL_A_', '/label/O_WL_WO_', '/label/P_WL_A_', '/label/P_WL_WO_']\n",
    "names_label_rf=['rf_all_label_O','rf_ill_label_O', 'rf_all_label_P', 'rf_ill_label_P']"
   ]
  },
  {
   "cell_type": "code",
   "execution_count": 15,
   "metadata": {},
   "outputs": [
    {
     "name": "stdout",
     "output_type": "stream",
     "text": [
      "Ya existe el hyperparametro: rf_all_label_O\n",
      "Ya existe los resultados: rf_all_label_O\n",
      "Ya existe el hyperparametro: rf_ill_label_O\n",
      "Ya existe los resultados: rf_ill_label_O\n",
      "Ya existe el hyperparametro: rf_all_label_P\n",
      "Ya existe los resultados: rf_all_label_P\n",
      "Ya existe el hyperparametro: rf_ill_label_P\n",
      "Ya existe los resultados: rf_ill_label_P\n"
     ]
    }
   ],
   "source": [
    "for p, n, f in zip(path_label, names_label_rf, features_rf_label):\n",
    "    if path.exists('results/SVM_OvR/SVM_OvR_hyper_{}.csv'.format(n)): \n",
    "        print('Ya existe el hyperparametro:', n)\n",
    "    else:\n",
    "        hyper_SVM(p, f, n)\n",
    "        print()\n",
    "        print('--------------------------------------------------------')\n",
    "        print()\n",
    "    \n",
    "    if path.exists('results/SVM_OvR/SVM_OvR_predict_{}.csv'.format(n)): \n",
    "        print('Ya existe los resultados:', n)\n",
    "    else:\n",
    "        predict_SVM(p, f, n)\n",
    "        print()\n",
    "        print('--------------------------------------------------------')\n",
    "        print()"
   ]
  },
  {
   "cell_type": "code",
   "execution_count": 16,
   "metadata": {},
   "outputs": [],
   "source": [
    "names=['class_o_all','class_o_ill', 'class_p_all', 'class_p_ill']\n",
    "features_rf_class = []\n",
    "for n in names:\n",
    "    with open(\"feature_selection/rf_{}.txt\".format(n), \"r\") as file:\n",
    "        features_rf_class.append(eval(file.readline()))"
   ]
  },
  {
   "cell_type": "code",
   "execution_count": 17,
   "metadata": {},
   "outputs": [],
   "source": [
    "path_class= ['/class/O_WC_A_', '/class/O_WC_WO_', '/class/P_WC_A_', '/class/P_WC_WO_']\n",
    "name_class_rf=['rf_all_class_O','rf_ill_class_O', 'rf_all_class_P', 'rf_ill_class_P']"
   ]
  },
  {
   "cell_type": "code",
   "execution_count": 18,
   "metadata": {},
   "outputs": [
    {
     "name": "stdout",
     "output_type": "stream",
     "text": [
      "Ya existe el hyperparametro: rf_all_class_O\n",
      "Ya existe los resultados: rf_all_class_O\n",
      "Ya existe el hyperparametro: rf_ill_class_O\n",
      "Ya existe los resultados: rf_ill_class_O\n",
      "Ya existe el hyperparametro: rf_all_class_P\n",
      "Ya existe los resultados: rf_all_class_P\n",
      "Ya existe el hyperparametro: rf_ill_class_P\n",
      "Ya existe los resultados: rf_ill_class_P\n"
     ]
    }
   ],
   "source": [
    "for p, n, f in zip(path_class, name_class_rf, features_rf_class):   \n",
    "    if path.exists('results/SVM_OvR/SVM_OvR_hyper_{}.csv'.format(n)): \n",
    "        print('Ya existe el hyperparametro:', n)\n",
    "    else:\n",
    "        hyper_SVM(p, f, n, multiclass=True)\n",
    "        print()\n",
    "        print('--------------------------------------------------------')\n",
    "        print()\n",
    "    \n",
    "    if path.exists('results/SVM_OvR/SVM_OvR_predict_{}.csv'.format(n)): \n",
    "        print('Ya existe los resultados:', n)\n",
    "    else:\n",
    "        predict_SVM(p, f, n, multiclass=True)\n",
    "        print()\n",
    "        print('--------------------------------------------------------')\n",
    "        print()"
   ]
  },
  {
   "cell_type": "markdown",
   "metadata": {},
   "source": [
    "### Selección de caracteristicas: F Fisher"
   ]
  },
  {
   "cell_type": "code",
   "execution_count": 19,
   "metadata": {},
   "outputs": [],
   "source": [
    "names=['label_o_all','label_o_ill', 'label_p_all', 'label_p_ill']\n",
    "features_fc_label = []\n",
    "for n in names:\n",
    "    with open(\"feature_selection/fc_{}.txt\".format(n), \"r\") as file:\n",
    "        features_fc_label.append(eval(file.readline()))"
   ]
  },
  {
   "cell_type": "code",
   "execution_count": 20,
   "metadata": {},
   "outputs": [],
   "source": [
    "path_label= ['/label/O_WL_A_', '/label/O_WL_WO_', '/label/P_WL_A_', '/label/P_WL_WO_']\n",
    "names_label_fc=['fc_all_label_O','fc_ill_label_O', 'fc_all_label_P', 'fc_ill_label_P']"
   ]
  },
  {
   "cell_type": "code",
   "execution_count": 21,
   "metadata": {},
   "outputs": [
    {
     "name": "stdout",
     "output_type": "stream",
     "text": [
      "Ya existe el hyperparametro: fc_all_label_O\n",
      "Ya existe los resultados: fc_all_label_O\n",
      "Ya existe el hyperparametro: fc_ill_label_O\n",
      "Ya existe los resultados: fc_ill_label_O\n",
      "Ya existe el hyperparametro: fc_all_label_P\n",
      "Ya existe los resultados: fc_all_label_P\n",
      "Ya existe el hyperparametro: fc_ill_label_P\n",
      "Ya existe los resultados: fc_ill_label_P\n"
     ]
    }
   ],
   "source": [
    "for p, n, f in zip(path_label, names_label_fc, features_fc_label):\n",
    "    if path.exists('results/SVM_OvR/SVM_OvR_hyper_{}.csv'.format(n)): \n",
    "        print('Ya existe el hyperparametro:', n)\n",
    "    else:\n",
    "        hyper_SVM(p, f, n)\n",
    "        print()\n",
    "        print('--------------------------------------------------------')\n",
    "        print()\n",
    "    \n",
    "    if path.exists('results/SVM_OvR/SVM_OvR_predict_{}.csv'.format(n)): \n",
    "        print('Ya existe los resultados:', n)\n",
    "    else:\n",
    "        predict_SVM(p, f, n)\n",
    "        print()\n",
    "        print('--------------------------------------------------------')\n",
    "        print()"
   ]
  },
  {
   "cell_type": "code",
   "execution_count": 22,
   "metadata": {},
   "outputs": [],
   "source": [
    "names=['class_o_all','class_o_ill', 'class_p_all', 'class_p_ill']\n",
    "features_fc_class = []\n",
    "for n in names:\n",
    "    with open(\"feature_selection/rf_{}.txt\".format(n), \"r\") as file:\n",
    "        features_fc_class.append(eval(file.readline()))"
   ]
  },
  {
   "cell_type": "code",
   "execution_count": 23,
   "metadata": {},
   "outputs": [],
   "source": [
    "path_class= ['/class/O_WC_A_', '/class/O_WC_WO_', '/class/P_WC_A_', '/class/P_WC_WO_']\n",
    "name_class_fc=['fc_all_class_O','fc_ill_class_O', 'fc_all_class_P', 'fc_ill_class_P']"
   ]
  },
  {
   "cell_type": "code",
   "execution_count": 24,
   "metadata": {},
   "outputs": [
    {
     "name": "stdout",
     "output_type": "stream",
     "text": [
      "Ya existe el hyperparametro: fc_all_class_O\n",
      "Ya existe los resultados: fc_all_class_O\n",
      "Ya existe el hyperparametro: fc_ill_class_O\n",
      "Ya existe los resultados: fc_ill_class_O\n",
      "Ya existe el hyperparametro: fc_all_class_P\n",
      "Ya existe los resultados: fc_all_class_P\n",
      "Ya existe el hyperparametro: fc_ill_class_P\n",
      "Ya existe los resultados: fc_ill_class_P\n"
     ]
    }
   ],
   "source": [
    "for p, n, f in zip(path_class, name_class_fc, features_fc_class): \n",
    "    if path.exists('results/SVM_OvR/SVM_OvR_hyper_{}.csv'.format(n)): \n",
    "        print('Ya existe el hyperparametro:', n)\n",
    "    else:\n",
    "        hyper_SVM(p, f, n, multiclass=True)\n",
    "        print()\n",
    "        print('--------------------------------------------------------')\n",
    "        print()\n",
    "    \n",
    "    if path.exists('results/SVM_OvR/SVM_OvR_predict_{}.csv'.format(n)): \n",
    "        print('Ya existe los resultados:', n)\n",
    "    else:\n",
    "        predict_SVM(p, f, n, multiclass=True)\n",
    "        print()\n",
    "        print('--------------------------------------------------------')\n",
    "        print()"
   ]
  },
  {
   "cell_type": "markdown",
   "metadata": {},
   "source": [
    "### Resultados"
   ]
  },
  {
   "cell_type": "code",
   "execution_count": 25,
   "metadata": {},
   "outputs": [],
   "source": [
    "def resultados_etiqueta(names): \n",
    "    hyper_label=[]\n",
    "    predict_label=[]\n",
    "    for name in names:\n",
    "        hyper_label.append(pd.read_csv('results/SVM_OvR/SVM_OvR_hyper_{}.csv'.format(name)))\n",
    "        predict_label.append(pd.read_csv('results/SVM_OvR/SVM_OvR_predict_{}.csv'.format(name)))\n",
    "\n",
    "    for i, n in zip(range(0, len(names)), names):\n",
    "        print(n)\n",
    "        print()\n",
    "        Best_C = (maximun(hyper_label[i], 'c'))\n",
    "        print('C: ', Best_C)\n",
    "        Best_Gamma = (maximun(hyper_label[i], 'gamma'))\n",
    "        print('Gamma: ', Best_Gamma)\n",
    "\n",
    "        print('Tasa de acierto:', round(np.mean(predict_label[i]['accuracy']), 3), '+/-', round(np.std(predict_label[i]['accuracy']), 3))\n",
    "        print('Tasa de Hamming Loss:', round(np.mean(predict_label[i]['hamming_loss']), 3), '+/-', round(np.std(predict_label[i]['hamming_loss']), 3))\n",
    "        print('Tasa de precision(macro)', round(np.mean(predict_label[i]['precision_macro']), 3), '+/-', round(np.std(predict_label[i]['precision_macro']), 3))\n",
    "        print('Tasa de precision(micro)', round(np.mean(predict_label[i]['precision_micro']), 3), '+/-', round(np.std(predict_label[i]['precision_micro']), 3))\n",
    "        print('Tasa de exactitud(macro):', round(np.mean(predict_label[i]['recall_macro']), 3),  '+/-', round(np.std(predict_label[i]['recall_macro']), 3))\n",
    "        print('Tasa de exactitud(micro):', round(np.mean(predict_label[i]['recall_micro']), 3),  '+/-', round(np.std(predict_label[i]['recall_micro']), 3))\n",
    "        print('Tasa F1-Score(macro)', round(np.mean(predict_label[i]['f1_macro']), 3) , '+/-', round(np.std(predict_label[i]['f1_macro']),3))\n",
    "        print('Tasa F1-Score(micro)', round(np.mean(predict_label[i]['f1_micro']), 3) , '+/-', round(np.std(predict_label[i]['f1_micro']),3))\n",
    "        print('---------------------------------------------------------------')"
   ]
  },
  {
   "cell_type": "code",
   "execution_count": 26,
   "metadata": {},
   "outputs": [
    {
     "name": "stdout",
     "output_type": "stream",
     "text": [
      "freq_all_label_O\n",
      "\n",
      "C:  10.0\n",
      "Gamma:  0.01\n",
      "Tasa de acierto: 0.813 +/- 0.016\n",
      "Tasa de Hamming Loss: 0.07 +/- 0.007\n",
      "Tasa de precision(macro) 0.894 +/- 0.013\n",
      "Tasa de precision(micro) 0.936 +/- 0.009\n",
      "Tasa de exactitud(macro): 0.859 +/- 0.017\n",
      "Tasa de exactitud(micro): 0.913 +/- 0.011\n",
      "Tasa F1-Score(macro) 0.875 +/- 0.012\n",
      "Tasa F1-Score(micro) 0.924 +/- 0.008\n",
      "---------------------------------------------------------------\n",
      "freq_ill_label_O\n",
      "\n",
      "C:  10.0\n",
      "Gamma:  0.01\n",
      "Tasa de acierto: 0.784 +/- 0.019\n",
      "Tasa de Hamming Loss: 0.08 +/- 0.008\n",
      "Tasa de precision(macro) 0.901 +/- 0.014\n",
      "Tasa de precision(micro) 0.939 +/- 0.009\n",
      "Tasa de exactitud(macro): 0.869 +/- 0.015\n",
      "Tasa de exactitud(micro): 0.923 +/- 0.01\n",
      "Tasa F1-Score(macro) 0.884 +/- 0.011\n",
      "Tasa F1-Score(micro) 0.931 +/- 0.007\n",
      "---------------------------------------------------------------\n",
      "freq_all_label_P\n",
      "\n",
      "C:  10.0\n",
      "Gamma:  0.001\n",
      "Tasa de acierto: 0.855 +/- 0.013\n",
      "Tasa de Hamming Loss: 0.052 +/- 0.005\n",
      "Tasa de precision(macro) 0.937 +/- 0.012\n",
      "Tasa de precision(micro) 0.962 +/- 0.007\n",
      "Tasa de exactitud(macro): 0.86 +/- 0.016\n",
      "Tasa de exactitud(micro): 0.925 +/- 0.008\n",
      "Tasa F1-Score(macro) 0.892 +/- 0.013\n",
      "Tasa F1-Score(micro) 0.943 +/- 0.005\n",
      "---------------------------------------------------------------\n",
      "freq_ill_label_P\n",
      "\n",
      "C:  5.0\n",
      "Gamma:  0.001\n",
      "Tasa de acierto: 0.83 +/- 0.015\n",
      "Tasa de Hamming Loss: 0.062 +/- 0.006\n",
      "Tasa de precision(macro) 0.95 +/- 0.012\n",
      "Tasa de precision(micro) 0.968 +/- 0.006\n",
      "Tasa de exactitud(macro): 0.859 +/- 0.017\n",
      "Tasa de exactitud(micro): 0.925 +/- 0.008\n",
      "Tasa F1-Score(macro) 0.896 +/- 0.013\n",
      "Tasa F1-Score(micro) 0.946 +/- 0.005\n",
      "---------------------------------------------------------------\n"
     ]
    }
   ],
   "source": [
    "resultados_etiqueta(names_LABEL_fr)"
   ]
  },
  {
   "cell_type": "code",
   "execution_count": 27,
   "metadata": {},
   "outputs": [
    {
     "name": "stdout",
     "output_type": "stream",
     "text": [
      "fc_all_label_O\n",
      "\n",
      "C:  10.0\n",
      "Gamma:  0.01\n",
      "Tasa de acierto: 0.864 +/- 0.015\n",
      "Tasa de Hamming Loss: 0.05 +/- 0.006\n",
      "Tasa de precision(macro) 0.934 +/- 0.011\n",
      "Tasa de precision(micro) 0.957 +/- 0.008\n",
      "Tasa de exactitud(macro): 0.912 +/- 0.014\n",
      "Tasa de exactitud(micro): 0.935 +/- 0.01\n",
      "Tasa F1-Score(macro) 0.923 +/- 0.01\n",
      "Tasa F1-Score(micro) 0.946 +/- 0.007\n",
      "---------------------------------------------------------------\n",
      "fc_ill_label_O\n",
      "\n",
      "C:  10.0\n",
      "Gamma:  0.01\n",
      "Tasa de acierto: 0.864 +/- 0.018\n",
      "Tasa de Hamming Loss: 0.051 +/- 0.007\n",
      "Tasa de precision(macro) 0.948 +/- 0.014\n",
      "Tasa de precision(micro) 0.963 +/- 0.01\n",
      "Tasa de exactitud(macro): 0.93 +/- 0.012\n",
      "Tasa de exactitud(micro): 0.949 +/- 0.008\n",
      "Tasa F1-Score(macro) 0.939 +/- 0.009\n",
      "Tasa F1-Score(micro) 0.956 +/- 0.006\n",
      "---------------------------------------------------------------\n",
      "fc_all_label_P\n",
      "\n",
      "C:  5.0\n",
      "Gamma:  0.001\n",
      "Tasa de acierto: 0.909 +/- 0.01\n",
      "Tasa de Hamming Loss: 0.032 +/- 0.003\n",
      "Tasa de precision(macro) 0.969 +/- 0.008\n",
      "Tasa de precision(micro) 0.973 +/- 0.006\n",
      "Tasa de exactitud(macro): 0.931 +/- 0.01\n",
      "Tasa de exactitud(micro): 0.959 +/- 0.006\n",
      "Tasa F1-Score(macro) 0.948 +/- 0.006\n",
      "Tasa F1-Score(micro) 0.966 +/- 0.004\n",
      "---------------------------------------------------------------\n",
      "fc_ill_label_P\n",
      "\n",
      "C:  5.0\n",
      "Gamma:  0.01\n",
      "Tasa de acierto: 0.889 +/- 0.015\n",
      "Tasa de Hamming Loss: 0.04 +/- 0.006\n",
      "Tasa de precision(macro) 0.954 +/- 0.01\n",
      "Tasa de precision(micro) 0.965 +/- 0.007\n",
      "Tasa de exactitud(macro): 0.944 +/- 0.011\n",
      "Tasa de exactitud(micro): 0.966 +/- 0.006\n",
      "Tasa F1-Score(macro) 0.949 +/- 0.008\n",
      "Tasa F1-Score(micro) 0.966 +/- 0.005\n",
      "---------------------------------------------------------------\n"
     ]
    }
   ],
   "source": [
    "resultados_etiqueta(names_label_fc)"
   ]
  },
  {
   "cell_type": "code",
   "execution_count": 28,
   "metadata": {},
   "outputs": [
    {
     "name": "stdout",
     "output_type": "stream",
     "text": [
      "rf_all_label_O\n",
      "\n",
      "C:  10.0\n",
      "Gamma:  0.01\n",
      "Tasa de acierto: 0.832 +/- 0.014\n",
      "Tasa de Hamming Loss: 0.063 +/- 0.006\n",
      "Tasa de precision(macro) 0.911 +/- 0.012\n",
      "Tasa de precision(micro) 0.942 +/- 0.008\n",
      "Tasa de exactitud(macro): 0.88 +/- 0.013\n",
      "Tasa de exactitud(micro): 0.922 +/- 0.01\n",
      "Tasa F1-Score(macro) 0.895 +/- 0.01\n",
      "Tasa F1-Score(micro) 0.932 +/- 0.006\n",
      "---------------------------------------------------------------\n",
      "rf_ill_label_O\n",
      "\n",
      "C:  10.0\n",
      "Gamma:  0.01\n",
      "Tasa de acierto: 0.822 +/- 0.021\n",
      "Tasa de Hamming Loss: 0.067 +/- 0.008\n",
      "Tasa de precision(macro) 0.924 +/- 0.014\n",
      "Tasa de precision(micro) 0.948 +/- 0.009\n",
      "Tasa de exactitud(macro): 0.902 +/- 0.017\n",
      "Tasa de exactitud(micro): 0.937 +/- 0.011\n",
      "Tasa F1-Score(macro) 0.913 +/- 0.013\n",
      "Tasa F1-Score(micro) 0.943 +/- 0.007\n",
      "---------------------------------------------------------------\n",
      "rf_all_label_P\n",
      "\n",
      "C:  2.5\n",
      "Gamma:  0.01\n",
      "Tasa de acierto: 0.883 +/- 0.012\n",
      "Tasa de Hamming Loss: 0.042 +/- 0.005\n",
      "Tasa de precision(macro) 0.93 +/- 0.013\n",
      "Tasa de precision(micro) 0.955 +/- 0.008\n",
      "Tasa de exactitud(macro): 0.914 +/- 0.014\n",
      "Tasa de exactitud(micro): 0.956 +/- 0.007\n",
      "Tasa F1-Score(macro) 0.921 +/- 0.01\n",
      "Tasa F1-Score(micro) 0.955 +/- 0.005\n",
      "---------------------------------------------------------------\n",
      "rf_ill_label_P\n",
      "\n",
      "C:  7.5\n",
      "Gamma:  0.001\n",
      "Tasa de acierto: 0.881 +/- 0.013\n",
      "Tasa de Hamming Loss: 0.042 +/- 0.005\n",
      "Tasa de precision(macro) 0.972 +/- 0.007\n",
      "Tasa de precision(micro) 0.977 +/- 0.005\n",
      "Tasa de exactitud(macro): 0.908 +/- 0.014\n",
      "Tasa de exactitud(micro): 0.95 +/- 0.007\n",
      "Tasa F1-Score(macro) 0.936 +/- 0.009\n",
      "Tasa F1-Score(micro) 0.963 +/- 0.004\n",
      "---------------------------------------------------------------\n"
     ]
    }
   ],
   "source": [
    "resultados_etiqueta(names_label_rf)"
   ]
  },
  {
   "cell_type": "markdown",
   "metadata": {},
   "source": [
    "-------------------------------"
   ]
  },
  {
   "cell_type": "code",
   "execution_count": 29,
   "metadata": {},
   "outputs": [],
   "source": [
    "def resultados_clases(names):\n",
    "    hyper_class=[]\n",
    "    predict_class=[]\n",
    "    for name in names:\n",
    "        hyper_class.append(pd.read_csv('results/SVM_OvR/SVM_OvR_hyper_{}.csv'.format(name)))\n",
    "        predict_class.append(pd.read_csv('results/SVM_OvR/SVM_OvR_predict_{}.csv'.format(name)))\n",
    "\n",
    "    for i, n in zip(range(0, len(names)), names):\n",
    "        print(n)\n",
    "        print()\n",
    "        Best_C = (maximun(hyper_class[i], 'c'))\n",
    "        print('C: ', Best_C)\n",
    "        Best_Gamma = (maximun(hyper_class[i], 'gamma'))\n",
    "        print('Gamma: ', Best_Gamma)\n",
    "\n",
    "        print('Tasa de acierto:', round(np.mean(predict_class[i]['accuracy']), 3), '+/-', round(np.std(predict_class[i]['accuracy']), 3))\n",
    "        print('Tasa de precision', round(np.mean(predict_class[i]['precision']), 3), '+/-', round(np.std(predict_class[i]['precision']), 3))\n",
    "        print('Tasa de exactitud:', round(np.mean(predict_class[i]['recall']), 3),  '+/-', round(np.std(predict_class[i]['recall']), 3))\n",
    "        print('Tasa F1-Score', round(np.mean(predict_class[i]['f1']), 3) , '+/-', round(np.std(predict_class[i]['f1']),3))\n",
    "        print('---------------------------------------------------------------')"
   ]
  },
  {
   "cell_type": "code",
   "execution_count": 30,
   "metadata": {},
   "outputs": [
    {
     "name": "stdout",
     "output_type": "stream",
     "text": [
      "freq_all_class_O\n",
      "\n"
     ]
    },
    {
     "ename": "NameError",
     "evalue": "name 'hyper_label' is not defined",
     "output_type": "error",
     "traceback": [
      "\u001b[0;31m---------------------------------------------------------------------------\u001b[0m",
      "\u001b[0;31mNameError\u001b[0m                                 Traceback (most recent call last)",
      "\u001b[0;32m<ipython-input-30-5311b82c14e1>\u001b[0m in \u001b[0;36m<module>\u001b[0;34m()\u001b[0m\n\u001b[0;32m----> 1\u001b[0;31m \u001b[0mresultados_clases\u001b[0m\u001b[0;34m(\u001b[0m\u001b[0mnames_CLASS_fr\u001b[0m\u001b[0;34m)\u001b[0m\u001b[0;34m\u001b[0m\u001b[0;34m\u001b[0m\u001b[0m\n\u001b[0m",
      "\u001b[0;32m<ipython-input-29-df18f4bfda0e>\u001b[0m in \u001b[0;36mresultados_clases\u001b[0;34m(names)\u001b[0m\n\u001b[1;32m      9\u001b[0m         \u001b[0mprint\u001b[0m\u001b[0;34m(\u001b[0m\u001b[0mn\u001b[0m\u001b[0;34m)\u001b[0m\u001b[0;34m\u001b[0m\u001b[0;34m\u001b[0m\u001b[0m\n\u001b[1;32m     10\u001b[0m         \u001b[0mprint\u001b[0m\u001b[0;34m(\u001b[0m\u001b[0;34m)\u001b[0m\u001b[0;34m\u001b[0m\u001b[0;34m\u001b[0m\u001b[0m\n\u001b[0;32m---> 11\u001b[0;31m         \u001b[0mBest_C\u001b[0m \u001b[0;34m=\u001b[0m \u001b[0;34m(\u001b[0m\u001b[0mmaximun\u001b[0m\u001b[0;34m(\u001b[0m\u001b[0mhyper_label\u001b[0m\u001b[0;34m[\u001b[0m\u001b[0mi\u001b[0m\u001b[0;34m]\u001b[0m\u001b[0;34m,\u001b[0m \u001b[0;34m'c'\u001b[0m\u001b[0;34m)\u001b[0m\u001b[0;34m)\u001b[0m\u001b[0;34m\u001b[0m\u001b[0;34m\u001b[0m\u001b[0m\n\u001b[0m\u001b[1;32m     12\u001b[0m         \u001b[0mprint\u001b[0m\u001b[0;34m(\u001b[0m\u001b[0;34m'C: '\u001b[0m\u001b[0;34m,\u001b[0m \u001b[0mBest_C\u001b[0m\u001b[0;34m)\u001b[0m\u001b[0;34m\u001b[0m\u001b[0;34m\u001b[0m\u001b[0m\n\u001b[1;32m     13\u001b[0m         \u001b[0mBest_Gamma\u001b[0m \u001b[0;34m=\u001b[0m \u001b[0;34m(\u001b[0m\u001b[0mmaximun\u001b[0m\u001b[0;34m(\u001b[0m\u001b[0mhyper_label\u001b[0m\u001b[0;34m[\u001b[0m\u001b[0mi\u001b[0m\u001b[0;34m]\u001b[0m\u001b[0;34m,\u001b[0m \u001b[0;34m'gamma'\u001b[0m\u001b[0;34m)\u001b[0m\u001b[0;34m)\u001b[0m\u001b[0;34m\u001b[0m\u001b[0;34m\u001b[0m\u001b[0m\n",
      "\u001b[0;31mNameError\u001b[0m: name 'hyper_label' is not defined"
     ]
    }
   ],
   "source": [
    "resultados_clases(names_CLASS_fr)"
   ]
  },
  {
   "cell_type": "code",
   "execution_count": null,
   "metadata": {},
   "outputs": [],
   "source": [
    "resultados_clases(name_class_fc)"
   ]
  },
  {
   "cell_type": "code",
   "execution_count": null,
   "metadata": {},
   "outputs": [],
   "source": [
    "resultados_clases(name_class_rf)"
   ]
  }
 ],
 "metadata": {
  "kernelspec": {
   "display_name": "Python 3",
   "language": "python",
   "name": "python3"
  },
  "language_info": {
   "codemirror_mode": {
    "name": "ipython",
    "version": 3
   },
   "file_extension": ".py",
   "mimetype": "text/x-python",
   "name": "python",
   "nbconvert_exporter": "python",
   "pygments_lexer": "ipython3",
   "version": "3.6.8"
  }
 },
 "nbformat": 4,
 "nbformat_minor": 2
}
