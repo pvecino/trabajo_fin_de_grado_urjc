{
 "cells": [
  {
   "cell_type": "code",
   "execution_count": null,
   "metadata": {},
   "outputs": [],
   "source": [
    "# numerical computation\n",
    "import numpy as np\n",
    "import itertools\n",
    "from random import randint\n",
    "# import matplotlib and allow it to plot inline\n",
    "import matplotlib.pyplot as plt\n",
    "\n",
    "# import sklearn\n",
    "\n",
    "from sklearn.neighbors import KNeighborsClassifier\n",
    "\n",
    "from sklearn.preprocessing import StandardScaler\n",
    "\n",
    "from sklearn.model_selection import KFold\n",
    "from sklearn.metrics import confusion_matrix\n",
    "from sklearn.metrics import accuracy_score\n",
    "from sklearn.metrics import precision_score\n",
    "from sklearn.metrics import recall_score\n",
    "from sklearn.metrics import f1_score\n",
    "from sklearn.metrics import hamming_loss\n",
    "from sklearn.model_selection import GridSearchCV\n",
    "\n",
    "\n",
    "# dataframe management\n",
    "import pandas as pd\n",
    "import warnings\n",
    "from sklearn.exceptions import DataConversionWarning\n",
    "warnings.simplefilter(action='ignore', category=FutureWarning)\n",
    "warnings.simplefilter(action='ignore', category=DeprecationWarning)\n",
    "warnings.simplefilter(action='ignore', category=DataConversionWarning)\n",
    "\n",
    "%autosave 60"
   ]
  },
  {
   "cell_type": "markdown",
   "metadata": {},
   "source": [
    "## Funciones a utilizar"
   ]
  },
  {
   "cell_type": "code",
   "execution_count": null,
   "metadata": {},
   "outputs": [],
   "source": [
    "def opened (path=''):\n",
    "    \n",
    "    X_training=[]\n",
    "    X_testing=[]\n",
    "    y_training=[]\n",
    "    y_testing=[]\n",
    "           \n",
    "    for j in range(0, 50):\n",
    "        X_training.append(pd.read_csv('test_train_dataset{}{}_X_train.csv'.format(path,j)))\n",
    "        X_testing.append(pd.read_csv('test_train_dataset{}{}_X_test.csv'.format(path, j)))\n",
    "        y_training.append(pd.read_csv('test_train_dataset{}{}_y_train.csv'.format(path, j)))\n",
    "        y_testing.append(pd.read_csv('test_train_dataset{}{}_y_test.csv'.format(path, j)))\n",
    "        \n",
    "    return X_training, X_testing, y_training, y_testing"
   ]
  },
  {
   "cell_type": "code",
   "execution_count": null,
   "metadata": {},
   "outputs": [],
   "source": [
    "def frequency (valor):\n",
    "    max = 0\n",
    "    res = list(valor)[0] \n",
    "    for i in list(valor): \n",
    "        freq = list(valor).count(i) \n",
    "        if freq > max: \n",
    "            max = freq \n",
    "            res = i \n",
    "    valor = res\n",
    "    return valor"
   ]
  },
  {
   "cell_type": "code",
   "execution_count": null,
   "metadata": {},
   "outputs": [],
   "source": [
    "def maximun (df, name):\n",
    "    maximun = df.sort_values(by='accuracy_model',ascending=False).head(n=1)\n",
    "    best = list(maximun[name])[0]\n",
    "    return best"
   ]
  },
  {
   "cell_type": "markdown",
   "metadata": {},
   "source": [
    "#  Aplicación del algoritmo KNN Clasificador.\n"
   ]
  },
  {
   "cell_type": "code",
   "execution_count": null,
   "metadata": {},
   "outputs": [],
   "source": [
    "def hyper_KNN(path, features, name, multiclass=False):\n",
    "    \n",
    "    x_train, x_test, y_train, y_test = opened(path=path)\n",
    "    print('Terminada la apertura de BBDD')\n",
    "    \n",
    "    max_neighbors = 50\n",
    "    turn_neighbors = [i for i in range(1,max_neighbors)]\n",
    "\n",
    "    param_grid = [\n",
    "            {\n",
    "                'n_neighbors' : turn_neighbors\n",
    "            }\n",
    "           ]\n",
    "\n",
    "    KNN_evaluate=[]\n",
    "    KNN_acc_model=[]\n",
    "    KNN_std=[]\n",
    "\n",
    "    average = []\n",
    "\n",
    "    best_k=[]\n",
    "    print('Empezamos a buscar los méjores parámetros')\n",
    "    for j in range(0, 50):\n",
    "        \n",
    "        droping=pd.concat([x_train[j][features], y_train[j]], axis=1,sort=False)\n",
    "        droping=droping.drop_duplicates(subset=features, keep=False)\n",
    "        xtrain= droping[features]\n",
    "        if multiclass==True:\n",
    "            ytrain=droping['CRG']\n",
    "        else:\n",
    "            ytrain=droping[['HP', 'Diabetes', 'Otros']]\n",
    "        print('Partición: ', j)\n",
    "\n",
    "    #Normalizamos los datos de test y de train\n",
    "        ss=StandardScaler()\n",
    "        ss.fit(xtrain)\n",
    "        ss_train=ss.transform(xtrain)\n",
    "\n",
    "    #Bus* camos el mejor K para esa división normalizada    \n",
    "        clf = GridSearchCV(KNeighborsClassifier(n_jobs=-1),param_grid, \n",
    "                              scoring='accuracy', cv=KFold(n_splits=5), \n",
    "                              n_jobs=-1)\n",
    "        if multiclass==True:\n",
    "            y_training = ytrain.values.ravel()\n",
    "        else:\n",
    "            y_training = ytrain\n",
    "\n",
    "        clf.fit(ss_train,y_training)\n",
    "\n",
    "    #Evaluamos el algortimo teniendo en cuenta que para la función GridSearchCV test es nuestro train\n",
    "        best_index_Acc = np.nonzero(clf.cv_results_['rank_test_score'] == 1)[0][0]\n",
    "        best_k.append(clf.best_params_['n_neighbors'])\n",
    "        KNN_acc_model.append(clf.cv_results_['mean_test_score'][best_index_Acc])\n",
    "        KNN_std.append(clf.cv_results_['std_test_score'][best_index_Acc])\n",
    "\n",
    "        average.append(clf.cv_results_['mean_test_score'])\n",
    "\n",
    "        KNN_evaluate.append([best_k[j], round(KNN_acc_model[j],3), round(KNN_std[j],3)])#W\n",
    "    \n",
    "        \n",
    "    to_plot= pd.DataFrame(data= average, columns=turn_neighbors)\n",
    "    \n",
    "    to_plot.to_csv('results/KNN/KNN_to_plot_{}.csv'.format(name), index=False)\n",
    "        \n",
    "    labels_comp = ['k','accuracy_model', 'std']\n",
    "\n",
    "    comparacion=pd.DataFrame(data=KNN_evaluate, columns = labels_comp)\n",
    "\n",
    "    comparacion.to_csv('results/KNN/KNN_hyper_{}.csv'.format(name), index=False)"
   ]
  },
  {
   "cell_type": "code",
   "execution_count": null,
   "metadata": {},
   "outputs": [],
   "source": [
    "def predict_KNN(path, features, name, multiclass=False): \n",
    "    \n",
    "    x_train, x_test, y_train, y_test = opened(path=path)\n",
    "    print('Terminada la apertura de BBDD')\n",
    "    \n",
    "    comparacion = pd.read_csv('results/KNN/KNN_hyper_{}.csv'.format(name))\n",
    "    Neigh = maximun(comparacion, 'k')\n",
    "    print('Neigh: ', Neigh)\n",
    "    \n",
    "    print('Con los parámetros óptimos procedemos a clasificar.')\n",
    "    \n",
    "    accuracy=[]\n",
    "    hamming_losse=[]\n",
    "    precision_macro=[]\n",
    "    precision_micro=[]\n",
    "    recall_macro=[]\n",
    "    recall_micro=[]\n",
    "    f1_scores_macro=[]\n",
    "    f1_scores_micro=[]\n",
    "    \n",
    "    average_accuracy=[]\n",
    "    average_precision=[]\n",
    "    average_recall=[]\n",
    "    f1_scores=[]\n",
    "    \n",
    "    for i in range(0,50):\n",
    "        \n",
    "        droping_train=pd.concat([x_train[i][features], y_train[i]], axis=1,sort=False)\n",
    "        droping_train=droping_train.drop_duplicates(subset=features, keep=False)\n",
    "        xtrain= droping_train[features]\n",
    "        if multiclass==True:\n",
    "            ytrain=droping_train['CRG']\n",
    "        else:\n",
    "            ytrain=droping_train[['HP', 'Diabetes', 'Otros']]\n",
    "\n",
    "        droping_test=pd.concat([x_test[i][features], y_test[i]], axis=1,sort=False)\n",
    "        droping=droping_test.drop_duplicates(subset=features, keep=False)\n",
    "        xtest= droping_test[features]\n",
    "        if multiclass==True:\n",
    "            ytest=droping_test['CRG']\n",
    "        else:\n",
    "            ytest=droping_test[['HP', 'Diabetes', 'Otros']]\n",
    "        \n",
    "        ss=StandardScaler()\n",
    "        ss.fit(xtrain)\n",
    "        ss_train=ss.transform(xtrain)\n",
    "        ss_test=ss.transform(xtest)\n",
    "\n",
    "        clf= KNeighborsClassifier(n_neighbors =Neigh, n_jobs=-1)\n",
    "        if multiclass==True:\n",
    "            y_training = ytrain.values.ravel()\n",
    "        else:\n",
    "            y_training = ytrain\n",
    "        clf.fit(ss_train,y_training)\n",
    "\n",
    "    #Predecimos el algoritmo con el mejor K\n",
    "        y_true, y_pred = ytest, clf.predict(ss_test)\n",
    "        if multiclass==False:\n",
    "            accuracy.append(accuracy_score(y_true, y_pred))\n",
    "            hamming_losse.append(hamming_loss(y_true, y_pred))\n",
    "            precision_macro.append(precision_score(y_true,y_pred, average='macro'))\n",
    "            precision_micro.append(precision_score(y_true,y_pred, average='micro'))\n",
    "            recall_macro.append(recall_score(y_true, y_pred, average='macro'))\n",
    "            recall_micro.append(recall_score(y_true, y_pred, average='micro'))\n",
    "            f1_scores_macro.append(f1_score(y_true, y_pred, average='macro'))\n",
    "            f1_scores_micro.append(f1_score(y_true, y_pred, average='micro'))\n",
    "        else:\n",
    "            cm = confusion_matrix(y_true,y_pred)\n",
    "            TP = np.diag(cm)\n",
    "            FP = np.sum(cm, axis=0) - TP\n",
    "            FN = np.sum(cm, axis=1) - TP\n",
    "            #num_classes = len(TP)\n",
    "            #TN = []\n",
    "            #for i in range(num_classes):\n",
    "            #    temp = np.delete(cm, i, 0)    # delete ith row\n",
    "            #    temp = np.delete(temp, i, 1)  # delete ith column\n",
    "            #    TN.append(sum(sum(temp)))\n",
    "\n",
    "            precision=TP / (TP + FP)\n",
    "            recall=TP / (TP + FN)\n",
    "\n",
    "            average_precision.append(np.mean(TP / (TP + FP)))\n",
    "            average_recall.append(np.mean(TP / (TP + FN)))\n",
    "            f1_scores.append(np.mean(2*(precision*recall)/(precision+recall)))\n",
    "            average_accuracy.append(accuracy_score(y_true, y_pred))\n",
    "        \n",
    "    predict=pd.DataFrame()\n",
    "    if multiclass==False:\n",
    "        predict['accuracy']=accuracy\n",
    "        predict['hamming_loss'] = hamming_losse\n",
    "        predict['precision_macro']=precision_macro\n",
    "        predict['precision_micro']=precision_micro\n",
    "        predict['recall_macro']=recall_macro\n",
    "        predict['recall_micro']=recall_micro\n",
    "        predict['f1_macro']=f1_scores_macro\n",
    "        predict['f1_micro']=f1_scores_micro\n",
    "    else:\n",
    "        predict['accuracy']=average_accuracy\n",
    "        predict['precision']=average_precision\n",
    "        predict['recall']=average_recall\n",
    "        predict['f1']=f1_scores\n",
    "        \n",
    "    predict.to_csv('results/KNN/KNN_predict_{}.csv'.format(name), index=False)"
   ]
  },
  {
   "cell_type": "markdown",
   "metadata": {},
   "source": [
    "    max_neighbors = 155\n",
    "    turn_neighbors = [i for i in range(55,max_neighbors, 2)]\n",
    "    df=to_plot.transpose()\n",
    "    plt.figure()\n",
    "    df.plot(legend=False)\n",
    "    plt.xticks()\n",
    "    plt.grid()\n",
    "    plt.show()"
   ]
  },
  {
   "cell_type": "markdown",
   "metadata": {},
   "source": [
    "## Bucles para las diferentes ejecuciones"
   ]
  },
  {
   "cell_type": "code",
   "execution_count": null,
   "metadata": {},
   "outputs": [],
   "source": [
    "boolean_class=[False, True, False, True]\n",
    "import os.path as path"
   ]
  },
  {
   "cell_type": "markdown",
   "metadata": {},
   "source": [
    "### Selección de Caracteriticas: Frecuencia"
   ]
  },
  {
   "cell_type": "code",
   "execution_count": null,
   "metadata": {},
   "outputs": [],
   "source": [
    "names = ['ocurrencia_all', 'ocurrencia_ill', 'presencia_all', 'presencia_ill'] \n",
    "features_freq = []\n",
    "for n in names:\n",
    "    with open(\"feature_selection/freq_{}.txt\".format(n), \"r\") as file:\n",
    "        features_freq.append(eval(file.readline()))"
   ]
  },
  {
   "cell_type": "code",
   "execution_count": null,
   "metadata": {},
   "outputs": [],
   "source": [
    "paths_CLASS = ['/class/O_WC_A_','/class/O_WC_WO_' , '/class/P_WC_A_', '/class/P_WC_WO_']\n",
    "names_CLASS_fr=['freq_all_class_O', 'freq_ill_class_O', 'freq_all_class_P', 'freq_ill_class_P']"
   ]
  },
  {
   "cell_type": "code",
   "execution_count": null,
   "metadata": {
    "scrolled": true
   },
   "outputs": [],
   "source": [
    "for p, n, f in zip(paths_CLASS, names_CLASS_fr, features_freq):\n",
    "    if path.exists('results/KNN/KNN_hyper_{}.csv'.format(n)): \n",
    "        print('Ya existe el hyperparametro:', n)\n",
    "    else:\n",
    "        hyper_KNN(p, f, n, True)\n",
    "        print()\n",
    "        print('--------------------------------------------------------')\n",
    "        print()\n",
    "\n",
    "    if path.exists('results/KNN/KNN_predict_{}.csv'.format(n)): \n",
    "        print('Ya existe los resultados:', n)\n",
    "    else:\n",
    "        predict_KNN(p, f, n, True)\n",
    "        print()\n",
    "        print('--------------------------------------------------------')\n",
    "        print()"
   ]
  },
  {
   "cell_type": "code",
   "execution_count": null,
   "metadata": {},
   "outputs": [],
   "source": [
    "paths_LABEL = ['/label/O_WL_A_','/label/O_WL_WO_' , '/label/P_WL_A_', '/label/P_WL_WO_']\n",
    "names_LABEL_fr=['freq_all_label_O', 'freq_ill_label_O', 'freq_all_label_P', 'freq_ill_label_P']"
   ]
  },
  {
   "cell_type": "code",
   "execution_count": null,
   "metadata": {
    "scrolled": true
   },
   "outputs": [],
   "source": [
    "for p, n, f in zip(paths_LABEL, names_LABEL_fr, features_freq):\n",
    "    if path.exists('results/KNN/KNN_hyper_{}.csv'.format(n)): \n",
    "        print('Ya existe el hyperparametro:', n)\n",
    "    else:\n",
    "        hyper_KNN(p, f, n)\n",
    "        print()\n",
    "        print('--------------------------------------------------------')\n",
    "        print()\n",
    "\n",
    "    if path.exists('results/KNN/KNN_predict_{}.csv'.format(n)): \n",
    "        print('Ya existe los resultados:', n)\n",
    "    else:\n",
    "        predict_KNN(p, f, n)\n",
    "        print()\n",
    "        print('--------------------------------------------------------')\n",
    "        print()"
   ]
  },
  {
   "cell_type": "markdown",
   "metadata": {},
   "source": [
    "### Selección de Caracteriticas: Random Forest"
   ]
  },
  {
   "cell_type": "code",
   "execution_count": null,
   "metadata": {},
   "outputs": [],
   "source": [
    "names=['label_o_all','label_o_ill', 'label_p_all', 'label_p_ill']\n",
    "features_rf_label = []\n",
    "for n in names:\n",
    "    with open(\"feature_selection/rf_{}.txt\".format(n), \"r\") as file:\n",
    "        features_rf_label.append(eval(file.readline()))"
   ]
  },
  {
   "cell_type": "code",
   "execution_count": null,
   "metadata": {},
   "outputs": [],
   "source": [
    "path_label= ['/label/O_WL_A_', '/label/O_WL_WO_', '/label/P_WL_A_', '/label/P_WL_WO_']\n",
    "names_label_rf=['rf_all_label_O','rf_ill_label_O', 'rf_all_label_P', 'rf_ill_label_P']"
   ]
  },
  {
   "cell_type": "code",
   "execution_count": null,
   "metadata": {
    "scrolled": true
   },
   "outputs": [],
   "source": [
    "for p, n, f in zip(path_label, names_label_rf, features_rf_label):\n",
    "    if path.exists('results/KNN/KNN_hyper_{}.csv'.format(n)): \n",
    "        print('Ya existe el hyperparametro:', n)\n",
    "    else:\n",
    "        hyper_KNN(p, f, n)\n",
    "        print()\n",
    "        print('--------------------------------------------------------')\n",
    "        print()\n",
    "    \n",
    "    if path.exists('results/KNN/KNN_predict_{}.csv'.format(n)): \n",
    "        print('Ya existe los resultados:', n)\n",
    "    else:\n",
    "        predict_KNN(p, f, n)\n",
    "        print()\n",
    "        print('--------------------------------------------------------')\n",
    "        print()"
   ]
  },
  {
   "cell_type": "code",
   "execution_count": null,
   "metadata": {},
   "outputs": [],
   "source": [
    "names=['class_o_all','class_o_ill', 'class_p_all', 'class_p_ill']\n",
    "features_rf_class = []\n",
    "for n in names:\n",
    "    with open(\"feature_selection/rf_{}.txt\".format(n), \"r\") as file:\n",
    "        features_rf_class.append(eval(file.readline()))"
   ]
  },
  {
   "cell_type": "code",
   "execution_count": null,
   "metadata": {},
   "outputs": [],
   "source": [
    "path_class= ['/class/O_WC_A_', '/class/O_WC_WO_', '/class/P_WC_A_', '/class/P_WC_WO_']\n",
    "name_class_rf=['rf_all_class_O','rf_ill_class_O', 'rf_all_class_P', 'rf_ill_class_P']"
   ]
  },
  {
   "cell_type": "code",
   "execution_count": null,
   "metadata": {
    "scrolled": false
   },
   "outputs": [],
   "source": [
    "for p, n, f in zip(path_class, name_class_rf, features_rf_class):\n",
    "    if path.exists('results/KNN/KNN_hyper_{}.csv'.format(n)): \n",
    "        print('Ya existe el hyperparametro:', n)\n",
    "    else:\n",
    "        hyper_KNN(p, f, n, multiclass=True)\n",
    "        print()\n",
    "        print('--------------------------------------------------------')\n",
    "        print()\n",
    "    \n",
    "    if path.exists('results/KNN/KNN_predict_{}.csv'.format(n)): \n",
    "        print('Ya existe los resultados:', n)\n",
    "    else:\n",
    "        predict_KNN(p, f, n, multiclass=True)\n",
    "        print()\n",
    "        print('--------------------------------------------------------')\n",
    "        print()"
   ]
  },
  {
   "cell_type": "markdown",
   "metadata": {},
   "source": [
    "### Selección de caracteristicas: F Fisher"
   ]
  },
  {
   "cell_type": "code",
   "execution_count": null,
   "metadata": {},
   "outputs": [],
   "source": [
    "names=['label_o_all','label_o_ill', 'label_p_all', 'label_p_ill']\n",
    "features_fc_label = []\n",
    "for n in names:\n",
    "    with open(\"feature_selection/fc_{}.txt\".format(n), \"r\") as file:\n",
    "        features_fc_label.append(eval(file.readline()))"
   ]
  },
  {
   "cell_type": "code",
   "execution_count": null,
   "metadata": {},
   "outputs": [],
   "source": [
    "path_label= ['/label/O_WL_A_', '/label/O_WL_WO_', '/label/P_WL_A_', '/label/P_WL_WO_']\n",
    "names_label_fc=['fc_all_label_O','fc_ill_label_O', 'fc_all_label_P', 'fc_ill_label_P']"
   ]
  },
  {
   "cell_type": "code",
   "execution_count": null,
   "metadata": {},
   "outputs": [],
   "source": [
    "for p, n, f in zip(path_label, names_label_fc, features_fc_label):\n",
    "    if path.exists('results/KNN/KNN_hyper_{}.csv'.format(n)): \n",
    "        print('Ya existe el hyperparametro:', n)\n",
    "    else:\n",
    "        hyper_KNN(p, f, n)\n",
    "        print()\n",
    "        print('--------------------------------------------------------')\n",
    "        print()\n",
    "    \n",
    "    if path.exists('results/KNN/KNN_predict_{}.csv'.format(n)): \n",
    "        print('Ya existe los resultados:', n)\n",
    "    else:\n",
    "        predict_KNN(p, f, n)\n",
    "        print()\n",
    "        print('--------------------------------------------------------')\n",
    "        print()"
   ]
  },
  {
   "cell_type": "code",
   "execution_count": null,
   "metadata": {},
   "outputs": [],
   "source": [
    "names=['class_o_all','class_o_ill', 'class_p_all', 'class_p_ill']\n",
    "features_fc_class = []\n",
    "for n in names:\n",
    "    with open(\"feature_selection/fc_{}.txt\".format(n), \"r\") as file:\n",
    "        features_fc_class.append(eval(file.readline()))"
   ]
  },
  {
   "cell_type": "code",
   "execution_count": null,
   "metadata": {},
   "outputs": [],
   "source": [
    "path_class= ['/class/O_WC_A_', '/class/O_WC_WO_', '/class/P_WC_A_', '/class/P_WC_WO_']\n",
    "name_class_fc=['fc_all_class_O','fc_ill_class_O', 'fc_all_class_P', 'fc_ill_class_P']"
   ]
  },
  {
   "cell_type": "code",
   "execution_count": null,
   "metadata": {},
   "outputs": [],
   "source": [
    "for p, n, f in zip(path_class, name_class_fc, features_fc_class):\n",
    "    if path.exists('results/KNN/KNN_hyper_{}.csv'.format(n)): \n",
    "        print('Ya existe el hyperparametro:', n)\n",
    "    else:\n",
    "        hyper_KNN(p, f, n, multiclass=True)\n",
    "        print()\n",
    "        print('--------------------------------------------------------')\n",
    "        print()\n",
    "    \n",
    "    if path.exists('results/KNN/KNN_predict_{}.csv'.format(n)): \n",
    "        print('Ya existe los resultados:', n)\n",
    "    else:\n",
    "        predict_KNN(p, f, n, multiclass=True)\n",
    "        print()\n",
    "        print('--------------------------------------------------------')\n",
    "        print()"
   ]
  },
  {
   "cell_type": "markdown",
   "metadata": {},
   "source": [
    "--------------------------------------"
   ]
  },
  {
   "cell_type": "markdown",
   "metadata": {},
   "source": [
    "## Resultados"
   ]
  },
  {
   "cell_type": "code",
   "execution_count": null,
   "metadata": {},
   "outputs": [],
   "source": [
    "def resultados_etiqueta(names):\n",
    "    hyper_label=[]\n",
    "    predict_label=[]\n",
    "    for name in names:\n",
    "        hyper_label.append(pd.read_csv('results/KNN/KNN_hyper_{}.csv'.format(name)))\n",
    "        predict_label.append(pd.read_csv('results/KNN/KNN_predict_{}.csv'.format(name)))\n",
    "    for i, n in zip(range(0, len(names)), names):\n",
    "        print(n)\n",
    "        print()\n",
    "        Neigh = maximun(hyper_label[i], 'k')\n",
    "        print('Neigh: ', Neigh)\n",
    "\n",
    "        print('Tasa de acierto:', round(np.mean(predict_label[i]['accuracy']), 3), '+/-', round(np.std(predict_label[i]['accuracy']), 3))\n",
    "        print('Tasa de Hamming Loss:', round(np.mean(predict_label[i]['hamming_loss']), 3), '+/-', round(np.std(predict_label[i]['hamming_loss']), 3))\n",
    "        print('Tasa de precision(macro)', round(np.mean(predict_label[i]['precision_macro']), 3), '+/-', round(np.std(predict_label[i]['precision_macro']), 3))\n",
    "        print('Tasa de precision(micro)', round(np.mean(predict_label[i]['precision_micro']), 3), '+/-', round(np.std(predict_label[i]['precision_micro']), 3))\n",
    "        print('Tasa de exactitud(macro):', round(np.mean(predict_label[i]['recall_macro']), 3),  '+/-', round(np.std(predict_label[i]['recall_macro']), 3))\n",
    "        print('Tasa de exactitud(micro):', round(np.mean(predict_label[i]['recall_micro']), 3),  '+/-', round(np.std(predict_label[i]['recall_micro']), 3))\n",
    "        print('Tasa F1-Score(macro)', round(np.mean(predict_label[i]['f1_macro']), 3) , '+/-', round(np.std(predict_label[i]['f1_macro']),3))\n",
    "        print('Tasa F1-Score(micro)', round(np.mean(predict_label[i]['f1_micro']), 3) , '+/-', round(np.std(predict_label[i]['f1_micro']),3))\n",
    "        print('---------------------------------------------------------------')"
   ]
  },
  {
   "cell_type": "code",
   "execution_count": null,
   "metadata": {
    "scrolled": false
   },
   "outputs": [],
   "source": [
    "resultados_etiqueta(names_LABEL_fr)"
   ]
  },
  {
   "cell_type": "code",
   "execution_count": null,
   "metadata": {},
   "outputs": [],
   "source": [
    "resultados_etiqueta(names_label_fc)"
   ]
  },
  {
   "cell_type": "code",
   "execution_count": null,
   "metadata": {},
   "outputs": [],
   "source": [
    "resultados_etiqueta(names_label_rf)"
   ]
  },
  {
   "cell_type": "code",
   "execution_count": null,
   "metadata": {},
   "outputs": [],
   "source": [
    "def resultados_clases(names):\n",
    "    hyper_class=[]\n",
    "    predict_class=[]\n",
    "    for name in names:\n",
    "        hyper_class.append(pd.read_csv('results/KNN/KNN_hyper_{}.csv'.format(name)))\n",
    "        predict_class.append(pd.read_csv('results/KNN/KNN_predict_{}.csv'.format(name)))\n",
    "    for i, n in zip(range(0, len(names)), names):\n",
    "        print(n)\n",
    "        print()\n",
    "        Neigh = maximun(hyper_class[i], 'k')\n",
    "        print('Neigh: ', Neigh)\n",
    "\n",
    "        print('Tasa de acierto:', round(np.mean(predict_class[i]['accuracy']), 3), '+/-', round(np.std(predict_class[i]['accuracy']), 3))\n",
    "        print('Tasa de precision', round(np.mean(predict_class[i]['precision']), 3), '+/-', round(np.std(predict_class[i]['precision']), 3))\n",
    "        print('Tasa de exactitud:', round(np.mean(predict_class[i]['recall']), 3),  '+/-', round(np.std(predict_class[i]['recall']), 3))\n",
    "        print('Tasa F1-Score', round(np.mean(predict_class[i]['f1']), 3) , '+/-', round(np.std(predict_class[i]['f1']),3))\n",
    "        print('---------------------------------------------------------------')"
   ]
  },
  {
   "cell_type": "code",
   "execution_count": null,
   "metadata": {
    "scrolled": false
   },
   "outputs": [],
   "source": [
    "resultados_clases(names_CLASS_fr)"
   ]
  },
  {
   "cell_type": "code",
   "execution_count": null,
   "metadata": {},
   "outputs": [],
   "source": [
    "resultados_clases(name_class_fc)"
   ]
  },
  {
   "cell_type": "code",
   "execution_count": null,
   "metadata": {},
   "outputs": [],
   "source": [
    "resultados_clases(name_class_rf)"
   ]
  },
  {
   "cell_type": "code",
   "execution_count": null,
   "metadata": {},
   "outputs": [],
   "source": []
  },
  {
   "cell_type": "code",
   "execution_count": null,
   "metadata": {},
   "outputs": [],
   "source": []
  }
 ],
 "metadata": {
  "kernelspec": {
   "display_name": "Python 3",
   "language": "python",
   "name": "python3"
  },
  "language_info": {
   "codemirror_mode": {
    "name": "ipython",
    "version": 3
   },
   "file_extension": ".py",
   "mimetype": "text/x-python",
   "name": "python",
   "nbconvert_exporter": "python",
   "pygments_lexer": "ipython3",
   "version": "3.6.8"
  }
 },
 "nbformat": 4,
 "nbformat_minor": 2
}
