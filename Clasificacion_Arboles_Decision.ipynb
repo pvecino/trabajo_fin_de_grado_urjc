{
 "cells": [
  {
   "cell_type": "code",
   "execution_count": 1,
   "metadata": {},
   "outputs": [
    {
     "data": {
      "application/javascript": [
       "IPython.notebook.set_autosave_interval(60000)"
      ]
     },
     "metadata": {},
     "output_type": "display_data"
    },
    {
     "name": "stdout",
     "output_type": "stream",
     "text": [
      "Autosaving every 60 seconds\n"
     ]
    }
   ],
   "source": [
    "# numerical computation\n",
    "import numpy as np\n",
    "import itertools\n",
    "from random import randint\n",
    "# import sklearn\n",
    "\n",
    "from sklearn.tree import DecisionTreeClassifier\n",
    "\n",
    "from sklearn.preprocessing import StandardScaler\n",
    "\n",
    "from sklearn.model_selection import KFold\n",
    "from sklearn.metrics import confusion_matrix\n",
    "from sklearn.metrics import accuracy_score\n",
    "from sklearn.metrics import precision_score\n",
    "from sklearn.metrics import recall_score\n",
    "from sklearn.metrics import f1_score\n",
    "from sklearn.metrics import hamming_loss\n",
    "from sklearn.model_selection import GridSearchCV\n",
    "\n",
    "# dataframe management\n",
    "import pandas as pd\n",
    "\n",
    "from sklearn.exceptions import DataConversionWarning\n",
    "import warnings\n",
    "warnings.simplefilter(action='ignore', category=FutureWarning)\n",
    "warnings.simplefilter(action='ignore', category=DeprecationWarning)\n",
    "warnings.simplefilter(action='ignore', category=UserWarning)\n",
    "warnings.simplefilter(action='ignore', category=DataConversionWarning)\n",
    "from IPython.display import clear_output\n",
    "\n",
    "\n",
    "%autosave 60\n"
   ]
  },
  {
   "cell_type": "markdown",
   "metadata": {},
   "source": [
    "## Funciones a utilizar"
   ]
  },
  {
   "cell_type": "code",
   "execution_count": 2,
   "metadata": {},
   "outputs": [],
   "source": [
    "def opened (path=''):\n",
    "    \n",
    "    X_training=[]\n",
    "    X_testing=[]\n",
    "    y_training=[]\n",
    "    y_testing=[]\n",
    "           \n",
    "    for j in range(0, 50):\n",
    "        X_training.append(pd.read_csv('test_train_dataset{}{}_X_train.csv'.format(path,j)))\n",
    "        X_testing.append(pd.read_csv('test_train_dataset{}{}_X_test.csv'.format(path, j)))\n",
    "        y_training.append(pd.read_csv('test_train_dataset{}{}_y_train.csv'.format(path, j)))\n",
    "        y_testing.append(pd.read_csv('test_train_dataset{}{}_y_test.csv'.format(path, j)))\n",
    "        \n",
    "    return X_training, X_testing, y_training, y_testing"
   ]
  },
  {
   "cell_type": "code",
   "execution_count": 3,
   "metadata": {},
   "outputs": [],
   "source": [
    "def frequency (valor):\n",
    "    max = 0\n",
    "    res = list(valor)[0] \n",
    "    for i in list(valor): \n",
    "        freq = list(valor).count(i) \n",
    "        if freq > max: \n",
    "            max = freq \n",
    "            res = i \n",
    "    valor = res\n",
    "    return valor"
   ]
  },
  {
   "cell_type": "code",
   "execution_count": 4,
   "metadata": {},
   "outputs": [],
   "source": [
    "def maximun (df, name):\n",
    "    maximun = df.sort_values(by='accuracy_model',ascending=False).head(n=1)\n",
    "    best = list(maximun[name])[0]\n",
    "    return best"
   ]
  },
  {
   "cell_type": "markdown",
   "metadata": {},
   "source": [
    "#  Aplicación del algoritmo DecisionTree"
   ]
  },
  {
   "cell_type": "code",
   "execution_count": 5,
   "metadata": {},
   "outputs": [],
   "source": [
    "def hyper_DT(path, features, name, multiclass=False):\n",
    "    \n",
    "    x_train, x_test, y_train, y_test = opened(path=path)\n",
    "    \n",
    "    print('Terminada la apertura de BBDD')\n",
    "    \n",
    "    maxi_depth = 204\n",
    "    turn_depth = [i for i in range(5,maxi_depth)]\n",
    "    \n",
    "    maxi_samples = x_train[0].shape[0]\n",
    "    turn_min_samples_split=[i for i in range(5,maxi_samples)]\n",
    "\n",
    "    param_grid = [\n",
    "            {\n",
    "                'max_depth':turn_depth,\n",
    "                'min_samples_split': turn_min_samples_split\n",
    "            }\n",
    "           ]\n",
    "\n",
    "    DT_evaluate=[]\n",
    "    DT_acc_model=[]\n",
    "    DT_std=[]\n",
    "\n",
    "\n",
    "    mean=[]\n",
    "    std=[]\n",
    "    best_depth=[]\n",
    "    best_samples_split=[]\n",
    "\n",
    "\n",
    "    for j in range(0, 50):\n",
    "\n",
    "        droping=pd.concat([x_train[j][features], y_train[j]], axis=1,sort=False)\n",
    "        droping=droping.drop_duplicates(subset=features, keep=False)\n",
    "        xtrain= droping[features]\n",
    "        if multiclass==True:\n",
    "            ytrain=droping['CRG']\n",
    "        else:\n",
    "            ytrain=droping[['HP', 'Diabetes', 'Otros']]\n",
    "\n",
    "    #Normalizamos x_test y x_train con la misma media y variancia que x_train\n",
    "        ss=StandardScaler()\n",
    "        ss.fit(xtrain)\n",
    "        ss_train=ss.transform(xtrain)\n",
    "\n",
    "    #Buscamos los mejores parametros para esa división normalizada    \n",
    "        clf = GridSearchCV(DecisionTreeClassifier(criterion='entropy'),\n",
    "                           param_grid, cv=KFold(n_splits=5), scoring='accuracy',n_jobs=-1)\n",
    "\n",
    "        if multiclass==True:\n",
    "            y_training = ytrain.values.ravel()\n",
    "        else:\n",
    "            y_training = ytrain\n",
    "        clf.fit(ss_train,y_training)\n",
    "\n",
    "    #Evaluamos el algortimo teniendo en cuenta que para la función GridSearchCV test es nuestro train\n",
    "        best_index_Acc = np.nonzero(clf.cv_results_['rank_test_score'] == 1)[0][0]\n",
    "        best_depth.append(clf.best_params_['max_depth'])\n",
    "        best_samples_split.append(clf.best_params_['min_samples_split'])\n",
    "\n",
    "        DT_acc_model.append(clf.cv_results_['mean_test_score'][best_index_Acc])\n",
    "        DT_std.append(clf.cv_results_['std_test_score'][best_index_Acc])\n",
    "\n",
    "        DT_evaluate.append([best_depth[j], best_samples_split[j],\n",
    "                            round(DT_acc_model[j],3), round(DT_std[j],3)])\n",
    "        print('Particion: ', j)\n",
    "    \n",
    "    labels_comp = ['max_depth','min_samples_split',\n",
    "                   'accuracy_model', 'std']\n",
    "    \n",
    "    comparacion=pd.DataFrame(data=DT_evaluate, columns = labels_comp)\n",
    "    \n",
    "    comparacion.to_csv('results/DT/DT_hyper_{}.csv'.format(name), index=False)\n",
    "    "
   ]
  },
  {
   "cell_type": "code",
   "execution_count": 6,
   "metadata": {},
   "outputs": [],
   "source": [
    "def predict_DT(path, features, name, multiclass=False):   \n",
    "    \n",
    "    x_train, x_test, y_train, y_test = opened(path=path)\n",
    "    \n",
    "    print('Terminada la apertura de BBDD')\n",
    "    \n",
    "    comparacion=pd.read_csv('results/DT/DT_hyper_{}.csv'.format(name))\n",
    "    \n",
    "    Depth = maximun(comparacion, 'max_depth')\n",
    "    print('Max Depth:', Depth)\n",
    "    Split = maximun(comparacion, 'min_samples_split')\n",
    "    print('Min Samples Split: ', Split)\n",
    "    \n",
    "    accuracy=[]\n",
    "    hamming_losse=[]\n",
    "    precision_macro=[]\n",
    "    precision_micro=[]\n",
    "    recall_macro=[]\n",
    "    recall_micro=[]\n",
    "    f1_scores_macro=[]\n",
    "    f1_scores_micro=[]\n",
    "    \n",
    "    average_accuracy=[]\n",
    "    average_precision=[]\n",
    "    average_recall=[]\n",
    "    f1_scores=[]\n",
    "    \n",
    "    for i in range(0,50):\n",
    "\n",
    "        droping_train=pd.concat([x_train[i][features], y_train[i]], axis=1,sort=False)\n",
    "        droping_train=droping_train.drop_duplicates(subset=features, keep=False)\n",
    "        xtrain= droping_train[features]\n",
    "        if multiclass==True:\n",
    "            ytrain=droping_train['CRG']\n",
    "        else:\n",
    "            ytrain=droping_train[['HP', 'Diabetes', 'Otros']]\n",
    "\n",
    "        droping_test=pd.concat([x_test[i][features], y_test[i]], axis=1,sort=False)\n",
    "        droping=droping_test.drop_duplicates(subset=features, keep=False)\n",
    "        xtest= droping_test[features]\n",
    "        if multiclass==True:\n",
    "            ytest=droping_test['CRG']\n",
    "        else:\n",
    "            ytest=droping_test[['HP', 'Diabetes', 'Otros']]\n",
    "                \n",
    "        ss=StandardScaler()\n",
    "        ss.fit(xtrain)\n",
    "        ss_train=ss.transform(xtrain)\n",
    "        ss_test=ss.transform(xtest)\n",
    "\n",
    "        clf= DecisionTreeClassifier(criterion='entropy',max_depth=Depth, \n",
    "                                    min_samples_split=Split)\n",
    "\n",
    "        if multiclass==True:\n",
    "            y_training = ytrain.values.ravel()\n",
    "        else:\n",
    "            y_training = ytrain\n",
    "        clf.fit(ss_train,y_training)\n",
    "        \n",
    "        y_true, y_pred = ytest, clf.predict(ss_test)\n",
    "        if multiclass==False:\n",
    "            accuracy.append(accuracy_score(y_true, y_pred))\n",
    "            hamming_losse.append(hamming_loss(y_true, y_pred))\n",
    "            precision_macro.append(precision_score(y_true,y_pred, average='macro'))\n",
    "            precision_micro.append(precision_score(y_true,y_pred, average='micro'))\n",
    "            recall_macro.append(recall_score(y_true, y_pred, average='macro'))\n",
    "            recall_micro.append(recall_score(y_true, y_pred, average='micro'))\n",
    "            f1_scores_macro.append(f1_score(y_true, y_pred, average='macro'))\n",
    "            f1_scores_micro.append(f1_score(y_true, y_pred, average='micro'))\n",
    "        else:\n",
    "            cm = confusion_matrix(y_true,y_pred)\n",
    "            TP = np.diag(cm)\n",
    "            FP = np.sum(cm, axis=0) - TP\n",
    "            FN = np.sum(cm, axis=1) - TP\n",
    "            #num_classes = len(TP)\n",
    "            #TN = []\n",
    "            #for i in range(num_classes):\n",
    "            #    temp = np.delete(cm, i, 0)    # delete ith row\n",
    "            #    temp = np.delete(temp, i, 1)  # delete ith column\n",
    "            #    TN.append(sum(sum(temp)))\n",
    "\n",
    "            precision=TP / (TP + FP)\n",
    "            recall=TP / (TP + FN)\n",
    "\n",
    "            average_precision.append(np.mean(TP / (TP + FP)))\n",
    "            average_recall.append(np.mean(TP / (TP + FN)))\n",
    "            f1_scores.append(np.mean(2*(precision*recall)/(precision+recall)))\n",
    "            average_accuracy.append(accuracy_score(y_true, y_pred))\n",
    "        \n",
    "    predict=pd.DataFrame()\n",
    "    if multiclass==False:\n",
    "        predict['accuracy']=accuracy\n",
    "        predict['hamming_loss'] = hamming_losse\n",
    "        predict['precision_macro']=precision_macro\n",
    "        predict['precision_micro']=precision_micro\n",
    "        predict['recall_macro']=recall_macro\n",
    "        predict['recall_micro']=recall_micro\n",
    "        predict['f1_macro']=f1_scores_macro\n",
    "        predict['f1_micro']=f1_scores_micro\n",
    "    else:\n",
    "        predict['accuracy']=average_accuracy\n",
    "        predict['precision']=average_precision\n",
    "        predict['recall']=average_recall\n",
    "        predict['f1']=f1_scores\n",
    "    \n",
    "    \n",
    "    predict.to_csv('results/DT/DT_predict_{}.csv'.format(name), index=False)\n"
   ]
  },
  {
   "cell_type": "markdown",
   "metadata": {},
   "source": [
    "## Bucles para las diferentes ejecuciones"
   ]
  },
  {
   "cell_type": "code",
   "execution_count": 7,
   "metadata": {},
   "outputs": [],
   "source": [
    "boolean_class=[False, True, False, True]\n",
    "import os.path as path"
   ]
  },
  {
   "cell_type": "markdown",
   "metadata": {},
   "source": [
    "### Selección de Caracteriticas: Frecuencia"
   ]
  },
  {
   "cell_type": "code",
   "execution_count": 8,
   "metadata": {},
   "outputs": [],
   "source": [
    "names = ['ocurrencia_all', 'ocurrencia_ill', 'presencia_all', 'presencia_ill'] \n",
    "features_freq = []\n",
    "for n in names:\n",
    "    with open(\"feature_selection/freq_{}.txt\".format(n), \"r\") as file:\n",
    "        features_freq.append(eval(file.readline()))"
   ]
  },
  {
   "cell_type": "code",
   "execution_count": 9,
   "metadata": {},
   "outputs": [],
   "source": [
    "paths_CLASS = ['/class/O_WC_A_','/class/O_WC_WO_' , '/class/P_WC_A_', '/class/P_WC_WO_']\n",
    "names_CLASS_fr=['freq_all_class_O', 'freq_ill_class_O', 'freq_all_class_P', 'freq_ill_class_P']"
   ]
  },
  {
   "cell_type": "code",
   "execution_count": 10,
   "metadata": {
    "scrolled": true
   },
   "outputs": [
    {
     "name": "stdout",
     "output_type": "stream",
     "text": [
      "Ya existe el hyperparametro: freq_all_class_O\n",
      "Ya existe los resultados: freq_all_class_O\n",
      "Ya existe el hyperparametro: freq_ill_class_O\n",
      "Ya existe los resultados: freq_ill_class_O\n",
      "Ya existe el hyperparametro: freq_all_class_P\n",
      "Ya existe los resultados: freq_all_class_P\n",
      "Ya existe el hyperparametro: freq_ill_class_P\n",
      "Ya existe los resultados: freq_ill_class_P\n"
     ]
    }
   ],
   "source": [
    "for p, n, f in zip(paths_CLASS, names_CLASS_fr, features_freq):\n",
    "    if path.exists('results/DT/DT_hyper_{}.csv'.format(n)): \n",
    "        print('Ya existe el hyperparametro:', n)\n",
    "    else:\n",
    "        hyper_DT(p, f, n, True)\n",
    "        print()\n",
    "        print('--------------------------------------------------------')\n",
    "        print()\n",
    "    \n",
    "    if path.exists('results/DT/DT_predict_{}.csv'.format(n)): \n",
    "        print('Ya existe los resultados:', n)\n",
    "    else:\n",
    "        predict_DT(p, f, n, True)\n",
    "        print()\n",
    "        print('--------------------------------------------------------')\n",
    "        print()"
   ]
  },
  {
   "cell_type": "code",
   "execution_count": 11,
   "metadata": {},
   "outputs": [],
   "source": [
    "paths_LABEL = ['/label/O_WL_A_','/label/O_WL_WO_' , '/label/P_WL_A_', '/label/P_WL_WO_']\n",
    "names_LABEL_fr=['freq_all_label_O', 'freq_ill_label_O', 'freq_all_label_P', 'freq_ill_label_P']"
   ]
  },
  {
   "cell_type": "code",
   "execution_count": 12,
   "metadata": {
    "scrolled": true
   },
   "outputs": [
    {
     "name": "stdout",
     "output_type": "stream",
     "text": [
      "Ya existe el hyperparametro: freq_all_label_O\n",
      "Ya existe los resultados: freq_all_label_O\n",
      "Ya existe el hyperparametro: freq_ill_label_O\n",
      "Ya existe los resultados: freq_ill_label_O\n",
      "Ya existe el hyperparametro: freq_all_label_P\n",
      "Ya existe los resultados: freq_all_label_P\n",
      "Ya existe el hyperparametro: freq_ill_label_P\n",
      "Ya existe los resultados: freq_ill_label_P\n"
     ]
    }
   ],
   "source": [
    "for p, n, f in zip(paths_LABEL, names_LABEL_fr, features_freq):\n",
    "    if path.exists('results/DT/DT_hyper_{}.csv'.format(n)): \n",
    "        print('Ya existe el hyperparametro:', n)\n",
    "    else:\n",
    "        hyper_DT(p, f, n)\n",
    "        print()\n",
    "        print('--------------------------------------------------------')\n",
    "        print()\n",
    "    \n",
    "    if path.exists('results/DT/DT_predict_{}.csv'.format(n)): \n",
    "        print('Ya existe los resultados:', n)\n",
    "    else:\n",
    "        predict_DT(p, f, n)\n",
    "        print()\n",
    "        print('--------------------------------------------------------')\n",
    "        print()"
   ]
  },
  {
   "cell_type": "markdown",
   "metadata": {},
   "source": [
    "### Selección de Caracteriticas: Random Forest"
   ]
  },
  {
   "cell_type": "code",
   "execution_count": 13,
   "metadata": {},
   "outputs": [],
   "source": [
    "names=['label_o_all','label_o_ill', 'label_p_all', 'label_p_ill']\n",
    "features_rf_label = []\n",
    "for n in names:\n",
    "    with open(\"feature_selection/rf_{}.txt\".format(n), \"r\") as file:\n",
    "        features_rf_label.append(eval(file.readline()))"
   ]
  },
  {
   "cell_type": "code",
   "execution_count": 14,
   "metadata": {},
   "outputs": [],
   "source": [
    "path_label= ['/label/O_WL_A_', '/label/O_WL_WO_', '/label/P_WL_A_', '/label/P_WL_WO_']\n",
    "names_label_rf=['rf_all_label_O','rf_ill_label_O', 'rf_all_label_P', 'rf_ill_label_P']"
   ]
  },
  {
   "cell_type": "code",
   "execution_count": 15,
   "metadata": {
    "scrolled": true
   },
   "outputs": [
    {
     "name": "stdout",
     "output_type": "stream",
     "text": [
      "Ya existe el hyperparametro: rf_all_label_O\n",
      "Ya existe los resultados: rf_all_label_O\n",
      "Ya existe el hyperparametro: rf_ill_label_O\n",
      "Ya existe los resultados: rf_ill_label_O\n",
      "Ya existe el hyperparametro: rf_all_label_P\n",
      "Ya existe los resultados: rf_all_label_P\n",
      "Ya existe el hyperparametro: rf_ill_label_P\n",
      "Ya existe los resultados: rf_ill_label_P\n"
     ]
    }
   ],
   "source": [
    "for p, n, f in zip(path_label, names_label_rf, features_rf_label):\n",
    "    if path.exists('results/DT/DT_hyper_{}.csv'.format(n)): \n",
    "        print('Ya existe el hyperparametro:', n)\n",
    "    else:\n",
    "        hyper_DT(p, f, n)\n",
    "        print()\n",
    "        print('--------------------------------------------------------')\n",
    "        print()\n",
    "    \n",
    "    if path.exists('results/DT/DT_predict_{}.csv'.format(n)): \n",
    "        print('Ya existe los resultados:', n)\n",
    "    else:\n",
    "        predict_DT(p, f, n)\n",
    "        print()\n",
    "        print('--------------------------------------------------------')\n",
    "        print()"
   ]
  },
  {
   "cell_type": "code",
   "execution_count": 16,
   "metadata": {},
   "outputs": [],
   "source": [
    "names=['class_o_all','class_o_ill', 'class_p_all', 'class_p_ill']\n",
    "features_rf_class = []\n",
    "for n in names:\n",
    "    with open(\"feature_selection/rf_{}.txt\".format(n), \"r\") as file:\n",
    "        features_rf_class.append(eval(file.readline()))"
   ]
  },
  {
   "cell_type": "code",
   "execution_count": 17,
   "metadata": {},
   "outputs": [],
   "source": [
    "path_class= ['/class/O_WC_A_', '/class/O_WC_WO_', '/class/P_WC_A_', '/class/P_WC_WO_']\n",
    "name_class_rf=['rf_all_class_O','rf_ill_class_O', 'rf_all_class_P', 'rf_ill_class_P']"
   ]
  },
  {
   "cell_type": "code",
   "execution_count": 18,
   "metadata": {
    "scrolled": true
   },
   "outputs": [
    {
     "name": "stdout",
     "output_type": "stream",
     "text": [
      "Ya existe el hyperparametro: rf_all_class_O\n",
      "Ya existe los resultados: rf_all_class_O\n",
      "Ya existe el hyperparametro: rf_ill_class_O\n",
      "Ya existe los resultados: rf_ill_class_O\n",
      "Ya existe el hyperparametro: rf_all_class_P\n",
      "Ya existe los resultados: rf_all_class_P\n",
      "Ya existe el hyperparametro: rf_ill_class_P\n",
      "Ya existe los resultados: rf_ill_class_P\n"
     ]
    }
   ],
   "source": [
    "for p, n, f in zip(path_class, name_class_rf, features_rf_class):\n",
    "    if path.exists('results/DT/DT_hyper_{}.csv'.format(n)): \n",
    "        print('Ya existe el hyperparametro:', n)\n",
    "    else:\n",
    "        hyper_DT(p, f, n, multiclass=True)\n",
    "        print()\n",
    "        print('--------------------------------------------------------')\n",
    "        print()\n",
    "    \n",
    "    if path.exists('results/DT/DT_predict_{}.csv'.format(n)): \n",
    "        print('Ya existe los resultados:', n)\n",
    "    else:\n",
    "        predict_DT(p, f, n, multiclass=True)\n",
    "        print()\n",
    "        print('--------------------------------------------------------')\n",
    "        print()"
   ]
  },
  {
   "cell_type": "markdown",
   "metadata": {},
   "source": [
    "### Selección de caracteristicas: F Fisher"
   ]
  },
  {
   "cell_type": "code",
   "execution_count": 19,
   "metadata": {},
   "outputs": [],
   "source": [
    "names=['label_o_all','label_o_ill', 'label_p_all', 'label_p_ill']\n",
    "features_fc_label = []\n",
    "for n in names:\n",
    "    with open(\"feature_selection/fc_{}.txt\".format(n), \"r\") as file:\n",
    "        features_fc_label.append(eval(file.readline()))"
   ]
  },
  {
   "cell_type": "code",
   "execution_count": 20,
   "metadata": {},
   "outputs": [],
   "source": [
    "path_label= ['/label/O_WL_A_', '/label/O_WL_WO_', '/label/P_WL_A_', '/label/P_WL_WO_']\n",
    "names_label_fc=['fc_all_label_O','fc_ill_label_O', 'fc_all_label_P', 'fc_ill_label_P']"
   ]
  },
  {
   "cell_type": "code",
   "execution_count": 21,
   "metadata": {},
   "outputs": [
    {
     "name": "stdout",
     "output_type": "stream",
     "text": [
      "Ya existe el hyperparametro: fc_all_label_O\n",
      "Ya existe los resultados: fc_all_label_O\n",
      "Ya existe el hyperparametro: fc_ill_label_O\n",
      "Ya existe los resultados: fc_ill_label_O\n",
      "Ya existe el hyperparametro: fc_all_label_P\n",
      "Ya existe los resultados: fc_all_label_P\n",
      "Ya existe el hyperparametro: fc_ill_label_P\n",
      "Ya existe los resultados: fc_ill_label_P\n"
     ]
    }
   ],
   "source": [
    "for p, n, f in zip(path_label, names_label_fc, features_fc_label):\n",
    "    if path.exists('results/DT/DT_hyper_{}.csv'.format(n)): \n",
    "        print('Ya existe el hyperparametro:', n)\n",
    "    else:\n",
    "        hyper_DT(p, f, n)\n",
    "        print()\n",
    "        print('--------------------------------------------------------')\n",
    "        print()\n",
    "    \n",
    "    if path.exists('results/DT/DT_predict_{}.csv'.format(n)): \n",
    "        print('Ya existe los resultados:', n)\n",
    "    else:\n",
    "        predict_DT(p, f, n)\n",
    "        print()\n",
    "        print('--------------------------------------------------------')\n",
    "        print()"
   ]
  },
  {
   "cell_type": "code",
   "execution_count": 22,
   "metadata": {},
   "outputs": [],
   "source": [
    "names=['class_o_all','class_o_ill', 'class_p_all', 'class_p_ill']\n",
    "features_rf_class = []\n",
    "for n in names:\n",
    "    with open(\"feature_selection/rf_{}.txt\".format(n), \"r\") as file:\n",
    "        features_rf_class.append(eval(file.readline()))"
   ]
  },
  {
   "cell_type": "code",
   "execution_count": 23,
   "metadata": {},
   "outputs": [],
   "source": [
    "path_class= ['/class/O_WC_A_', '/class/O_WC_WO_', '/class/P_WC_A_', '/class/P_WC_WO_']\n",
    "name_class_fc=['fc_all_class_O','fc_ill_class_O', 'fc_all_class_P', 'fc_ill_class_P']"
   ]
  },
  {
   "cell_type": "code",
   "execution_count": 24,
   "metadata": {},
   "outputs": [
    {
     "name": "stdout",
     "output_type": "stream",
     "text": [
      "Ya existe el hyperparametro: fc_all_class_O\n",
      "Ya existe los resultados: fc_all_class_O\n",
      "Ya existe el hyperparametro: fc_ill_class_O\n",
      "Ya existe los resultados: fc_ill_class_O\n",
      "Ya existe el hyperparametro: fc_all_class_P\n",
      "Ya existe los resultados: fc_all_class_P\n",
      "Ya existe el hyperparametro: fc_ill_class_P\n",
      "Ya existe los resultados: fc_ill_class_P\n"
     ]
    }
   ],
   "source": [
    "for p, n, f in zip(path_class, name_class_fc, features_rf_class):\n",
    "    if path.exists('results/DT/DT_hyper_{}.csv'.format(n)): \n",
    "        print('Ya existe el hyperparametro:', n)\n",
    "    else:\n",
    "        hyper_DT(p, f, n, multiclass=True)\n",
    "        print()\n",
    "        print('--------------------------------------------------------')\n",
    "        print()\n",
    "    \n",
    "    if path.exists('results/DT/DT_predict_{}.csv'.format(n)): \n",
    "        print('Ya existe los resultados:', n)\n",
    "    else:\n",
    "        predict_DT(p, f, n, multiclass=True)\n",
    "        print()\n",
    "        print('--------------------------------------------------------')\n",
    "        print()"
   ]
  },
  {
   "cell_type": "markdown",
   "metadata": {},
   "source": [
    "### Resultados"
   ]
  },
  {
   "cell_type": "code",
   "execution_count": 25,
   "metadata": {},
   "outputs": [],
   "source": [
    "def resultados_etiquetas(names):\n",
    "    hyper_label=[]\n",
    "    predict_label=[]\n",
    "    for name in names:\n",
    "        hyper_label.append(pd.read_csv('results/DT/DT_hyper_{}.csv'.format(name)))\n",
    "        predict_label.append(pd.read_csv('results/DT/DT_predict_{}.csv'.format(name)))\n",
    "    for i, n in zip(range(0, len(names)), names):\n",
    "        print(n)\n",
    "        print()\n",
    "        Depth = (maximun(hyper_label[i], 'max_depth'))\n",
    "        print('Max Depth:', Depth)\n",
    "        Split = (maximun(hyper_label[i], 'min_samples_split'))\n",
    "        print('Min Samples Split: ', Split)\n",
    "\n",
    "        print('Tasa de acierto:', round(np.mean(predict_label[i]['accuracy']), 3), '+/-', round(np.std(predict_label[i]['accuracy']), 3))\n",
    "        print('Tasa de Hamming Loss:', round(np.mean(predict_label[i]['hamming_loss']), 3), '+/-', round(np.std(predict_label[i]['hamming_loss']), 3))\n",
    "        print('Tasa de precision(macro)', round(np.mean(predict_label[i]['precision_macro']), 3), '+/-', round(np.std(predict_label[i]['precision_macro']), 3))\n",
    "        print('Tasa de precision(micro)', round(np.mean(predict_label[i]['precision_micro']), 3), '+/-', round(np.std(predict_label[i]['precision_micro']), 3))\n",
    "        print('Tasa de exactitud(macro):', round(np.mean(predict_label[i]['recall_macro']), 3),  '+/-', round(np.std(predict_label[i]['recall_macro']), 3))\n",
    "        print('Tasa de exactitud(micro):', round(np.mean(predict_label[i]['recall_micro']), 3),  '+/-', round(np.std(predict_label[i]['recall_micro']), 3))\n",
    "        print('Tasa F1-Score(macro)', round(np.mean(predict_label[i]['f1_macro']), 3) , '+/-', round(np.std(predict_label[i]['f1_macro']),3))\n",
    "        print('Tasa F1-Score(micro)', round(np.mean(predict_label[i]['f1_micro']), 3) , '+/-', round(np.std(predict_label[i]['f1_micro']),3))\n",
    "        print('---------------------------------------------------------------')"
   ]
  },
  {
   "cell_type": "code",
   "execution_count": 26,
   "metadata": {
    "scrolled": true
   },
   "outputs": [
    {
     "name": "stdout",
     "output_type": "stream",
     "text": [
      "freq_all_label_O\n",
      "\n",
      "Max Depth: 18\n",
      "Min Samples Split:  25\n",
      "Tasa de acierto: 0.816 +/- 0.014\n",
      "Tasa de Hamming Loss: 0.071 +/- 0.005\n",
      "Tasa de precision(macro) 0.892 +/- 0.012\n",
      "Tasa de precision(micro) 0.938 +/- 0.008\n",
      "Tasa de exactitud(macro): 0.847 +/- 0.018\n",
      "Tasa de exactitud(micro): 0.907 +/- 0.01\n",
      "Tasa F1-Score(macro) 0.867 +/- 0.011\n",
      "Tasa F1-Score(micro) 0.922 +/- 0.006\n",
      "---------------------------------------------------------------\n",
      "freq_ill_label_O\n",
      "\n",
      "Max Depth: 82\n",
      "Min Samples Split:  25\n",
      "Tasa de acierto: 0.798 +/- 0.019\n",
      "Tasa de Hamming Loss: 0.079 +/- 0.008\n",
      "Tasa de precision(macro) 0.901 +/- 0.017\n",
      "Tasa de precision(micro) 0.944 +/- 0.011\n",
      "Tasa de exactitud(macro): 0.857 +/- 0.018\n",
      "Tasa de exactitud(micro): 0.92 +/- 0.011\n",
      "Tasa F1-Score(macro) 0.876 +/- 0.012\n",
      "Tasa F1-Score(micro) 0.932 +/- 0.007\n",
      "---------------------------------------------------------------\n",
      "freq_all_label_P\n",
      "\n",
      "Max Depth: 14\n",
      "Min Samples Split:  21\n",
      "Tasa de acierto: 0.807 +/- 0.017\n",
      "Tasa de Hamming Loss: 0.075 +/- 0.007\n",
      "Tasa de precision(macro) 0.886 +/- 0.017\n",
      "Tasa de precision(micro) 0.933 +/- 0.011\n",
      "Tasa de exactitud(macro): 0.843 +/- 0.019\n",
      "Tasa de exactitud(micro): 0.905 +/- 0.011\n",
      "Tasa F1-Score(macro) 0.862 +/- 0.012\n",
      "Tasa F1-Score(micro) 0.919 +/- 0.007\n",
      "---------------------------------------------------------------\n",
      "freq_ill_label_P\n",
      "\n",
      "Max Depth: 12\n",
      "Min Samples Split:  13\n",
      "Tasa de acierto: 0.791 +/- 0.021\n",
      "Tasa de Hamming Loss: 0.081 +/- 0.008\n",
      "Tasa de precision(macro) 0.894 +/- 0.02\n",
      "Tasa de precision(micro) 0.941 +/- 0.012\n",
      "Tasa de exactitud(macro): 0.854 +/- 0.019\n",
      "Tasa de exactitud(micro): 0.919 +/- 0.01\n",
      "Tasa F1-Score(macro) 0.871 +/- 0.014\n",
      "Tasa F1-Score(micro) 0.929 +/- 0.007\n",
      "---------------------------------------------------------------\n"
     ]
    }
   ],
   "source": [
    "resultados_etiquetas(names_LABEL_fr)"
   ]
  },
  {
   "cell_type": "code",
   "execution_count": 27,
   "metadata": {
    "scrolled": true
   },
   "outputs": [
    {
     "name": "stdout",
     "output_type": "stream",
     "text": [
      "fc_all_label_O\n",
      "\n",
      "Max Depth: 32\n",
      "Min Samples Split:  25\n",
      "Tasa de acierto: 0.831 +/- 0.015\n",
      "Tasa de Hamming Loss: 0.066 +/- 0.006\n",
      "Tasa de precision(macro) 0.908 +/- 0.012\n",
      "Tasa de precision(micro) 0.945 +/- 0.008\n",
      "Tasa de exactitud(macro): 0.856 +/- 0.021\n",
      "Tasa de exactitud(micro): 0.912 +/- 0.011\n",
      "Tasa F1-Score(macro) 0.879 +/- 0.014\n",
      "Tasa F1-Score(micro) 0.928 +/- 0.007\n",
      "---------------------------------------------------------------\n",
      "fc_ill_label_O\n",
      "\n",
      "Max Depth: 30\n",
      "Min Samples Split:  7\n",
      "Tasa de acierto: 0.807 +/- 0.019\n",
      "Tasa de Hamming Loss: 0.076 +/- 0.009\n",
      "Tasa de precision(macro) 0.91 +/- 0.017\n",
      "Tasa de precision(micro) 0.948 +/- 0.01\n",
      "Tasa de exactitud(macro): 0.865 +/- 0.017\n",
      "Tasa de exactitud(micro): 0.92 +/- 0.011\n",
      "Tasa F1-Score(macro) 0.886 +/- 0.013\n",
      "Tasa F1-Score(micro) 0.934 +/- 0.008\n",
      "---------------------------------------------------------------\n",
      "fc_all_label_P\n",
      "\n",
      "Max Depth: 18\n",
      "Min Samples Split:  13\n",
      "Tasa de acierto: 0.835 +/- 0.013\n",
      "Tasa de Hamming Loss: 0.063 +/- 0.005\n",
      "Tasa de precision(macro) 0.913 +/- 0.014\n",
      "Tasa de precision(micro) 0.946 +/- 0.008\n",
      "Tasa de exactitud(macro): 0.864 +/- 0.016\n",
      "Tasa de exactitud(micro): 0.917 +/- 0.01\n",
      "Tasa F1-Score(macro) 0.886 +/- 0.01\n",
      "Tasa F1-Score(micro) 0.931 +/- 0.006\n",
      "---------------------------------------------------------------\n",
      "fc_ill_label_P\n",
      "\n",
      "Max Depth: 12\n",
      "Min Samples Split:  5\n",
      "Tasa de acierto: 0.82 +/- 0.016\n",
      "Tasa de Hamming Loss: 0.069 +/- 0.006\n",
      "Tasa de precision(macro) 0.929 +/- 0.014\n",
      "Tasa de precision(micro) 0.957 +/- 0.008\n",
      "Tasa de exactitud(macro): 0.864 +/- 0.017\n",
      "Tasa de exactitud(micro): 0.923 +/- 0.009\n",
      "Tasa F1-Score(macro) 0.892 +/- 0.013\n",
      "Tasa F1-Score(micro) 0.94 +/- 0.006\n",
      "---------------------------------------------------------------\n"
     ]
    }
   ],
   "source": [
    "resultados_etiquetas(names_label_fc)"
   ]
  },
  {
   "cell_type": "code",
   "execution_count": 28,
   "metadata": {
    "scrolled": true
   },
   "outputs": [
    {
     "name": "stdout",
     "output_type": "stream",
     "text": [
      "rf_all_label_O\n",
      "\n",
      "Max Depth: 74\n",
      "Min Samples Split:  5\n",
      "Tasa de acierto: 0.812 +/- 0.017\n",
      "Tasa de Hamming Loss: 0.075 +/- 0.007\n",
      "Tasa de precision(macro) 0.888 +/- 0.016\n",
      "Tasa de precision(micro) 0.935 +/- 0.01\n",
      "Tasa de exactitud(macro): 0.847 +/- 0.02\n",
      "Tasa de exactitud(micro): 0.903 +/- 0.012\n",
      "Tasa F1-Score(macro) 0.866 +/- 0.015\n",
      "Tasa F1-Score(micro) 0.919 +/- 0.008\n",
      "---------------------------------------------------------------\n",
      "rf_ill_label_O\n",
      "\n",
      "Max Depth: 46\n",
      "Min Samples Split:  43\n",
      "Tasa de acierto: 0.805 +/- 0.017\n",
      "Tasa de Hamming Loss: 0.076 +/- 0.007\n",
      "Tasa de precision(macro) 0.914 +/- 0.017\n",
      "Tasa de precision(micro) 0.948 +/- 0.009\n",
      "Tasa de exactitud(macro): 0.855 +/- 0.02\n",
      "Tasa de exactitud(micro): 0.92 +/- 0.012\n",
      "Tasa F1-Score(macro) 0.88 +/- 0.014\n",
      "Tasa F1-Score(micro) 0.934 +/- 0.007\n",
      "---------------------------------------------------------------\n",
      "rf_all_label_P\n",
      "\n",
      "Max Depth: 10\n",
      "Min Samples Split:  13\n",
      "Tasa de acierto: 0.823 +/- 0.013\n",
      "Tasa de Hamming Loss: 0.068 +/- 0.005\n",
      "Tasa de precision(macro) 0.923 +/- 0.014\n",
      "Tasa de precision(micro) 0.952 +/- 0.009\n",
      "Tasa de exactitud(macro): 0.837 +/- 0.019\n",
      "Tasa de exactitud(micro): 0.901 +/- 0.012\n",
      "Tasa F1-Score(macro) 0.874 +/- 0.011\n",
      "Tasa F1-Score(micro) 0.926 +/- 0.006\n",
      "---------------------------------------------------------------\n",
      "rf_ill_label_P\n",
      "\n",
      "Max Depth: 10\n",
      "Min Samples Split:  17\n",
      "Tasa de acierto: 0.812 +/- 0.017\n",
      "Tasa de Hamming Loss: 0.072 +/- 0.007\n",
      "Tasa de precision(macro) 0.927 +/- 0.016\n",
      "Tasa de precision(micro) 0.956 +/- 0.008\n",
      "Tasa de exactitud(macro): 0.854 +/- 0.019\n",
      "Tasa de exactitud(micro): 0.92 +/- 0.011\n",
      "Tasa F1-Score(macro) 0.885 +/- 0.013\n",
      "Tasa F1-Score(micro) 0.937 +/- 0.006\n",
      "---------------------------------------------------------------\n"
     ]
    }
   ],
   "source": [
    "resultados_etiquetas(names_label_rf)"
   ]
  },
  {
   "cell_type": "code",
   "execution_count": 29,
   "metadata": {},
   "outputs": [],
   "source": [
    "def resultados_clases(names):\n",
    "    hyper_class=[]\n",
    "    predict_class=[]\n",
    "    for name in names:\n",
    "        hyper_class.append(pd.read_csv('results/DT/DT_hyper_{}.csv'.format(name)))\n",
    "        predict_class.append(pd.read_csv('results/DT/DT_predict_{}.csv'.format(name)))\n",
    "\n",
    "    for i, n in zip(range(0, len(names)), names):\n",
    "        print(n)\n",
    "        print()\n",
    "        Depth = (maximun(hyper_class[i], 'max_depth'))\n",
    "        print('Max Depth:', Depth)\n",
    "        Split = (maximun(hyper_class[i], 'min_samples_split'))\n",
    "        print('Min Samples Split: ', Split)\n",
    "\n",
    "        print('Tasa de acierto:', round(np.mean(predict_class[i]['accuracy']), 3), '+/-', round(np.std(predict_class[i]['accuracy']), 3))\n",
    "        print('Tasa de precision', round(np.mean(predict_class[i]['precision']), 3), '+/-', round(np.std(predict_class[i]['precision']), 3))\n",
    "        print('Tasa de exactitud:', round(np.mean(predict_class[i]['recall']), 3),  '+/-', round(np.std(predict_class[i]['recall']), 3))\n",
    "        print('Tasa F1-Score', round(np.mean(predict_class[i]['f1']), 3) , '+/-', round(np.std(predict_class[i]['f1']),3))\n",
    "        print('---------------------------------------------------------------')"
   ]
  },
  {
   "cell_type": "code",
   "execution_count": 30,
   "metadata": {
    "scrolled": true
   },
   "outputs": [
    {
     "name": "stdout",
     "output_type": "stream",
     "text": [
      "freq_all_class_O\n",
      "\n",
      "Max Depth: 68\n",
      "Min Samples Split:  9\n",
      "Tasa de acierto: 0.807 +/- 0.016\n",
      "Tasa de precision 0.806 +/- 0.017\n",
      "Tasa de exactitud: 0.807 +/- 0.016\n",
      "Tasa F1-Score 0.805 +/- 0.017\n",
      "---------------------------------------------------------------\n",
      "freq_ill_class_O\n",
      "\n",
      "Max Depth: 10\n",
      "Min Samples Split:  7\n",
      "Tasa de acierto: 0.793 +/- 0.017\n",
      "Tasa de precision 0.798 +/- 0.017\n",
      "Tasa de exactitud: 0.793 +/- 0.017\n",
      "Tasa F1-Score 0.791 +/- 0.017\n",
      "---------------------------------------------------------------\n",
      "freq_all_class_P\n",
      "\n",
      "Max Depth: 66\n",
      "Min Samples Split:  33\n",
      "Tasa de acierto: 0.801 +/- 0.015\n",
      "Tasa de precision 0.802 +/- 0.016\n",
      "Tasa de exactitud: 0.801 +/- 0.015\n",
      "Tasa F1-Score 0.799 +/- 0.015\n",
      "---------------------------------------------------------------\n",
      "freq_ill_class_P\n",
      "\n",
      "Max Depth: 14\n",
      "Min Samples Split:  11\n",
      "Tasa de acierto: 0.781 +/- 0.021\n",
      "Tasa de precision 0.783 +/- 0.021\n",
      "Tasa de exactitud: 0.781 +/- 0.021\n",
      "Tasa F1-Score 0.78 +/- 0.022\n",
      "---------------------------------------------------------------\n"
     ]
    }
   ],
   "source": [
    "resultados_clases(names_CLASS_fr)"
   ]
  },
  {
   "cell_type": "code",
   "execution_count": 31,
   "metadata": {
    "scrolled": true
   },
   "outputs": [
    {
     "name": "stdout",
     "output_type": "stream",
     "text": [
      "fc_all_class_O\n",
      "\n",
      "Max Depth: 76\n",
      "Min Samples Split:  25\n",
      "Tasa de acierto: 0.822 +/- 0.015\n",
      "Tasa de precision 0.822 +/- 0.015\n",
      "Tasa de exactitud: 0.822 +/- 0.015\n",
      "Tasa F1-Score 0.82 +/- 0.016\n",
      "---------------------------------------------------------------\n",
      "fc_ill_class_O\n",
      "\n",
      "Max Depth: 14\n",
      "Min Samples Split:  33\n",
      "Tasa de acierto: 0.811 +/- 0.022\n",
      "Tasa de precision 0.816 +/- 0.024\n",
      "Tasa de exactitud: 0.811 +/- 0.022\n",
      "Tasa F1-Score 0.81 +/- 0.022\n",
      "---------------------------------------------------------------\n",
      "fc_all_class_P\n",
      "\n",
      "Max Depth: 12\n",
      "Min Samples Split:  15\n",
      "Tasa de acierto: 0.832 +/- 0.015\n",
      "Tasa de precision 0.839 +/- 0.014\n",
      "Tasa de exactitud: 0.832 +/- 0.015\n",
      "Tasa F1-Score 0.831 +/- 0.015\n",
      "---------------------------------------------------------------\n",
      "fc_ill_class_P\n",
      "\n",
      "Max Depth: 14\n",
      "Min Samples Split:  11\n",
      "Tasa de acierto: 0.818 +/- 0.018\n",
      "Tasa de precision 0.826 +/- 0.018\n",
      "Tasa de exactitud: 0.818 +/- 0.018\n",
      "Tasa F1-Score 0.818 +/- 0.018\n",
      "---------------------------------------------------------------\n"
     ]
    }
   ],
   "source": [
    "resultados_clases(name_class_fc)"
   ]
  },
  {
   "cell_type": "code",
   "execution_count": 32,
   "metadata": {
    "scrolled": true
   },
   "outputs": [
    {
     "name": "stdout",
     "output_type": "stream",
     "text": [
      "rf_all_class_O\n",
      "\n",
      "Max Depth: 38\n",
      "Min Samples Split:  21\n",
      "Tasa de acierto: 0.817 +/- 0.014\n",
      "Tasa de precision 0.817 +/- 0.014\n",
      "Tasa de exactitud: 0.817 +/- 0.014\n",
      "Tasa F1-Score 0.816 +/- 0.014\n",
      "---------------------------------------------------------------\n",
      "rf_ill_class_O\n",
      "\n",
      "Max Depth: 10\n",
      "Min Samples Split:  31\n",
      "Tasa de acierto: 0.8 +/- 0.018\n",
      "Tasa de precision 0.806 +/- 0.018\n",
      "Tasa de exactitud: 0.8 +/- 0.018\n",
      "Tasa F1-Score 0.799 +/- 0.018\n",
      "---------------------------------------------------------------\n",
      "rf_all_class_P\n",
      "\n",
      "Max Depth: 14\n",
      "Min Samples Split:  11\n",
      "Tasa de acierto: 0.816 +/- 0.015\n",
      "Tasa de precision 0.817 +/- 0.016\n",
      "Tasa de exactitud: 0.816 +/- 0.015\n",
      "Tasa F1-Score 0.814 +/- 0.015\n",
      "---------------------------------------------------------------\n",
      "rf_ill_class_P\n",
      "\n",
      "Max Depth: 14\n",
      "Min Samples Split:  47\n",
      "Tasa de acierto: 0.801 +/- 0.021\n",
      "Tasa de precision 0.807 +/- 0.024\n",
      "Tasa de exactitud: 0.801 +/- 0.021\n",
      "Tasa F1-Score 0.801 +/- 0.021\n",
      "---------------------------------------------------------------\n"
     ]
    }
   ],
   "source": [
    "resultados_clases(name_class_rf)"
   ]
  },
  {
   "cell_type": "markdown",
   "metadata": {},
   "source": [
    "# Mejor Configuración"
   ]
  },
  {
   "cell_type": "markdown",
   "metadata": {},
   "source": [
    "## Multi-clase"
   ]
  },
  {
   "cell_type": "code",
   "execution_count": 33,
   "metadata": {},
   "outputs": [],
   "source": [
    "names = ['fc_class_p_all', 'fc_class_p_ill']\n",
    "names_features=['atc', 'cie', 'cie_atc']\n",
    "features = []\n",
    "for n in names:\n",
    "    for f in names_features:\n",
    "        with open(\"feature_selection/best/{}_{}.txt\".format(n, f), \"r\") as file:\n",
    "            features.append(eval(file.readline()))\n",
    "    features += [['Edad', 'Sexo']]\n",
    "paths_class = ['/class/P_WC_A_', '/class/P_WC_WO_']\n",
    "names_class=['fc_all_class_P_atc', 'fc_all_class_P_cie', 'fc_all_class_P_cie_atc', 'fc_all_class_P_E_S', \n",
    "             'fc_ill_class_P_atc', 'fc_ill_class_P_cie', 'fc_ill_class_P_cie_atc', 'fc_ill_class_P_E_S']"
   ]
  },
  {
   "cell_type": "code",
   "execution_count": 34,
   "metadata": {},
   "outputs": [],
   "source": [
    "names = ['fc_class_p_all', 'fc_class_p_ill']\n",
    "names_features=['atc', 'cie', 'cie_atc']\n",
    "features = []\n",
    "for n in names:\n",
    "    for f in names_features:\n",
    "        with open(\"feature_selection/best/{}_{}.txt\".format(n, f), \"r\") as file:\n",
    "            features.append(eval(file.readline()))\n",
    "\n",
    "paths_class = ['/class/P_WC_A_', '/class/P_WC_WO_']\n",
    "names_class=['fc_all_class_P_atc', 'fc_all_class_P_cie', 'fc_all_class_P_cie_atc', \n",
    "             'fc_ill_class_P_atc', 'fc_ill_class_P_cie', 'fc_ill_class_P_cie_atc']"
   ]
  },
  {
   "cell_type": "code",
   "execution_count": 35,
   "metadata": {
    "scrolled": true
   },
   "outputs": [
    {
     "name": "stdout",
     "output_type": "stream",
     "text": [
      "Ya existe el hyperparametro: fc_all_class_P_atc\n",
      "Ya existe los resultados: fc_all_class_P_atc\n",
      "Ya existe el hyperparametro: fc_all_class_P_cie\n",
      "Ya existe los resultados: fc_all_class_P_cie\n",
      "Ya existe el hyperparametro: fc_all_class_P_cie_atc\n",
      "Ya existe los resultados: fc_all_class_P_cie_atc\n",
      "Ya existe el hyperparametro: fc_ill_class_P_atc\n",
      "Ya existe los resultados: fc_ill_class_P_atc\n",
      "Ya existe el hyperparametro: fc_ill_class_P_cie\n",
      "Ya existe los resultados: fc_ill_class_P_cie\n",
      "Ya existe el hyperparametro: fc_ill_class_P_cie_atc\n",
      "Ya existe los resultados: fc_ill_class_P_cie_atc\n"
     ]
    }
   ],
   "source": [
    "k=['all','ill']\n",
    "for p, i in zip(paths_class, k):\n",
    "    if i=='all':\n",
    "        names = names_class[0:4]\n",
    "        feat = features[0:4]\n",
    "    else:\n",
    "        names = names_class[4:8]\n",
    "        feat = features[4:8]\n",
    "    for n, f in zip( names, feat):\n",
    "        if path.exists('results/DT/DT_hyper_{}.csv'.format(n)): \n",
    "            print('Ya existe el hyperparametro:', n)\n",
    "        else:\n",
    "            hyper_DT(p, f, n, multiclass=True)\n",
    "            print()\n",
    "            print('--------------------------------------------------------')\n",
    "            print()\n",
    "\n",
    "        if path.exists('results/DT/DT_predict_{}.csv'.format(n)): \n",
    "            print('Ya existe los resultados:', n)\n",
    "        else:\n",
    "            predict_DT(p, f, n, multiclass=True)\n",
    "            print()\n",
    "            print('--------------------------------------------------------')\n",
    "            print()"
   ]
  },
  {
   "cell_type": "code",
   "execution_count": 36,
   "metadata": {
    "scrolled": true
   },
   "outputs": [
    {
     "name": "stdout",
     "output_type": "stream",
     "text": [
      "fc_all_class_P_atc\n",
      "\n",
      "Max Depth: 60\n",
      "Min Samples Split:  25\n",
      "Tasa de acierto: 0.773 +/- 0.029\n",
      "Tasa de precision 0.774 +/- 0.023\n",
      "Tasa de exactitud: 0.773 +/- 0.029\n",
      "Tasa F1-Score 0.769 +/- 0.032\n",
      "---------------------------------------------------------------\n",
      "fc_all_class_P_cie\n",
      "\n",
      "Max Depth: 30\n",
      "Min Samples Split:  30\n",
      "Tasa de acierto: 0.589 +/- 0.088\n",
      "Tasa de precision 0.651 +/- 0.059\n",
      "Tasa de exactitud: 0.589 +/- 0.088\n",
      "Tasa F1-Score 0.573 +/- 0.098\n",
      "---------------------------------------------------------------\n",
      "fc_all_class_P_cie_atc\n",
      "\n",
      "Max Depth: 70\n",
      "Min Samples Split:  35\n",
      "Tasa de acierto: 0.845 +/- 0.019\n",
      "Tasa de precision 0.851 +/- 0.019\n",
      "Tasa de exactitud: 0.845 +/- 0.019\n",
      "Tasa F1-Score 0.844 +/- 0.019\n",
      "---------------------------------------------------------------\n",
      "fc_ill_class_P_atc\n",
      "\n",
      "Max Depth: 125\n",
      "Min Samples Split:  15\n",
      "Tasa de acierto: 0.768 +/- 0.029\n",
      "Tasa de precision 0.77 +/- 0.022\n",
      "Tasa de exactitud: 0.768 +/- 0.029\n",
      "Tasa F1-Score 0.765 +/- 0.031\n",
      "---------------------------------------------------------------\n",
      "fc_ill_class_P_cie\n",
      "\n",
      "Max Depth: 5\n",
      "Min Samples Split:  25\n",
      "Tasa de acierto: 0.465 +/- 0.044\n",
      "Tasa de precision 0.388 +/- 0.069\n",
      "Tasa de exactitud: 0.464 +/- 0.045\n",
      "Tasa F1-Score 0.362 +/- 0.001\n",
      "---------------------------------------------------------------\n",
      "fc_ill_class_P_cie_atc\n",
      "\n",
      "Max Depth: 15\n",
      "Min Samples Split:  20\n",
      "Tasa de acierto: 0.834 +/- 0.017\n",
      "Tasa de precision 0.844 +/- 0.017\n",
      "Tasa de exactitud: 0.834 +/- 0.017\n",
      "Tasa F1-Score 0.834 +/- 0.017\n",
      "---------------------------------------------------------------\n"
     ]
    }
   ],
   "source": [
    "resultados_clases(names_class)"
   ]
  },
  {
   "cell_type": "markdown",
   "metadata": {},
   "source": [
    "## Multi-label"
   ]
  },
  {
   "cell_type": "code",
   "execution_count": 37,
   "metadata": {},
   "outputs": [],
   "source": [
    "names = ['fc_label_p_all', 'fc_label_p_ill']\n",
    "names_features=['atc', 'cie', 'cie_atc']\n",
    "features = []\n",
    "for n in names:\n",
    "    for f in names_features:\n",
    "        with open(\"feature_selection/best/{}_{}.txt\".format(n, f), \"r\") as file:\n",
    "            features.append(eval(file.readline()))\n",
    "    features += [['Edad', 'Sexo']]\n",
    "paths_label = ['/label/P_WL_A_', '/label/P_WL_WO_']\n",
    "names_label=['fc_all_label_P_atc', 'fc_all_label_P_cie', 'fc_all_label_P_cie_atc', 'fc_all_label_P_E_S', \n",
    "             'fc_ill_label_P_atc', 'fc_ill_label_P_cie', 'fc_ill_label_P_cie_atc', 'fc_ill_label_P_E_S']"
   ]
  },
  {
   "cell_type": "code",
   "execution_count": 38,
   "metadata": {
    "scrolled": true
   },
   "outputs": [
    {
     "name": "stdout",
     "output_type": "stream",
     "text": [
      "Ya existe el hyperparametro: fc_all_label_P_atc\n",
      "Ya existe los resultados: fc_all_label_P_atc\n",
      "Ya existe el hyperparametro: fc_all_label_P_cie\n",
      "Ya existe los resultados: fc_all_label_P_cie\n",
      "Ya existe el hyperparametro: fc_all_label_P_cie_atc\n",
      "Ya existe los resultados: fc_all_label_P_cie_atc\n",
      "Ya existe el hyperparametro: fc_all_label_P_E_S\n",
      "Ya existe los resultados: fc_all_label_P_E_S\n",
      "Ya existe el hyperparametro: fc_ill_label_P_atc\n",
      "Ya existe los resultados: fc_ill_label_P_atc\n",
      "Ya existe el hyperparametro: fc_ill_label_P_cie\n",
      "Ya existe los resultados: fc_ill_label_P_cie\n",
      "Ya existe el hyperparametro: fc_ill_label_P_cie_atc\n",
      "Ya existe los resultados: fc_ill_label_P_cie_atc\n",
      "Ya existe el hyperparametro: fc_ill_label_P_E_S\n",
      "Ya existe los resultados: fc_ill_label_P_E_S\n"
     ]
    }
   ],
   "source": [
    "k=['all','ill']\n",
    "for p, i in zip(paths_label, k):\n",
    "    if i=='all':\n",
    "        names = names_label[0:4]\n",
    "        feat = features[0:4]\n",
    "    else:\n",
    "        names = names_label[4:8]\n",
    "        feat = features[4:8]\n",
    "    for n, f in zip( names, feat):\n",
    "        if path.exists('results/DT/DT_hyper_{}.csv'.format(n)): \n",
    "            print('Ya existe el hyperparametro:', n)\n",
    "        else:\n",
    "            hyper_DT(p, f, n)\n",
    "            print()\n",
    "            print('--------------------------------------------------------')\n",
    "            print()\n",
    "\n",
    "        if path.exists('results/DT/DT_predict_{}.csv'.format(n)): \n",
    "            print('Ya existe los resultados:', n)\n",
    "        else:\n",
    "            predict_DT(p, f, n)\n",
    "            print()\n",
    "            print('--------------------------------------------------------')\n",
    "            print()"
   ]
  },
  {
   "cell_type": "code",
   "execution_count": 39,
   "metadata": {
    "scrolled": true
   },
   "outputs": [
    {
     "name": "stdout",
     "output_type": "stream",
     "text": [
      "fc_all_label_P_atc\n",
      "\n",
      "Max Depth: 85\n",
      "Min Samples Split:  35\n",
      "Tasa de acierto: 0.768 +/- 0.026\n",
      "Tasa de Hamming Loss: 0.09 +/- 0.01\n",
      "Tasa de precision(macro) 0.904 +/- 0.021\n",
      "Tasa de precision(micro) 0.932 +/- 0.019\n",
      "Tasa de exactitud(macro): 0.815 +/- 0.02\n",
      "Tasa de exactitud(micro): 0.87 +/- 0.013\n",
      "Tasa F1-Score(macro) 0.854 +/- 0.015\n",
      "Tasa F1-Score(micro) 0.9 +/- 0.01\n",
      "---------------------------------------------------------------\n",
      "fc_all_label_P_cie\n",
      "\n",
      "Max Depth: 100\n",
      "Min Samples Split:  20\n",
      "Tasa de acierto: 0.577 +/- 0.081\n",
      "Tasa de Hamming Loss: 0.173 +/- 0.037\n",
      "Tasa de precision(macro) 0.774 +/- 0.063\n",
      "Tasa de precision(micro) 0.798 +/- 0.069\n",
      "Tasa de exactitud(macro): 0.801 +/- 0.03\n",
      "Tasa de exactitud(micro): 0.855 +/- 0.028\n",
      "Tasa F1-Score(macro) 0.778 +/- 0.028\n",
      "Tasa F1-Score(micro) 0.823 +/- 0.027\n",
      "---------------------------------------------------------------\n",
      "fc_all_label_P_cie_atc\n",
      "\n",
      "Max Depth: 115\n",
      "Min Samples Split:  20\n",
      "Tasa de acierto: 0.845 +/- 0.013\n",
      "Tasa de Hamming Loss: 0.059 +/- 0.006\n",
      "Tasa de precision(macro) 0.917 +/- 0.016\n",
      "Tasa de precision(micro) 0.95 +/- 0.01\n",
      "Tasa de exactitud(macro): 0.866 +/- 0.018\n",
      "Tasa de exactitud(micro): 0.922 +/- 0.011\n",
      "Tasa F1-Score(macro) 0.888 +/- 0.012\n",
      "Tasa F1-Score(micro) 0.935 +/- 0.006\n",
      "---------------------------------------------------------------\n",
      "fc_all_label_P_E_S\n",
      "\n",
      "Max Depth: 5\n",
      "Min Samples Split:  5\n",
      "Tasa de acierto: 0.282 +/- 0.073\n",
      "Tasa de Hamming Loss: 0.339 +/- 0.079\n",
      "Tasa de precision(macro) 0.516 +/- 0.093\n",
      "Tasa de precision(micro) 0.716 +/- 0.135\n",
      "Tasa de exactitud(macro): 0.427 +/- 0.245\n",
      "Tasa de exactitud(micro): 0.512 +/- 0.268\n",
      "Tasa F1-Score(macro) 0.396 +/- 0.206\n",
      "Tasa F1-Score(micro) 0.535 +/- 0.242\n",
      "---------------------------------------------------------------\n",
      "fc_ill_label_P_atc\n",
      "\n",
      "Max Depth: 15\n",
      "Min Samples Split:  15\n",
      "Tasa de acierto: 0.762 +/- 0.018\n",
      "Tasa de Hamming Loss: 0.102 +/- 0.008\n",
      "Tasa de precision(macro) 0.901 +/- 0.015\n",
      "Tasa de precision(micro) 0.933 +/- 0.009\n",
      "Tasa de exactitud(macro): 0.836 +/- 0.02\n",
      "Tasa de exactitud(micro): 0.888 +/- 0.012\n",
      "Tasa F1-Score(macro) 0.865 +/- 0.013\n",
      "Tasa F1-Score(micro) 0.91 +/- 0.007\n",
      "---------------------------------------------------------------\n",
      "fc_ill_label_P_cie\n",
      "\n",
      "Max Depth: 5\n",
      "Min Samples Split:  45\n",
      "Tasa de acierto: 0.465 +/- 0.023\n",
      "Tasa de Hamming Loss: 0.244 +/- 0.035\n",
      "Tasa de precision(macro) 0.706 +/- 0.027\n",
      "Tasa de precision(micro) 0.728 +/- 0.039\n",
      "Tasa de exactitud(macro): 0.914 +/- 0.028\n",
      "Tasa de exactitud(micro): 0.936 +/- 0.018\n",
      "Tasa F1-Score(macro) 0.773 +/- 0.019\n",
      "Tasa F1-Score(micro) 0.818 +/- 0.021\n",
      "---------------------------------------------------------------\n",
      "fc_ill_label_P_cie_atc\n",
      "\n",
      "Max Depth: 10\n",
      "Min Samples Split:  5\n",
      "Tasa de acierto: 0.832 +/- 0.016\n",
      "Tasa de Hamming Loss: 0.064 +/- 0.007\n",
      "Tasa de precision(macro) 0.946 +/- 0.013\n",
      "Tasa de precision(micro) 0.965 +/- 0.007\n",
      "Tasa de exactitud(macro): 0.862 +/- 0.018\n",
      "Tasa de exactitud(micro): 0.923 +/- 0.011\n",
      "Tasa F1-Score(macro) 0.898 +/- 0.013\n",
      "Tasa F1-Score(micro) 0.944 +/- 0.006\n",
      "---------------------------------------------------------------\n",
      "fc_ill_label_P_E_S\n",
      "\n",
      "Max Depth: 5\n",
      "Min Samples Split:  20\n",
      "Tasa de acierto: 0.29 +/- 0.036\n",
      "Tasa de Hamming Loss: 0.33 +/- 0.069\n",
      "Tasa de precision(macro) 0.49 +/- 0.103\n",
      "Tasa de precision(micro) 0.765 +/- 0.018\n",
      "Tasa de exactitud(macro): 0.49 +/- 0.132\n",
      "Tasa de exactitud(micro): 0.627 +/- 0.166\n",
      "Tasa F1-Score(macro) 0.448 +/- 0.122\n",
      "Tasa F1-Score(micro) 0.677 +/- 0.103\n",
      "---------------------------------------------------------------\n"
     ]
    }
   ],
   "source": [
    "resultados_etiquetas(names_label)"
   ]
  },
  {
   "cell_type": "code",
   "execution_count": null,
   "metadata": {},
   "outputs": [],
   "source": []
  }
 ],
 "metadata": {
  "kernelspec": {
   "display_name": "Python 3",
   "language": "python",
   "name": "python3"
  },
  "language_info": {
   "codemirror_mode": {
    "name": "ipython",
    "version": 3
   },
   "file_extension": ".py",
   "mimetype": "text/x-python",
   "name": "python",
   "nbconvert_exporter": "python",
   "pygments_lexer": "ipython3",
   "version": "3.6.8"
  }
 },
 "nbformat": 4,
 "nbformat_minor": 2
}
