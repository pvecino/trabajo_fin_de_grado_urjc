{
 "cells": [
  {
   "cell_type": "code",
   "execution_count": 1,
   "metadata": {},
   "outputs": [
    {
     "data": {
      "application/javascript": [
       "IPython.notebook.set_autosave_interval(60000)"
      ]
     },
     "metadata": {},
     "output_type": "display_data"
    },
    {
     "name": "stdout",
     "output_type": "stream",
     "text": [
      "Autosaving every 60 seconds\n"
     ]
    }
   ],
   "source": [
    "# numerical computation\n",
    "import numpy as np\n",
    "import itertools\n",
    "from random import randint\n",
    "# import matplotlib and allow it to plot inline\n",
    "import matplotlib.pyplot as plt\n",
    "%matplotlib inline\n",
    "\n",
    "\n",
    "# dataframe management\n",
    "import pandas as pd\n",
    "\n",
    "from sklearn.exceptions import DataConversionWarning\n",
    "import warnings\n",
    "warnings.simplefilter(action='ignore', category=FutureWarning)\n",
    "warnings.simplefilter(action='ignore', category=DeprecationWarning)\n",
    "warnings.simplefilter(action='ignore', category=UserWarning)\n",
    "warnings.simplefilter(action='ignore', category=DataConversionWarning)\n",
    "from IPython.display import clear_output\n",
    "\n",
    "\n",
    "%autosave 60"
   ]
  },
  {
   "cell_type": "code",
   "execution_count": 2,
   "metadata": {},
   "outputs": [],
   "source": [
    "def opened (path=''):\n",
    "    \n",
    "    X_training=[]\n",
    "    y_training=[]\n",
    "           \n",
    "    for j in range(0, 50):\n",
    "        X_training.append(pd.read_csv('test_train_dataset{}{}_X_train.csv'.format(path,j)))\n",
    "        y_training.append(pd.read_csv('test_train_dataset{}{}_y_train.csv'.format(path, j)))      \n",
    "    return X_training, y_training"
   ]
  },
  {
   "cell_type": "code",
   "execution_count": 3,
   "metadata": {},
   "outputs": [],
   "source": [
    "path_class= ['/class/O_WC_A_', '/class/O_WC_WO_', '/class/P_WC_A_', '/class/P_WC_WO_']\n",
    "name_all=['ocurrencia_all','ocurrencia_ill', 'presencia_all', 'presencia_ill']"
   ]
  },
  {
   "cell_type": "code",
   "execution_count": 4,
   "metadata": {},
   "outputs": [],
   "source": [
    "def select_features (path, name):    \n",
    "    x_train, y_train= opened(path=path)\n",
    "    selector=pd.DataFrame(columns=x_train[0].columns.values)\n",
    "    \n",
    "    for j in range(0, 50):\n",
    "        selector=selector.append(x_train[j].sum()/x_train[j].shape[0], ignore_index=True)\n",
    "        \n",
    "    max_all = pd.DataFrame({'Código' : list(x_train[0].columns.values), 'Valor' : list(selector.sum())})\n",
    "    select_codes = max_all.sort_values(by='Valor',ascending=False).head(n=102)\n",
    "    codes=list(select_codes['Código'])\n",
    "    \n",
    "    \n",
    "    with open(\"feature_selection/freq_{}.txt\".format(name), \"w\") as file:\n",
    "        file.write(str(list(codes)))\n",
    "    \n",
    "    return select_codes"
   ]
  },
  {
   "cell_type": "markdown",
   "metadata": {},
   "source": [
    "## Selección de caracteriticas en base a la presencia en cada codificación.\n",
    "    Esta selección es independiente de si es multi-etiqueta o multi-clase ya que sólo valora la presencia de las caracteriticas."
   ]
  },
  {
   "cell_type": "code",
   "execution_count": 5,
   "metadata": {},
   "outputs": [
    {
     "name": "stdout",
     "output_type": "stream",
     "text": [
      "1\n",
      "2\n",
      "3\n",
      "4\n"
     ]
    }
   ],
   "source": [
    "alpha=0\n",
    "codes = []\n",
    "for p, n in zip(path_class, name_all):\n",
    "    codes.append(select_features(path=p,name=n))\n",
    "    alpha+=1\n",
    "    print(alpha)"
   ]
  },
  {
   "cell_type": "code",
   "execution_count": 6,
   "metadata": {},
   "outputs": [
    {
     "name": "stdout",
     "output_type": "stream",
     "text": [
      "101\n",
      "99\n",
      "Ocurrencia: \n",
      "   SanosVSEnfermos:  {'787'}\n",
      "   EnfermosVSSanos:  {'C08DB'}\n",
      "Presencia: \n",
      "   SanosVSEnfermos:  {'463', '382', 'N02AA'}\n",
      "   EnfermosVSSanos:  {'386', 'A10BH', '365'}\n"
     ]
    }
   ],
   "source": [
    "OS = codes[0]\n",
    "OE = codes[1]\n",
    "PS= codes[2]\n",
    "PE= codes[3]\n",
    "OS_OE = (set(list(OS['Código']))).intersection(set(list(OE['Código'])))\n",
    "print(len(list(OS_OE)))\n",
    "PS_PE = (set(list(PS['Código']))).intersection(set(list(PE['Código'])))\n",
    "print(len(list(PS_PE)))\n",
    "\n",
    "print('Ocurrencia: ')\n",
    "Dif_1_OS_OE = (set(list(OS['Código']))).difference(set(list(OE['Código'])))\n",
    "print('   SanosVSEnfermos: ', Dif_1_OS_OE)\n",
    "Dif_2_OS_OE = (set(list(OE['Código']))).difference(set(list(OS['Código'])))\n",
    "print('   EnfermosVSSanos: ', Dif_2_OS_OE)\n",
    "\n",
    "print('Presencia: ')\n",
    "Dif_1_PS_PE = (set(list(PS['Código']))).difference(set(list(PE['Código'])))\n",
    "print('   SanosVSEnfermos: ', Dif_1_PS_PE)\n",
    "Dif_2_PS_PE = (set(list(PE['Código']))).difference(set(list(PS['Código'])))\n",
    "print('   EnfermosVSSanos: ', Dif_2_PS_PE)"
   ]
  },
  {
   "cell_type": "code",
   "execution_count": 19,
   "metadata": {},
   "outputs": [],
   "source": [
    "OS_OE = list(OS_OE)\n",
    "OS_OE.remove('Edad')\n",
    "OS_OE.remove('Sexo')\n",
    "\n",
    "PS_PE = list(PS_PE)\n",
    "PS_PE.remove('Edad')\n",
    "PS_PE.remove('Sexo')"
   ]
  },
  {
   "cell_type": "code",
   "execution_count": 20,
   "metadata": {},
   "outputs": [],
   "source": [
    "valores_label = ['OS', 'OE', 'PS', 'PE']\n",
    "OS_OE = sorted(OS_OE)\n",
    "\n",
    "PS_PE = sorted(PS_PE)\n",
    "to_plot_oc = pd.DataFrame()\n",
    "to_plot_pr = pd.DataFrame()\n",
    "for i in range(0,4):\n",
    "    if i ==0 or i ==1:\n",
    "        extra_1 =codes[i][codes[i]['Código'].isin(OS_OE)]\n",
    "        extra_2 = extra_1.sort_values(by='Código',ascending=True)\n",
    "        to_plot_oc[valores_label[i]] = extra_2['Valor']\n",
    "    else:\n",
    "        extra_1 =codes[i][codes[i]['Código'].isin(PS_PE)]\n",
    "        extra_2 = extra_1.sort_values(by='Código',ascending=True)\n",
    "        to_plot_pr[valores_label[i]] = extra_2['Valor']"
   ]
  },
  {
   "cell_type": "code",
   "execution_count": 21,
   "metadata": {},
   "outputs": [
    {
     "data": {
      "image/png": "[encoded data removed]",
      "text/plain": [
       "<Figure size 432x288 with 1 Axes>"
      ]
     },
     "metadata": {},
     "output_type": "display_data"
    }
   ],
   "source": [
    "x = np.arange(len(list(OS_OE)))\n",
    "\n",
    "y = to_plot_oc[valores_label[0]]/50\n",
    "z = to_plot_oc[valores_label[1]]/50\n",
    "\n",
    "A =OS_OE\n",
    "w = 0.25\n",
    "ax = plt.subplot(111)\n",
    "plt.xticks(x + w /2, A, rotation='vertical')\n",
    "\n",
    "D = ax.bar(x, y, width=w, color='b', align='center')\n",
    "F = ax.bar(x+w, z, width=w, color='red', align='center')\n",
    "plt.ylabel('Tasa frecuencia de las características')\n",
    "\n",
    "plt.grid()\n",
    "\n",
    "plt.savefig(\"pictures/FR_Ocurrencia.png\", bbox_inches='tight')\n",
    "plt.show()"
   ]
  },
  {
   "cell_type": "code",
   "execution_count": 22,
   "metadata": {},
   "outputs": [
    {
     "data": {
      "image/png": "[encoded data removed]",
      "text/plain": [
       "<Figure size 432x288 with 1 Axes>"
      ]
     },
     "metadata": {},
     "output_type": "display_data"
    }
   ],
   "source": [
    "x = np.arange(len(list(PS_PE)))\n",
    "k = to_plot_pr[valores_label[2]]/50\n",
    "j = to_plot_pr[valores_label[3]]/50\n",
    "A =PS_PE\n",
    "w = 0.25\n",
    "\n",
    "ax = plt.subplot(111)\n",
    "plt.xticks(x + w /2, A, rotation='vertical')\n",
    "\n",
    "G = ax.bar(x, k, width=w, color='b', align='center')\n",
    "H = ax.bar(x+w, j, width=w, color='red', align='center')\n",
    "plt.ylabel('Tasa frecuencia de las características')\n",
    "\n",
    "plt.grid()\n",
    "\n",
    "plt.savefig(\"pictures/FR_Presencia.png\", bbox_inches='tight')\n",
    "plt.show()"
   ]
  },
  {
   "cell_type": "code",
   "execution_count": null,
   "metadata": {},
   "outputs": [],
   "source": []
  }
 ],
 "metadata": {
  "kernelspec": {
   "display_name": "Python 3",
   "language": "python",
   "name": "python3"
  },
  "language_info": {
   "codemirror_mode": {
    "name": "ipython",
    "version": 3
   },
   "file_extension": ".py",
   "mimetype": "text/x-python",
   "name": "python",
   "nbconvert_exporter": "python",
   "pygments_lexer": "ipython3",
   "version": "3.6.8"
  }
 },
 "nbformat": 4,
 "nbformat_minor": 2
}
