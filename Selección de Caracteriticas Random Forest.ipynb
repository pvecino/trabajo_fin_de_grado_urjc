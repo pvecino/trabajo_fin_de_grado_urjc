{
 "cells": [
  {
   "cell_type": "code",
   "execution_count": 1,
   "metadata": {
    "scrolled": true
   },
   "outputs": [
    {
     "data": {
      "application/javascript": [
       "IPython.notebook.set_autosave_interval(60000)"
      ]
     },
     "metadata": {},
     "output_type": "display_data"
    },
    {
     "name": "stdout",
     "output_type": "stream",
     "text": [
      "Autosaving every 60 seconds\n"
     ]
    }
   ],
   "source": [
    "# numerical computation\n",
    "import numpy as np\n",
    "import itertools\n",
    "from random import randint\n",
    "# import matplotlib and allow it to plot inline\n",
    "import matplotlib.pyplot as plt\n",
    "%matplotlib inline\n",
    "\n",
    "# import sklearn\n",
    "\n",
    "from sklearn.ensemble import RandomForestClassifier\n",
    "\n",
    "from sklearn.preprocessing import StandardScaler\n",
    "\n",
    "\n",
    "# dataframe management\n",
    "import pandas as pd\n",
    "\n",
    "import warnings\n",
    "warnings.simplefilter(action='ignore', category=FutureWarning)\n",
    "warnings.simplefilter(action='ignore', category=DeprecationWarning)\n",
    "warnings.simplefilter(action='ignore', category=UserWarning)\n",
    "\n",
    "\n",
    "%autosave 60"
   ]
  },
  {
   "cell_type": "markdown",
   "metadata": {},
   "source": [
    "# Selección de caracteriticas en función de Random Forest\n",
    "    En este método depende de la clasificación en la que se va a proceder para elegir las caractertisticas, por eso tendremos 3 por cada BBDD."
   ]
  },
  {
   "cell_type": "code",
   "execution_count": 2,
   "metadata": {},
   "outputs": [],
   "source": [
    "def opened (path=''):\n",
    "    \n",
    "    X_training=[]\n",
    "    y_training=[]\n",
    "           \n",
    "    for j in range(0, 50):\n",
    "        X_training.append(pd.read_csv('test_train_dataset{}{}_X_train.csv'.format(path,j)))\n",
    "        y_training.append(pd.read_csv('test_train_dataset{}{}_y_train.csv'.format(path, j)))      \n",
    "    return X_training, y_training"
   ]
  },
  {
   "cell_type": "code",
   "execution_count": 3,
   "metadata": {},
   "outputs": [],
   "source": [
    "def select_features (path, name):    \n",
    "    x_train, y_train= opened(path=path)\n",
    "    feature_importances = []\n",
    "    \n",
    "    for s in range(0, 50):\n",
    "        x_training = x_train[s][x_train[s].columns[2:2265]]\n",
    "        columns_df = list(x_train[s].columns[2:2265])\n",
    "        ss=StandardScaler()\n",
    "        ss.fit(x_training)\n",
    "        ss_train=ss.transform(x_training)\n",
    "\n",
    "        etrees = RandomForestClassifier(criterion='entropy', n_estimators=1000, n_jobs=-1)\n",
    "        etrees = etrees.fit(ss_train, y_train[s])\n",
    "        \n",
    "        feature_importances.append(list(etrees.feature_importances_))\n",
    "        \n",
    "    importances = pd.DataFrame(feature_importances, columns = columns_df)\n",
    "    maximun = pd.DataFrame({'Código' : columns_df, 'Valor' : list(importances.sum())})\n",
    "    select_codes = maximun.sort_values(by='Valor',ascending=False).head(n=100)\n",
    "    codes=list(select_codes['Código'])\n",
    "    codes.append('Edad')\n",
    "    codes.append('Sexo')\n",
    "    \n",
    "    \n",
    "    with open(\"feature_selection/rf_{}.txt\".format(name), \"w\") as file:\n",
    "        file.write(str(list(codes)))\n",
    "    \n",
    "    return select_codes"
   ]
  },
  {
   "cell_type": "code",
   "execution_count": 4,
   "metadata": {},
   "outputs": [],
   "source": [
    "path_label= ['/label/O_WL_A_', '/label/O_WL_WO_', '/label/P_WL_A_', '/label/P_WL_WO_']\n",
    "name_all=['label_o_all','label_o_ill', 'label_p_all', 'label_p_ill']"
   ]
  },
  {
   "cell_type": "code",
   "execution_count": 5,
   "metadata": {},
   "outputs": [
    {
     "name": "stdout",
     "output_type": "stream",
     "text": [
      "1\n",
      "2\n",
      "3\n",
      "4\n"
     ]
    }
   ],
   "source": [
    "alpha=0\n",
    "codes = []\n",
    "for p, n in zip(path_label, name_all):\n",
    "    codes.append(select_features(path=p,name=n))\n",
    "    alpha+=1\n",
    "    print(alpha)"
   ]
  },
  {
   "cell_type": "code",
   "execution_count": 6,
   "metadata": {},
   "outputs": [],
   "source": [
    "label_codes =[]\n",
    "for i in range(0, 4):    \n",
    "    label_codes.append(codes[i])"
   ]
  },
  {
   "cell_type": "code",
   "execution_count": 7,
   "metadata": {},
   "outputs": [
    {
     "name": "stdout",
     "output_type": "stream",
     "text": [
      "Ocurrencia: \n",
      "   SanosVSEnfermos:  {'244', '787', '463', '305', 'A02AD'}\n",
      "   EnfermosVSSanos:  {'N04BA', 'J01XX', 'N05AX', 'R03BA', 'N04BC'}\n",
      "Presencia: \n",
      "   SanosVSEnfermos:  {'244', '558', '463'}\n",
      "   EnfermosVSSanos:  {'H03CA', 'N04BC', 'N05AX'}\n"
     ]
    }
   ],
   "source": [
    "OS = codes[0].head(25)\n",
    "OE = codes[1].head(25)\n",
    "PS=codes[2].head(25)\n",
    "PE=codes[3].head(25)\n",
    "OS_OE = (set(list(OS['Código']))).intersection(set(list(OE['Código'])))\n",
    "PS_PE = (set(list(PS['Código']))).intersection(set(list(PE['Código'])))\n",
    "\n",
    "print('Ocurrencia: ')\n",
    "Dif_1_OS_OE = (set(list(OS['Código']))).difference(set(list(OE['Código'])))\n",
    "print('   SanosVSEnfermos: ', Dif_1_OS_OE)\n",
    "Dif_2_OS_OE = (set(list(OE['Código']))).difference(set(list(OS['Código'])))\n",
    "print('   EnfermosVSSanos: ', Dif_2_OS_OE)\n",
    "\n",
    "print('Presencia: ')\n",
    "Dif_1_PS_PE = (set(list(PS['Código']))).difference(set(list(PE['Código'])))\n",
    "print('   SanosVSEnfermos: ', Dif_1_PS_PE)\n",
    "Dif_2_PS_PE = (set(list(PE['Código']))).difference(set(list(PS['Código'])))\n",
    "print('   EnfermosVSSanos: ', Dif_2_PS_PE)"
   ]
  },
  {
   "cell_type": "code",
   "execution_count": 23,
   "metadata": {},
   "outputs": [],
   "source": [
    "valores_label = ['OS', 'OE', 'PS', 'PE']\n",
    "OS_OE = sorted(OS_OE)\n",
    "PS_PE = sorted(PS_PE)\n",
    "to_plot_oc = pd.DataFrame()\n",
    "to_plot_pr = pd.DataFrame()\n",
    "for i in range(0,4):\n",
    "    if i ==0 or i ==1:\n",
    "        extra_1 =label_codes[i][label_codes[i]['Código'].isin(list(OS_OE))]\n",
    "        extra_2 = extra_1.sort_values(by='Código',ascending=True)\n",
    "        to_plot_oc[valores_label[i]] = extra_2['Valor']\n",
    "    else:\n",
    "        extra_1 =label_codes[i][label_codes[i]['Código'].isin(list(PS_PE))]\n",
    "        extra_2 = extra_1.sort_values(by='Código',ascending=True)\n",
    "        to_plot_pr[valores_label[i]] = extra_2['Valor']"
   ]
  },
  {
   "cell_type": "code",
   "execution_count": 24,
   "metadata": {},
   "outputs": [
    {
     "data": {
      "image/png": "[encoded data removed]",
      "text/plain": [
       "<Figure size 432x288 with 1 Axes>"
      ]
     },
     "metadata": {},
     "output_type": "display_data"
    }
   ],
   "source": [
    "import matplotlib.pyplot as plt\n",
    "\n",
    "\n",
    "x = np.arange(len(list(OS_OE)))\n",
    "\n",
    "y = to_plot_oc[valores_label[0]]/50\n",
    "z = to_plot_oc[valores_label[1]]/50\n",
    "\n",
    "\n",
    "A =OS_OE\n",
    "w = 0.25\n",
    "ax = plt.subplot(111)\n",
    "plt.xticks(x + w /2, A, rotation='vertical')\n",
    "\n",
    "D = ax.bar(x, y, width=w, color='b', align='center')\n",
    "F = ax.bar(x+w, z, width=w, color='red', align='center')\n",
    "plt.ylabel('Importancia de las características')\n",
    "\n",
    "plt.grid()\n",
    "\n",
    "plt.savefig(\"pictures/RF_Ocurrencia_Label.png\", bbox_inches='tight')\n",
    "plt.show()"
   ]
  },
  {
   "cell_type": "code",
   "execution_count": 25,
   "metadata": {},
   "outputs": [
    {
     "data": {
      "image/png": "[encoded data removed]",
      "text/plain": [
       "<Figure size 432x288 with 1 Axes>"
      ]
     },
     "metadata": {},
     "output_type": "display_data"
    }
   ],
   "source": [
    "x = np.arange(len(list(PS_PE)))\n",
    "k = to_plot_pr[valores_label[2]]/50\n",
    "j = to_plot_pr[valores_label[3]]/50\n",
    "A =PS_PE\n",
    "w = 0.25\n",
    "\n",
    "ax = plt.subplot(111)\n",
    "plt.xticks(x + w /2, A, rotation='vertical')\n",
    "\n",
    "G = ax.bar(x, k, width=w, color='b', align='center')\n",
    "H = ax.bar(x+w, j, width=w, color='red', align='center')\n",
    "plt.ylabel('Importancia de las características')\n",
    "\n",
    "plt.grid()\n",
    "\n",
    "plt.savefig(\"pictures/RF_Presencia_Label.png\", bbox_inches='tight')\n",
    "plt.show()"
   ]
  },
  {
   "cell_type": "code",
   "execution_count": null,
   "metadata": {},
   "outputs": [],
   "source": []
  },
  {
   "cell_type": "code",
   "execution_count": 8,
   "metadata": {},
   "outputs": [],
   "source": [
    "path_class= ['/class/O_WC_A_', '/class/O_WC_WO_', '/class/P_WC_A_', '/class/P_WC_WO_']\n",
    "name_all=['class_o_all','class_o_ill', 'class_p_all', 'class_p_ill']"
   ]
  },
  {
   "cell_type": "code",
   "execution_count": 9,
   "metadata": {
    "scrolled": true
   },
   "outputs": [
    {
     "name": "stdout",
     "output_type": "stream",
     "text": [
      "1\n",
      "2\n",
      "3\n",
      "4\n"
     ]
    }
   ],
   "source": [
    "alpha=0\n",
    "codes = []\n",
    "for p, n in zip(path_class, name_all):\n",
    "    codes.append(select_features(path=p,name=n))\n",
    "    alpha+=1\n",
    "    print(alpha)   "
   ]
  },
  {
   "cell_type": "code",
   "execution_count": 11,
   "metadata": {},
   "outputs": [
    {
     "name": "stdout",
     "output_type": "stream",
     "text": [
      "Ocurrencia: \n",
      "   SanosVSEnfermos:  {'558', '463'}\n",
      "   EnfermosVSSanos:  {'N05AH', 'C03DA'}\n",
      "Presencia: \n",
      "   SanosVSEnfermos:  {'A02AD', '558', '463'}\n",
      "   EnfermosVSSanos:  {'N05AH', '427', 'C03DA'}\n"
     ]
    }
   ],
   "source": [
    "OS = codes[0].head(25)\n",
    "OE = codes[1].head(25)\n",
    "PS=codes[2].head(25)\n",
    "PE=codes[3].head(25)\n",
    "OS_OE = (set(list(OS['Código']))).intersection(set(list(OE['Código'])))\n",
    "PS_PE = (set(list(PS['Código']))).intersection(set(list(PE['Código'])))\n",
    "\n",
    "print('Ocurrencia: ')\n",
    "Dif_1_OS_OE = (set(list(OS['Código']))).difference(set(list(OE['Código'])))\n",
    "print('   SanosVSEnfermos: ', Dif_1_OS_OE)\n",
    "Dif_2_OS_OE = (set(list(OE['Código']))).difference(set(list(OS['Código'])))\n",
    "print('   EnfermosVSSanos: ', Dif_2_OS_OE)\n",
    "\n",
    "print('Presencia: ')\n",
    "Dif_1_PS_PE = (set(list(PS['Código']))).difference(set(list(PE['Código'])))\n",
    "print('   SanosVSEnfermos: ', Dif_1_PS_PE)\n",
    "Dif_2_PS_PE = (set(list(PE['Código']))).difference(set(list(PS['Código'])))\n",
    "print('   EnfermosVSSanos: ', Dif_2_PS_PE)"
   ]
  },
  {
   "cell_type": "code",
   "execution_count": 29,
   "metadata": {},
   "outputs": [],
   "source": [
    "class_codes =[]\n",
    "for i in range(0, 4):    \n",
    "    class_codes.append(codes[i])"
   ]
  },
  {
   "cell_type": "code",
   "execution_count": 30,
   "metadata": {},
   "outputs": [],
   "source": [
    "valores_label = ['OS', 'OE', 'PS', 'PE']\n",
    "OS_OE = sorted(OS_OE)\n",
    "PS_PE = sorted(PS_PE)\n",
    "to_plot_oc = pd.DataFrame()\n",
    "to_plot_pr = pd.DataFrame()\n",
    "for i in range(0,4):\n",
    "    if i ==0 or i ==1:\n",
    "        extra_1 =class_codes[i][class_codes[i]['Código'].isin(list(OS_OE))]\n",
    "        extra_2 = extra_1.sort_values(by='Código',ascending=True)\n",
    "        to_plot_oc[valores_label[i]] = extra_2['Valor']\n",
    "    else:\n",
    "        extra_1 =class_codes[i][class_codes[i]['Código'].isin(list(PS_PE))]\n",
    "        extra_2 = extra_1.sort_values(by='Código',ascending=True)\n",
    "        to_plot_pr[valores_label[i]] = extra_2['Valor']"
   ]
  },
  {
   "cell_type": "code",
   "execution_count": 31,
   "metadata": {},
   "outputs": [
    {
     "data": {
      "image/png": "[encoded data removed]",
      "text/plain": [
       "<Figure size 432x288 with 1 Axes>"
      ]
     },
     "metadata": {},
     "output_type": "display_data"
    }
   ],
   "source": [
    "x = np.arange(len(list(OS_OE)))\n",
    "\n",
    "y = to_plot_oc[valores_label[0]]/50\n",
    "z = to_plot_oc[valores_label[1]]/50\n",
    "\n",
    "A =OS_OE\n",
    "w = 0.25\n",
    "ax = plt.subplot(111)\n",
    "plt.xticks(x + w /2, A, rotation='vertical')\n",
    "\n",
    "D = ax.bar(x, y, width=w, color='b', align='center')\n",
    "F = ax.bar(x+w, z, width=w, color='red', align='center')\n",
    "plt.ylabel('Importancia de las características')\n",
    "\n",
    "plt.grid()\n",
    "\n",
    "plt.savefig(\"pictures/RF_Ocurrencia_Clase.png\", bbox_inches='tight')\n",
    "plt.show()"
   ]
  },
  {
   "cell_type": "code",
   "execution_count": 32,
   "metadata": {},
   "outputs": [
    {
     "data": {
      "image/png": "[encoded data removed]",
      "text/plain": [
       "<Figure size 432x288 with 1 Axes>"
      ]
     },
     "metadata": {},
     "output_type": "display_data"
    }
   ],
   "source": [
    "x = np.arange(len(list(PS_PE)))\n",
    "k = to_plot_pr[valores_label[2]]/50\n",
    "j = to_plot_pr[valores_label[3]]/50\n",
    "A =PS_PE\n",
    "w = 0.25\n",
    "\n",
    "ax = plt.subplot(111)\n",
    "plt.xticks(x + w /2, A, rotation='vertical')\n",
    "\n",
    "G = ax.bar(x, k, width=w, color='b', align='center')\n",
    "H = ax.bar(x+w, j, width=w, color='red', align='center')\n",
    "plt.ylabel('Importancia de las características')\n",
    "\n",
    "plt.grid()\n",
    "\n",
    "plt.savefig(\"pictures/RF_Presencia_Clase.png\", bbox_inches='tight')\n",
    "plt.show()"
   ]
  },
  {
   "cell_type": "markdown",
   "metadata": {},
   "source": []
  }
 ],
 "metadata": {
  "kernelspec": {
   "display_name": "Python 3",
   "language": "python",
   "name": "python3"
  },
  "language_info": {
   "codemirror_mode": {
    "name": "ipython",
    "version": 3
   },
   "file_extension": ".py",
   "mimetype": "text/x-python",
   "name": "python",
   "nbconvert_exporter": "python",
   "pygments_lexer": "ipython3",
   "version": "3.6.8"
  }
 },
 "nbformat": 4,
 "nbformat_minor": 2
}
