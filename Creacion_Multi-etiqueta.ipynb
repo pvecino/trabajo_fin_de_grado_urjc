{
 "cells": [
  {
   "cell_type": "code",
   "execution_count": 4,
   "metadata": {},
   "outputs": [],
   "source": [
    "import numpy as np\n",
    "import matplotlib.pyplot as plt\n",
    "import pandas as pd"
   ]
  },
  {
   "cell_type": "markdown",
   "metadata": {},
   "source": [
    "# Creando las bases de datos"
   ]
  },
  {
   "cell_type": "markdown",
   "metadata": {},
   "source": [
    "### CRG 1000"
   ]
  },
  {
   "cell_type": "code",
   "execution_count": 5,
   "metadata": {},
   "outputs": [],
   "source": [
    "crg_1000 = pd.read_csv('./datasets/matrix_CRG1000.csv')"
   ]
  },
  {
   "cell_type": "code",
   "execution_count": 6,
   "metadata": {},
   "outputs": [
    {
     "data": {
      "text/plain": [
       "count    46835.000000\n",
       "mean         0.405978\n",
       "std          0.776006\n",
       "min          0.000000\n",
       "25%          0.000000\n",
       "50%          0.000000\n",
       "75%          1.000000\n",
       "max         21.000000\n",
       "Name: M01AE, dtype: float64"
      ]
     },
     "execution_count": 6,
     "metadata": {},
     "output_type": "execute_result"
    }
   ],
   "source": [
    "crg_1000_with_labels_O = crg_1000\n",
    "N_Pacientes = crg_1000_with_labels_O.shape[0]\n",
    "crg_1000_with_labels_O['HP'] = np.zeros(N_Pacientes, dtype=int)\n",
    "crg_1000_with_labels_O['Diabetes'] = np.zeros(N_Pacientes, dtype=int)\n",
    "crg_1000_with_labels_O['Otros'] = np.zeros(N_Pacientes, dtype=int)\n",
    "crg_1000_with_labels_O['M01AE'].describe()"
   ]
  },
  {
   "cell_type": "code",
   "execution_count": 7,
   "metadata": {},
   "outputs": [],
   "source": [
    "crg_1000_with_labels_O.to_csv('datasets/label/crg_1000_with_labels_O.csv', index=False)"
   ]
  },
  {
   "cell_type": "code",
   "execution_count": 8,
   "metadata": {},
   "outputs": [
    {
     "data": {
      "text/plain": [
       "count    46835.000000\n",
       "mean         0.292153\n",
       "std          0.454757\n",
       "min          0.000000\n",
       "25%          0.000000\n",
       "50%          0.000000\n",
       "75%          1.000000\n",
       "max          1.000000\n",
       "Name: M01AE, dtype: float64"
      ]
     },
     "execution_count": 8,
     "metadata": {},
     "output_type": "execute_result"
    }
   ],
   "source": [
    "presencia = (crg_1000[crg_1000.columns[2:]] > 0).astype(int)\n",
    "crg_1000_with_labels_P =pd.concat([crg_1000[crg_1000.columns[:2]], presencia], axis = 1)\n",
    "crg_1000_with_labels_P['HP'] = np.zeros(N_Pacientes, dtype=int)\n",
    "crg_1000_with_labels_P['Diabetes'] = np.zeros(N_Pacientes, dtype=int)\n",
    "crg_1000_with_labels_P['Otros'] = np.zeros(N_Pacientes, dtype=int)\n",
    "crg_1000_with_labels_P['M01AE'].describe()"
   ]
  },
  {
   "cell_type": "code",
   "execution_count": 9,
   "metadata": {},
   "outputs": [],
   "source": [
    "crg_1000_with_labels_P.to_csv('datasets/label/crg_1000_with_labels_P.csv', index=False)"
   ]
  },
  {
   "cell_type": "markdown",
   "metadata": {},
   "source": [
    "## CRG5192"
   ]
  },
  {
   "cell_type": "code",
   "execution_count": 10,
   "metadata": {},
   "outputs": [],
   "source": [
    "crg_5192 = pd.read_csv('./datasets/matrix_CRG5192.csv')"
   ]
  },
  {
   "cell_type": "code",
   "execution_count": 11,
   "metadata": {},
   "outputs": [
    {
     "data": {
      "text/plain": [
       "count    12447.000000\n",
       "mean         0.539648\n",
       "std          1.323777\n",
       "min          0.000000\n",
       "25%          0.000000\n",
       "50%          0.000000\n",
       "75%          1.000000\n",
       "max         26.000000\n",
       "Name: M01AE, dtype: float64"
      ]
     },
     "execution_count": 11,
     "metadata": {},
     "output_type": "execute_result"
    }
   ],
   "source": [
    "crg_5192_with_labels_O = crg_5192\n",
    "N_Pacientes = crg_5192_with_labels_O.shape[0]\n",
    "crg_5192_with_labels_O['HP'] = np.ones(N_Pacientes, dtype=int)\n",
    "crg_5192_with_labels_O['Diabetes'] = np.zeros(N_Pacientes, dtype=int)\n",
    "crg_5192_with_labels_O['Otros'] = np.zeros(N_Pacientes, dtype=int)\n",
    "crg_5192_with_labels_O['M01AE'].describe()"
   ]
  },
  {
   "cell_type": "code",
   "execution_count": 12,
   "metadata": {},
   "outputs": [],
   "source": [
    "crg_5192_with_labels_O.to_csv('datasets/label/crg_5192_with_labels_O.csv', index=False)"
   ]
  },
  {
   "cell_type": "code",
   "execution_count": 13,
   "metadata": {},
   "outputs": [
    {
     "data": {
      "text/plain": [
       "count    12447.000000\n",
       "mean         0.274203\n",
       "std          0.446130\n",
       "min          0.000000\n",
       "25%          0.000000\n",
       "50%          0.000000\n",
       "75%          1.000000\n",
       "max          1.000000\n",
       "Name: M01AE, dtype: float64"
      ]
     },
     "execution_count": 13,
     "metadata": {},
     "output_type": "execute_result"
    }
   ],
   "source": [
    "presencia = (crg_5192[crg_5192.columns[2:]] > 0).astype(int)\n",
    "crg_5192_with_labels_P =pd.concat([crg_5192[crg_5192.columns[:2]], presencia], axis = 1)\n",
    "crg_5192_with_labels_P['HP'] = np.ones(N_Pacientes, dtype=int)\n",
    "crg_5192_with_labels_P['Diabetes'] = np.zeros(N_Pacientes, dtype=int)\n",
    "crg_5192_with_labels_P['Otros'] = np.zeros(N_Pacientes, dtype=int)\n",
    "crg_5192_with_labels_P['M01AE'].describe()"
   ]
  },
  {
   "cell_type": "code",
   "execution_count": 14,
   "metadata": {},
   "outputs": [],
   "source": [
    "crg_5192_with_labels_P.to_csv('datasets/label/crg_5192_with_labels_P.csv', index=False)"
   ]
  },
  {
   "cell_type": "markdown",
   "metadata": {},
   "source": [
    "## CRG5424"
   ]
  },
  {
   "cell_type": "code",
   "execution_count": 15,
   "metadata": {},
   "outputs": [],
   "source": [
    "crg_5424 = pd.read_csv('./datasets/matrix_CRG5424.csv')"
   ]
  },
  {
   "cell_type": "code",
   "execution_count": 16,
   "metadata": {},
   "outputs": [
    {
     "data": {
      "text/plain": [
       "count    2166.000000\n",
       "mean        0.554017\n",
       "std         1.350935\n",
       "min         0.000000\n",
       "25%         0.000000\n",
       "50%         0.000000\n",
       "75%         1.000000\n",
       "max        21.000000\n",
       "Name: M01AE, dtype: float64"
      ]
     },
     "execution_count": 16,
     "metadata": {},
     "output_type": "execute_result"
    }
   ],
   "source": [
    "crg_5424_with_labels_O = crg_5424\n",
    "N_Pacientes = crg_5424_with_labels_O.shape[0]\n",
    "crg_5424_with_labels_O['HP'] = np.zeros(N_Pacientes, dtype=int)\n",
    "crg_5424_with_labels_O['Diabetes'] = np.ones(N_Pacientes, dtype=int)\n",
    "crg_5424_with_labels_O['Otros'] = np.zeros(N_Pacientes, dtype=int)\n",
    "crg_5424_with_labels_O['M01AE'].describe()"
   ]
  },
  {
   "cell_type": "code",
   "execution_count": 17,
   "metadata": {},
   "outputs": [],
   "source": [
    "crg_5424_with_labels_O.to_csv('datasets/label/crg_5424_with_labels_O.csv', index=False)"
   ]
  },
  {
   "cell_type": "code",
   "execution_count": 18,
   "metadata": {},
   "outputs": [
    {
     "data": {
      "text/plain": [
       "count    2166.000000\n",
       "mean        0.285319\n",
       "std         0.451670\n",
       "min         0.000000\n",
       "25%         0.000000\n",
       "50%         0.000000\n",
       "75%         1.000000\n",
       "max         1.000000\n",
       "Name: M01AE, dtype: float64"
      ]
     },
     "execution_count": 18,
     "metadata": {},
     "output_type": "execute_result"
    }
   ],
   "source": [
    "presencia = (crg_5424[crg_5424.columns[2:]] > 0).astype(int)\n",
    "crg_5424_with_labels_P =pd.concat([crg_5424[crg_5424.columns[:2]], presencia], axis = 1)\n",
    "crg_5424_with_labels_P['HP'] = np.zeros(N_Pacientes, dtype=int)\n",
    "crg_5424_with_labels_P['Diabetes'] = np.ones(N_Pacientes, dtype=int)\n",
    "crg_5424_with_labels_P['Otros'] = np.zeros(N_Pacientes, dtype=int)\n",
    "crg_5424_with_labels_P['M01AE'].describe()"
   ]
  },
  {
   "cell_type": "code",
   "execution_count": 19,
   "metadata": {},
   "outputs": [],
   "source": [
    "crg_5424_with_labels_P.to_csv('datasets/label/crg_5424_with_labels_P.csv', index=False)"
   ]
  },
  {
   "cell_type": "markdown",
   "metadata": {},
   "source": [
    "## CRG6144"
   ]
  },
  {
   "cell_type": "code",
   "execution_count": 20,
   "metadata": {},
   "outputs": [],
   "source": [
    "crg_6144 = pd.read_csv('./datasets/matrix_CRG6144.csv')"
   ]
  },
  {
   "cell_type": "code",
   "execution_count": 21,
   "metadata": {},
   "outputs": [
    {
     "data": {
      "text/plain": [
       "count    3179.000000\n",
       "mean        0.602391\n",
       "std         1.576597\n",
       "min         0.000000\n",
       "25%         0.000000\n",
       "50%         0.000000\n",
       "75%         1.000000\n",
       "max        28.000000\n",
       "Name: M01AE, dtype: float64"
      ]
     },
     "execution_count": 21,
     "metadata": {},
     "output_type": "execute_result"
    }
   ],
   "source": [
    "crg_6144_with_labels_O = crg_6144\n",
    "N_Pacientes = crg_6144_with_labels_O.shape[0]\n",
    "crg_6144_with_labels_O['HP'] = np.ones(N_Pacientes, dtype=int)\n",
    "crg_6144_with_labels_O['Diabetes'] = np.ones(N_Pacientes, dtype=int)\n",
    "crg_6144_with_labels_O['Otros'] = np.zeros(N_Pacientes, dtype=int)\n",
    "crg_6144_with_labels_O['M01AE'].describe()"
   ]
  },
  {
   "cell_type": "code",
   "execution_count": 22,
   "metadata": {},
   "outputs": [],
   "source": [
    "crg_6144_with_labels_O.to_csv('datasets/label/crg_6144_with_labels_O.csv', index=False)"
   ]
  },
  {
   "cell_type": "code",
   "execution_count": 23,
   "metadata": {},
   "outputs": [
    {
     "data": {
      "text/plain": [
       "count    3179.000000\n",
       "mean        0.268953\n",
       "std         0.443485\n",
       "min         0.000000\n",
       "25%         0.000000\n",
       "50%         0.000000\n",
       "75%         1.000000\n",
       "max         1.000000\n",
       "Name: M01AE, dtype: float64"
      ]
     },
     "execution_count": 23,
     "metadata": {},
     "output_type": "execute_result"
    }
   ],
   "source": [
    "presencia = (crg_6144[crg_6144.columns[2:]] > 0).astype(int)\n",
    "crg_6144_with_labels_P =pd.concat([crg_6144[crg_6144.columns[:2]], presencia], axis = 1)\n",
    "crg_6144_with_labels_P['HP'] = np.ones(N_Pacientes, dtype=int)\n",
    "crg_6144_with_labels_P['Diabetes'] = np.ones(N_Pacientes, dtype=int)\n",
    "crg_6144_with_labels_P['Otros'] = np.zeros(N_Pacientes, dtype=int)\n",
    "crg_6144_with_labels_P['M01AE'].describe()"
   ]
  },
  {
   "cell_type": "code",
   "execution_count": 24,
   "metadata": {},
   "outputs": [],
   "source": [
    "crg_6144_with_labels_P.to_csv('datasets/label/crg_6144_with_labels_P.csv', index=False)"
   ]
  },
  {
   "cell_type": "markdown",
   "metadata": {},
   "source": [
    "## CRG7071"
   ]
  },
  {
   "cell_type": "code",
   "execution_count": 25,
   "metadata": {},
   "outputs": [],
   "source": [
    "crg_7071 = pd.read_csv('./datasets/matrix_CRG7071.csv')"
   ]
  },
  {
   "cell_type": "code",
   "execution_count": 26,
   "metadata": {},
   "outputs": [
    {
     "data": {
      "text/plain": [
       "count    547.000000\n",
       "mean       0.700183\n",
       "std        1.645746\n",
       "min        0.000000\n",
       "25%        0.000000\n",
       "50%        0.000000\n",
       "75%        1.000000\n",
       "max       14.000000\n",
       "Name: M01AE, dtype: float64"
      ]
     },
     "execution_count": 26,
     "metadata": {},
     "output_type": "execute_result"
    }
   ],
   "source": [
    "crg_7071_with_labels_O = crg_7071\n",
    "N_Pacientes = crg_7071_with_labels_O.shape[0]\n",
    "crg_7071_with_labels_O['HP'] = np.ones(N_Pacientes, dtype=int)\n",
    "crg_7071_with_labels_O['Diabetes'] = np.ones(N_Pacientes, dtype=int)\n",
    "crg_7071_with_labels_O['Otros'] = np.ones(N_Pacientes, dtype=int)\n",
    "crg_7071_with_labels_O['M01AE'].describe()"
   ]
  },
  {
   "cell_type": "code",
   "execution_count": 27,
   "metadata": {},
   "outputs": [],
   "source": [
    "crg_7071_with_labels_O.to_csv('datasets/label/crg_7071_with_labels_O.csv', index=False)\n",
    "O_WL_crg_7071 = crg_7071_with_labels_O"
   ]
  },
  {
   "cell_type": "code",
   "execution_count": 28,
   "metadata": {},
   "outputs": [
    {
     "data": {
      "text/plain": [
       "count    547.000000\n",
       "mean       0.303473\n",
       "std        0.460179\n",
       "min        0.000000\n",
       "25%        0.000000\n",
       "50%        0.000000\n",
       "75%        1.000000\n",
       "max        1.000000\n",
       "Name: M01AE, dtype: float64"
      ]
     },
     "execution_count": 28,
     "metadata": {},
     "output_type": "execute_result"
    }
   ],
   "source": [
    "presencia = (crg_7071[crg_7071.columns[2:]] > 0).astype(int)\n",
    "crg_7071_with_labels_P =pd.concat([crg_7071[crg_7071.columns[:2]], presencia], axis = 1)\n",
    "crg_7071_with_labels_P['HP'] = np.ones(N_Pacientes, dtype=int)\n",
    "crg_7071_with_labels_P['Diabetes'] = np.ones(N_Pacientes, dtype=int)\n",
    "crg_7071_with_labels_P['Otros'] = np.ones(N_Pacientes, dtype=int)\n",
    "crg_7071_with_labels_P['M01AE'].describe()"
   ]
  },
  {
   "cell_type": "code",
   "execution_count": 29,
   "metadata": {},
   "outputs": [],
   "source": [
    "crg_7071_with_labels_P.to_csv('datasets/label/crg_7071_with_labels_P.csv', index=False)\n",
    "P_WL_crg_7071 = crg_7071_with_labels_P"
   ]
  },
  {
   "cell_type": "markdown",
   "metadata": {},
   "source": [
    "# Balanceando las BBDD"
   ]
  },
  {
   "cell_type": "code",
   "execution_count": 30,
   "metadata": {},
   "outputs": [],
   "source": [
    "limit = crg_7071_with_labels_P.shape[0]"
   ]
  },
  {
   "cell_type": "markdown",
   "metadata": {},
   "source": [
    "### Ocurrencia"
   ]
  },
  {
   "cell_type": "code",
   "execution_count": 31,
   "metadata": {
    "scrolled": true
   },
   "outputs": [
    {
     "name": "stdout",
     "output_type": "stream",
     "text": [
      "86\n"
     ]
    }
   ],
   "source": [
    "for i in range(0,round(crg_1000_with_labels_O.shape[0]/limit)):\n",
    "    ind_1000 = crg_1000_with_labels_O.sample(n=limit)\n",
    "    ind_1000.to_csv('split_datasets/label/O_WL_crg_1000_Split_0{}.csv'.format(i), index=False)\n",
    "print(round(crg_1000_with_labels_O.shape[0]/limit))"
   ]
  },
  {
   "cell_type": "code",
   "execution_count": 32,
   "metadata": {},
   "outputs": [
    {
     "name": "stdout",
     "output_type": "stream",
     "text": [
      "23\n"
     ]
    }
   ],
   "source": [
    "for i in range(0,round(crg_5192_with_labels_O.shape[0]/limit)):\n",
    "    ind_5192 = crg_5192_with_labels_O.sample(n=limit)\n",
    "    ind_5192.to_csv('split_datasets/label/O_WL_crg_5192_Split_0{}.csv'.format(i), index=False)\n",
    "print(round(crg_5192_with_labels_O.shape[0]/limit))"
   ]
  },
  {
   "cell_type": "code",
   "execution_count": 33,
   "metadata": {},
   "outputs": [
    {
     "name": "stdout",
     "output_type": "stream",
     "text": [
      "4\n"
     ]
    }
   ],
   "source": [
    "for i in range(0,round(crg_5424_with_labels_O.shape[0]/limit)):\n",
    "    ind_5424 = crg_5424_with_labels_O.sample(n=limit)\n",
    "    ind_5424.to_csv('split_datasets/label/O_WL_crg_5424_Split_0{}.csv'.format(i), index=False)\n",
    "print(round(crg_5424_with_labels_O.shape[0]/limit))"
   ]
  },
  {
   "cell_type": "code",
   "execution_count": 34,
   "metadata": {},
   "outputs": [
    {
     "name": "stdout",
     "output_type": "stream",
     "text": [
      "6\n"
     ]
    }
   ],
   "source": [
    "for i in range(0,round(crg_6144_with_labels_O.shape[0]/limit)):\n",
    "    ind_6144 = crg_6144_with_labels_O.sample(n=limit)\n",
    "    ind_6144.to_csv('split_datasets/label/O_WL_crg_6144_Split_0{}.csv'.format(i), index=False)\n",
    "print(round(crg_6144_with_labels_O.shape[0]/limit))"
   ]
  },
  {
   "cell_type": "markdown",
   "metadata": {},
   "source": [
    "### Presencia"
   ]
  },
  {
   "cell_type": "code",
   "execution_count": 35,
   "metadata": {},
   "outputs": [
    {
     "name": "stdout",
     "output_type": "stream",
     "text": [
      "86\n"
     ]
    }
   ],
   "source": [
    "for i in range(0,round(crg_1000_with_labels_P.shape[0]/limit)):\n",
    "    ind_1000 = crg_1000_with_labels_P.sample(n=limit)\n",
    "    ind_1000.to_csv('split_datasets/label/P_WL_crg_1000_Split_0{}.csv'.format(i), index=False)\n",
    "print(round(crg_1000_with_labels_P.shape[0]/limit))"
   ]
  },
  {
   "cell_type": "code",
   "execution_count": 36,
   "metadata": {},
   "outputs": [
    {
     "name": "stdout",
     "output_type": "stream",
     "text": [
      "23\n"
     ]
    }
   ],
   "source": [
    "for i in range(0,round(crg_5192_with_labels_P.shape[0]/limit)):\n",
    "    ind_5192 = crg_5192_with_labels_P.sample(n=limit)\n",
    "    ind_5192.to_csv('split_datasets/label/P_WL_crg_5192_Split_0{}.csv'.format(i), index=False)\n",
    "print(round(crg_5192_with_labels_P.shape[0]/limit))"
   ]
  },
  {
   "cell_type": "code",
   "execution_count": 37,
   "metadata": {},
   "outputs": [
    {
     "name": "stdout",
     "output_type": "stream",
     "text": [
      "4\n"
     ]
    }
   ],
   "source": [
    "for i in range(0,round(crg_5424_with_labels_P.shape[0]/limit)):\n",
    "    ind_5424 = crg_5424_with_labels_P.sample(n=limit)\n",
    "    ind_5424.to_csv('split_datasets/label/P_WL_crg_5424_Split_0{}.csv'.format(i), index=False)\n",
    "print(round(crg_5424_with_labels_P.shape[0]/limit))"
   ]
  },
  {
   "cell_type": "code",
   "execution_count": 38,
   "metadata": {},
   "outputs": [
    {
     "name": "stdout",
     "output_type": "stream",
     "text": [
      "6\n"
     ]
    }
   ],
   "source": [
    "for i in range(0,round(crg_6144_with_labels_P.shape[0]/limit)):\n",
    "    ind_6144 = crg_6144_with_labels_P.sample(n=limit)\n",
    "    ind_6144.to_csv('split_datasets/label/P_WL_crg_6144_Split_0{}.csv'.format(i), index=False)\n",
    "print(round(crg_6144_with_labels_P.shape[0]/limit))"
   ]
  },
  {
   "cell_type": "markdown",
   "metadata": {},
   "source": [
    "# Creamos 50 particiones de X_train, X_test, y_train, y_test "
   ]
  },
  {
   "cell_type": "code",
   "execution_count": 39,
   "metadata": {},
   "outputs": [],
   "source": [
    "from sklearn.model_selection import train_test_split\n",
    "from random import randint"
   ]
  },
  {
   "cell_type": "code",
   "execution_count": 40,
   "metadata": {},
   "outputs": [],
   "source": [
    "max_5424=3\n",
    "max_5192=22\n",
    "max_1000=85\n",
    "max_6144=5"
   ]
  },
  {
   "cell_type": "code",
   "execution_count": 41,
   "metadata": {},
   "outputs": [],
   "source": [
    "ran_1000 = [52, 75, 84, 22, 26, 29, 2, 69, 35, 70, 72, 41, 31, 79, 84, 49, 44, 17, 75, 24, 0, 57, 6, 3, 78, 71, 45, 57, 50, 46, 34, 85, 73, 76, 18, 60, 51, 76, 12, 82, 55, 49, 69, 42, 85, 4, 29, 19, 71, 41]\n",
    "#[randint(0, (max_1000)) for p in range(0, 50)]\n",
    "ran_5192 = [9, 2, 14, 1, 3, 0, 17, 10, 15, 19, 18, 11, 1, 22, 2, 20, 10, 16, 11, 13, 21, 5, 9, 8, 1, 18, 8, 15, 9, 18, 8, 12, 12, 20, 13, 0, 11, 18, 1, 12, 16, 8, 4, 16, 9, 21, 4, 22, 19, 17]\n",
    "#[randint(0, (max_5192)) for p in range(1, 50)]\n",
    "ran_6144 = [3, 0, 2, 4, 4, 4, 4, 1, 3, 5, 2, 2, 3, 1, 5, 4, 5, 1, 3, 4, 3, 2, 0, 1, 1, 4, 4, 5, 4, 0, 3, 1, 5, 4, 1, 5, 4, 3, 1, 3, 4, 2, 4, 5, 3, 0, 1, 2, 3, 3]\n",
    "#randint(0, (max_6144)) for p in range(1, 50)]\n",
    "ran_5424 = [0, 3, 3, 1, 0, 0, 2, 3, 0, 1, 0, 1, 2, 3, 0, 2, 3, 2, 3, 3, 2, 1, 2, 0, 0, 1, 0, 2, 0, 2, 3, 1, 3, 0, 0, 1, 1, 0, 2, 2, 0, 1, 3, 1, 1, 3, 2, 2, 0, 2]\n",
    "#[randint(0, (max_5424)) for p in range(1, 50)]"
   ]
  },
  {
   "cell_type": "markdown",
   "metadata": {},
   "source": [
    "### Ocurrencia"
   ]
  },
  {
   "cell_type": "code",
   "execution_count": 42,
   "metadata": {},
   "outputs": [],
   "source": [
    "O_WL_crg_1000=[]\n",
    "for i in ran_1000:\n",
    "    A = pd.read_csv('split_datasets/label/O_WL_crg_1000_Split_0{}.csv'.format(i))\n",
    "    O_WL_crg_1000.append(A)\n",
    "        \n",
    "O_WL_crg_5192=[]\n",
    "for i in ran_5192:\n",
    "    B = pd.read_csv('split_datasets/label/O_WL_crg_5192_Split_0{}.csv'.format(i))\n",
    "    O_WL_crg_5192.append(B)\n",
    "\n",
    "O_WL_crg_5424=[]\n",
    "for i in ran_5424:\n",
    "    C = pd.read_csv('split_datasets/label/O_WL_crg_5424_Split_0{}.csv'.format(i))\n",
    "    O_WL_crg_5424.append(C)\n",
    "    \n",
    "O_WL_crg_6144=[]\n",
    "for i in ran_6144:\n",
    "    D = pd.read_csv('split_datasets/label/O_WL_crg_6144_Split_0{}.csv'.format(i))\n",
    "    O_WL_crg_6144.append(D)"
   ]
  },
  {
   "cell_type": "code",
   "execution_count": 43,
   "metadata": {},
   "outputs": [
    {
     "name": "stdout",
     "output_type": "stream",
     "text": [
      "(2735, 2268)\n"
     ]
    },
    {
     "data": {
      "text/plain": [
       "count    2735.000000\n",
       "mean        0.583547\n",
       "std         1.390828\n",
       "min         0.000000\n",
       "25%         0.000000\n",
       "50%         0.000000\n",
       "75%         1.000000\n",
       "max        21.000000\n",
       "Name: M01AE, dtype: float64"
      ]
     },
     "execution_count": 43,
     "metadata": {},
     "output_type": "execute_result"
    }
   ],
   "source": [
    "joined = pd.concat([O_WL_crg_1000[0], O_WL_crg_5192[0], O_WL_crg_5424[0], O_WL_crg_6144[0], O_WL_crg_7071],sort=False)\n",
    "print(joined.shape)\n",
    "joined['M01AE'].describe()"
   ]
  },
  {
   "cell_type": "markdown",
   "metadata": {},
   "source": [
    "### Todos CRGs"
   ]
  },
  {
   "cell_type": "code",
   "execution_count": 44,
   "metadata": {
    "scrolled": true
   },
   "outputs": [
    {
     "name": "stdout",
     "output_type": "stream",
     "text": [
      "0\n",
      "1\n",
      "2\n",
      "3\n",
      "4\n",
      "5\n",
      "6\n",
      "7\n",
      "8\n",
      "9\n",
      "10\n",
      "11\n",
      "12\n",
      "13\n",
      "14\n",
      "15\n",
      "16\n",
      "17\n",
      "18\n",
      "19\n",
      "20\n",
      "21\n",
      "22\n",
      "23\n",
      "24\n",
      "25\n",
      "26\n",
      "27\n",
      "28\n",
      "29\n",
      "30\n",
      "31\n",
      "32\n",
      "33\n",
      "34\n",
      "35\n",
      "36\n",
      "37\n",
      "38\n",
      "39\n",
      "40\n",
      "41\n",
      "42\n",
      "43\n",
      "44\n",
      "45\n",
      "46\n",
      "47\n",
      "48\n",
      "49\n"
     ]
    }
   ],
   "source": [
    "for j in range(0, 50):\n",
    "    print(j)\n",
    "    joined = pd.concat([O_WL_crg_1000[j], O_WL_crg_5192[j], O_WL_crg_5424[j], O_WL_crg_6144[j], O_WL_crg_7071],sort=False)\n",
    "    \n",
    "    data = joined[joined.columns[:2265]]\n",
    "    labels = joined[joined.columns[2265:]]\n",
    "    \n",
    "    X_train, X_test, y_train, y_test = train_test_split(data, labels, test_size=0.2, stratify= labels)\n",
    "    \n",
    "    X_test.to_csv('test_train_dataset/label/O_WL_A_{}_X_test.csv'.format(j), index=False)\n",
    "    X_train.to_csv('test_train_dataset/label/O_WL_A_{}_X_train.csv'.format(j), index=False)\n",
    "    y_train.to_csv('test_train_dataset/label/O_WL_A_{}_y_train.csv'.format(j), index=False)\n",
    "    y_test.to_csv('test_train_dataset/label/O_WL_A_{}_y_test.csv'.format(j), index=False)"
   ]
  },
  {
   "cell_type": "markdown",
   "metadata": {},
   "source": [
    "### Sin CRG 1000"
   ]
  },
  {
   "cell_type": "code",
   "execution_count": 45,
   "metadata": {
    "scrolled": true
   },
   "outputs": [
    {
     "name": "stdout",
     "output_type": "stream",
     "text": [
      "0\n",
      "1\n",
      "2\n",
      "3\n",
      "4\n",
      "5\n",
      "6\n",
      "7\n",
      "8\n",
      "9\n",
      "10\n",
      "11\n",
      "12\n",
      "13\n",
      "14\n",
      "15\n",
      "16\n",
      "17\n",
      "18\n",
      "19\n",
      "20\n",
      "21\n",
      "22\n",
      "23\n",
      "24\n",
      "25\n",
      "26\n",
      "27\n",
      "28\n",
      "29\n",
      "30\n",
      "31\n",
      "32\n",
      "33\n",
      "34\n",
      "35\n",
      "36\n",
      "37\n",
      "38\n",
      "39\n",
      "40\n",
      "41\n",
      "42\n",
      "43\n",
      "44\n",
      "45\n",
      "46\n",
      "47\n",
      "48\n",
      "49\n"
     ]
    }
   ],
   "source": [
    "for j in range(0, 50):\n",
    "    print(j)\n",
    "    joined = pd.concat([O_WL_crg_5192[j], O_WL_crg_5424[j], O_WL_crg_6144[j], O_WL_crg_7071],sort=False)\n",
    "    \n",
    "    data = joined[joined.columns[:2265]]\n",
    "    labels = joined[joined.columns[2265:]]\n",
    "    \n",
    "    X_train, X_test, y_train, y_test = train_test_split(data, labels, test_size=0.2, stratify= labels)\n",
    "    \n",
    "    X_test.to_csv('test_train_dataset/label/O_WL_WO_{}_X_test.csv'.format(j), index=False)\n",
    "    X_train.to_csv('test_train_dataset/label/O_WL_WO_{}_X_train.csv'.format(j), index=False)\n",
    "    y_train.to_csv('test_train_dataset/label/O_WL_WO_{}_y_train.csv'.format(j), index=False)\n",
    "    y_test.to_csv('test_train_dataset/label/O_WL_WO_{}_y_test.csv'.format(j), index=False)"
   ]
  },
  {
   "cell_type": "markdown",
   "metadata": {},
   "source": [
    "### Presencia"
   ]
  },
  {
   "cell_type": "code",
   "execution_count": 46,
   "metadata": {},
   "outputs": [],
   "source": [
    "P_WL_crg_1000=[]\n",
    "for i in ran_1000:\n",
    "    A = pd.read_csv('split_datasets/label/P_WL_crg_1000_Split_0{}.csv'.format(i))\n",
    "    P_WL_crg_1000.append(A)\n",
    "        \n",
    "P_WL_crg_5192=[]\n",
    "for i in ran_5192:\n",
    "    B = pd.read_csv('split_datasets/label/P_WL_crg_5192_Split_0{}.csv'.format(i))\n",
    "    P_WL_crg_5192.append(B)\n",
    "\n",
    "P_WL_crg_5424=[]\n",
    "for i in ran_5424:\n",
    "    C = pd.read_csv('split_datasets/label/P_WL_crg_5424_Split_0{}.csv'.format(i))\n",
    "    P_WL_crg_5424.append(C)\n",
    "    \n",
    "P_WL_crg_6144=[]\n",
    "for i in ran_6144:\n",
    "    D = pd.read_csv('split_datasets/label/P_WL_crg_6144_Split_0{}.csv'.format(i))\n",
    "    P_WL_crg_6144.append(D)"
   ]
  },
  {
   "cell_type": "code",
   "execution_count": 47,
   "metadata": {},
   "outputs": [
    {
     "name": "stdout",
     "output_type": "stream",
     "text": [
      "(2735, 2268)\n"
     ]
    },
    {
     "data": {
      "text/plain": [
       "count    2735.000000\n",
       "mean        0.286289\n",
       "std         0.452109\n",
       "min         0.000000\n",
       "25%         0.000000\n",
       "50%         0.000000\n",
       "75%         1.000000\n",
       "max         1.000000\n",
       "Name: M01AE, dtype: float64"
      ]
     },
     "execution_count": 47,
     "metadata": {},
     "output_type": "execute_result"
    }
   ],
   "source": [
    "joined = pd.concat([P_WL_crg_1000[0], P_WL_crg_5192[0], P_WL_crg_5424[0], P_WL_crg_6144[0], P_WL_crg_7071],sort=False)\n",
    "print(joined.shape)\n",
    "joined['M01AE'].describe()"
   ]
  },
  {
   "cell_type": "markdown",
   "metadata": {},
   "source": [
    "## Todos los CRG"
   ]
  },
  {
   "cell_type": "code",
   "execution_count": 48,
   "metadata": {
    "scrolled": true
   },
   "outputs": [
    {
     "name": "stdout",
     "output_type": "stream",
     "text": [
      "0\n",
      "1\n",
      "2\n",
      "3\n",
      "4\n",
      "5\n",
      "6\n",
      "7\n",
      "8\n",
      "9\n",
      "10\n",
      "11\n",
      "12\n",
      "13\n",
      "14\n",
      "15\n",
      "16\n",
      "17\n",
      "18\n",
      "19\n",
      "20\n",
      "21\n",
      "22\n",
      "23\n",
      "24\n",
      "25\n",
      "26\n",
      "27\n",
      "28\n",
      "29\n",
      "30\n",
      "31\n",
      "32\n",
      "33\n",
      "34\n",
      "35\n",
      "36\n",
      "37\n",
      "38\n",
      "39\n",
      "40\n",
      "41\n",
      "42\n",
      "43\n",
      "44\n",
      "45\n",
      "46\n",
      "47\n",
      "48\n",
      "49\n"
     ]
    }
   ],
   "source": [
    "for j in range(0, 50):\n",
    "    print(j)\n",
    "    joined = pd.concat([P_WL_crg_1000[j], P_WL_crg_5192[j], P_WL_crg_5424[j], P_WL_crg_6144[j], P_WL_crg_7071],sort=False)\n",
    "    \n",
    "    data = joined[joined.columns[:2265]]\n",
    "    labels = joined[joined.columns[2265:]]\n",
    "    \n",
    "    X_train, X_test, y_train, y_test = train_test_split(data, labels,test_size=0.2, stratify= labels)\n",
    "    \n",
    "    X_test.to_csv('test_train_dataset/label/P_WL_A_{}_X_test.csv'.format(j), index=False)\n",
    "    X_train.to_csv('test_train_dataset/label/P_WL_A_{}_X_train.csv'.format(j), index=False)\n",
    "    y_train.to_csv('test_train_dataset/label/P_WL_A_{}_y_train.csv'.format(j), index=False)\n",
    "    y_test.to_csv('test_train_dataset/label/P_WL_A_{}_y_test.csv'.format(j), index=False)"
   ]
  },
  {
   "cell_type": "markdown",
   "metadata": {},
   "source": [
    "## Sin CRG 1000"
   ]
  },
  {
   "cell_type": "code",
   "execution_count": 49,
   "metadata": {
    "scrolled": true
   },
   "outputs": [
    {
     "name": "stdout",
     "output_type": "stream",
     "text": [
      "0\n",
      "1\n",
      "2\n",
      "3\n",
      "4\n",
      "5\n",
      "6\n",
      "7\n",
      "8\n",
      "9\n",
      "10\n",
      "11\n",
      "12\n",
      "13\n",
      "14\n",
      "15\n",
      "16\n",
      "17\n",
      "18\n",
      "19\n",
      "20\n",
      "21\n",
      "22\n",
      "23\n",
      "24\n",
      "25\n",
      "26\n",
      "27\n",
      "28\n",
      "29\n",
      "30\n",
      "31\n",
      "32\n",
      "33\n",
      "34\n",
      "35\n",
      "36\n",
      "37\n",
      "38\n",
      "39\n",
      "40\n",
      "41\n",
      "42\n",
      "43\n",
      "44\n",
      "45\n",
      "46\n",
      "47\n",
      "48\n",
      "49\n"
     ]
    }
   ],
   "source": [
    "for j in range(0, 50):\n",
    "    print(j)\n",
    "    joined = pd.concat([P_WL_crg_5192[j], P_WL_crg_5424[j], P_WL_crg_6144[j], P_WL_crg_7071],sort=False)\n",
    "    \n",
    "    data = joined[joined.columns[:2265]]\n",
    "    labels = joined[joined.columns[2265:]]\n",
    "    \n",
    "    X_train, X_test, y_train, y_test = train_test_split(data, labels,test_size=0.2, stratify= labels)\n",
    "    \n",
    "    X_test.to_csv('test_train_dataset/label/P_WL_WO_{}_X_test.csv'.format(j), index=False)\n",
    "    X_train.to_csv('test_train_dataset/label/P_WL_WO_{}_X_train.csv'.format(j), index=False)\n",
    "    y_train.to_csv('test_train_dataset/label/P_WL_WO_{}_y_train.csv'.format(j), index=False)\n",
    "    y_test.to_csv('test_train_dataset/label/P_WL_WO_{}_y_test.csv'.format(j), index=False)"
   ]
  },
  {
   "cell_type": "code",
   "execution_count": null,
   "metadata": {},
   "outputs": [],
   "source": []
  },
  {
   "cell_type": "code",
   "execution_count": null,
   "metadata": {},
   "outputs": [],
   "source": []
  }
 ],
 "metadata": {
  "kernelspec": {
   "display_name": "Python 3",
   "language": "python",
   "name": "python3"
  },
  "language_info": {
   "codemirror_mode": {
    "name": "ipython",
    "version": 3
   },
   "file_extension": ".py",
   "mimetype": "text/x-python",
   "name": "python",
   "nbconvert_exporter": "python",
   "pygments_lexer": "ipython3",
   "version": "3.6.8"
  }
 },
 "nbformat": 4,
 "nbformat_minor": 2
}
